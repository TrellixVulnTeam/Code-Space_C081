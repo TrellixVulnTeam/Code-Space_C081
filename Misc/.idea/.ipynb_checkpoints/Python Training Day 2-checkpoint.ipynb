{
 "cells": [
  {
   "cell_type": "code",
   "execution_count": 3,
   "id": "d23d02f5",
   "metadata": {},
   "outputs": [
    {
     "name": "stdout",
     "output_type": "stream",
     "text": [
      "['spam', 'bacon', 'ham', 'eggs']\n"
     ]
    }
   ],
   "source": [
    "ingredients = [\"SPAM\", \"BaCon\", \"haM\", \"EggS\"]\n",
    "ingredients = [i.lower() for i in ingredients]\n",
    "print(ingredients)"
   ]
  },
  {
   "cell_type": "code",
   "execution_count": 12,
   "id": "58a6d121",
   "metadata": {},
   "outputs": [
    {
     "name": "stdout",
     "output_type": "stream",
     "text": [
      "['johnson', 'brewer', 'smith', 'rogers', 'wilson', 'jones', 'amrstrong', 'ray', 'rich']\n"
     ]
    }
   ],
   "source": [
    "names = [\"johnson\", \"brewer\", \"smith\", \"rogers\", \"wilson\", \"jones\", \"amrstrong\", \"ray\", \"rich\"]\n",
    "print(names)"
   ]
  },
  {
   "cell_type": "code",
   "execution_count": 16,
   "id": "54bda755",
   "metadata": {},
   "outputs": [
    {
     "name": "stdout",
     "output_type": "stream",
     "text": [
      "['Johnson', 'Brewer', 'Smith', 'Rogers', 'Wilson', 'Jones', 'Amrstrong', 'Ray', 'Rich']\n"
     ]
    }
   ],
   "source": [
    "names_capitalized = []\n",
    "for i in names:\n",
    "    names_capitalized.append(i.capitalize())\n",
    "print(names_capitalized)"
   ]
  },
  {
   "cell_type": "code",
   "execution_count": 20,
   "id": "15b7556c",
   "metadata": {},
   "outputs": [
    {
     "name": "stdout",
     "output_type": "stream",
     "text": [
      "['Johnson', 'Brewer', 'Smith', 'Rogers', 'Wilson', 'Jones', 'Amrstrong', 'Ray', 'Rich']\n"
     ]
    }
   ],
   "source": [
    "names_capitalized_1 = [i.capitalize() for i in names ]\n",
    "print(names_capitalized_1)"
   ]
  },
  {
   "cell_type": "code",
   "execution_count": 27,
   "id": "a860b070",
   "metadata": {},
   "outputs": [
    {
     "name": "stdout",
     "output_type": "stream",
     "text": [
      "[0, 2, 4, 6, 8, 10, 12, 14, 16, 18, 20, 22, 24, 26, 28, 30, 32, 34, 36, 38, 40, 42, 44, 46, 48, 50]\n"
     ]
    }
   ],
   "source": [
    "even_numbers = []\n",
    "for i in range(0,51):\n",
    "    if i%2 == 0:\n",
    "        even_numbers.append(i)\n",
    "print(even_numbers)"
   ]
  },
  {
   "cell_type": "code",
   "execution_count": 24,
   "id": "a3de483a",
   "metadata": {},
   "outputs": [
    {
     "name": "stdout",
     "output_type": "stream",
     "text": [
      "[0, 2, 4, 6, 8, 10, 12, 14, 16, 18, 20, 22, 24, 26, 28, 30, 32, 34, 36, 38, 40, 42, 44, 46, 48, 50]\n"
     ]
    }
   ],
   "source": [
    "even_numbers_updated = [i for i in range(0,51) if i%2 ==0]\n",
    "print(even_numbers_updated)"
   ]
  },
  {
   "cell_type": "code",
   "execution_count": 26,
   "id": "c2a0af18",
   "metadata": {},
   "outputs": [
    {
     "name": "stdout",
     "output_type": "stream",
     "text": [
      "{1234: 'john', 1235: 'claire', 1236: 'danny'}\n"
     ]
    }
   ],
   "source": [
    "employees = {\"john\": 1234, \"claire\": 1235, \"danny\": 1236}\n",
    "\n",
    "employees_updated = {employees[i]:i for i in employees}\n",
    "print(employees_updated)"
   ]
  },
  {
   "cell_type": "code",
   "execution_count": 28,
   "id": "d0405a0f",
   "metadata": {},
   "outputs": [],
   "source": [
    "def quadraple(x):\n",
    "    value = x*4\n",
    "    return value"
   ]
  },
  {
   "cell_type": "code",
   "execution_count": 29,
   "id": "b1172784",
   "metadata": {},
   "outputs": [
    {
     "data": {
      "text/plain": [
       "36"
      ]
     },
     "execution_count": 29,
     "metadata": {},
     "output_type": "execute_result"
    }
   ],
   "source": [
    "quadraple(9)"
   ]
  },
  {
   "cell_type": "code",
   "execution_count": 32,
   "id": "da3ee378",
   "metadata": {},
   "outputs": [
    {
     "name": "stdout",
     "output_type": "stream",
     "text": [
      "40\n",
      "200\n",
      "300\n"
     ]
    }
   ],
   "source": [
    "numbers = [10, 50, 75]\n",
    "for i in numbers:\n",
    "    print(quadraple(i))"
   ]
  },
  {
   "cell_type": "code",
   "execution_count": 39,
   "id": "a8106c96",
   "metadata": {},
   "outputs": [
    {
     "data": {
      "text/plain": [
       "37.8"
      ]
     },
     "execution_count": 39,
     "metadata": {},
     "output_type": "execute_result"
    }
   ],
   "source": [
    "def F_to_C(F):\n",
    "    C = 5 * ((F-32)/9)\n",
    "    return round(C,1)\n",
    "\n",
    "F_to_C(100)"
   ]
  },
  {
   "cell_type": "code",
   "execution_count": 42,
   "id": "b890876a",
   "metadata": {},
   "outputs": [
    {
     "data": {
      "text/plain": [
       "113.0"
      ]
     },
     "execution_count": 42,
     "metadata": {},
     "output_type": "execute_result"
    }
   ],
   "source": [
    "def C_to_F (C):\n",
    "    F = ((C/5)*9)+32\n",
    "    return round(F,1)\n",
    "\n",
    "C_to_F(45)"
   ]
  },
  {
   "cell_type": "code",
   "execution_count": 66,
   "id": "51ee4ba3",
   "metadata": {},
   "outputs": [
    {
     "name": "stdout",
     "output_type": "stream",
     "text": [
      "Enter the temperature100F\n"
     ]
    },
    {
     "data": {
      "text/plain": [
       "37.8"
      ]
     },
     "execution_count": 66,
     "metadata": {},
     "output_type": "execute_result"
    }
   ],
   "source": [
    "def convert_temperature(x):\n",
    "    unit = x[-1]\n",
    "    degrees = int(x[:-1])\n",
    "    if unit == 'C':\n",
    "        result = ((degrees/5)*9)+32\n",
    "    elif unit == 'F':\n",
    "        result = (5 * (degrees-32)/9)\n",
    "    else:\n",
    "        print (\"Please enter the temperature in C or F\")\n",
    "    return round(result,1)\n",
    "\n",
    "convert_temperature(input(\"Enter the temperature\"))"
   ]
  },
  {
   "cell_type": "code",
   "execution_count": 57,
   "id": "67a7f898",
   "metadata": {},
   "outputs": [
    {
     "name": "stdout",
     "output_type": "stream",
     "text": [
      "F\n",
      "100\n"
     ]
    }
   ],
   "source": [
    "temp = '100F'\n",
    "print(temp[-1])\n",
    "print(temp[:-1])"
   ]
  },
  {
   "cell_type": "code",
   "execution_count": 69,
   "id": "34b5fb5a",
   "metadata": {},
   "outputs": [],
   "source": [
    "def is_divisible_by_7(x):\n",
    "    result = not(bool(x%7))\n",
    "    return result\n",
    "        "
   ]
  },
  {
   "cell_type": "code",
   "execution_count": 75,
   "id": "41687668",
   "metadata": {},
   "outputs": [
    {
     "data": {
      "text/plain": [
       "True"
      ]
     },
     "execution_count": 75,
     "metadata": {},
     "output_type": "execute_result"
    }
   ],
   "source": [
    "is_divisible_by_7(14)"
   ]
  },
  {
   "cell_type": "code",
   "execution_count": 76,
   "id": "8822d908",
   "metadata": {},
   "outputs": [
    {
     "data": {
      "text/plain": [
       "False"
      ]
     },
     "execution_count": 76,
     "metadata": {},
     "output_type": "execute_result"
    }
   ],
   "source": [
    "is_divisible_by_7(23)"
   ]
  },
  {
   "cell_type": "code",
   "execution_count": 84,
   "id": "eb6ab14b",
   "metadata": {},
   "outputs": [],
   "source": [
    "def is_pangram(x):\n",
    "    alphabets = 'abcdefghijklmnopqrstuvwxyz'\n",
    "    for i in alphabets:\n",
    "        if i not in x.lower():\n",
    "            return False\n",
    "    return True"
   ]
  },
  {
   "cell_type": "code",
   "execution_count": 85,
   "id": "0cbc2930",
   "metadata": {},
   "outputs": [
    {
     "data": {
      "text/plain": [
       "True"
      ]
     },
     "execution_count": 85,
     "metadata": {},
     "output_type": "execute_result"
    }
   ],
   "source": [
    "is_pangram(\"The quick brown fox jumps over the lazy dog\")"
   ]
  },
  {
   "cell_type": "code",
   "execution_count": 87,
   "id": "8a056dd6",
   "metadata": {},
   "outputs": [],
   "source": [
    "import string\n",
    "\n",
    "def is_pangram_new(x):\n",
    "    alphabet = list(string.ascii_lowercase)\n",
    "    for i in alphabet:\n",
    "        if i not in x.lower():\n",
    "            return False\n",
    "    return True\n",
    "    "
   ]
  },
  {
   "cell_type": "code",
   "execution_count": 88,
   "id": "b44eadf0",
   "metadata": {},
   "outputs": [
    {
     "data": {
      "text/plain": [
       "True"
      ]
     },
     "execution_count": 88,
     "metadata": {},
     "output_type": "execute_result"
    }
   ],
   "source": [
    "is_pangram_new(\"The quick brown fox jumps over the lazy dog\")"
   ]
  },
  {
   "cell_type": "code",
   "execution_count": 95,
   "id": "d8740ac0",
   "metadata": {},
   "outputs": [],
   "source": [
    "def add_thousands_separator(x):\n",
    "    if type(x)==int:\n",
    "        result = str(x/1000).replace('.',',')\n",
    "    else:\n",
    "        print(\"Enter an integer\")\n",
    "    return result\n",
    "    "
   ]
  },
  {
   "cell_type": "code",
   "execution_count": 96,
   "id": "f00d47f9",
   "metadata": {},
   "outputs": [
    {
     "data": {
      "text/plain": [
       "'1,234'"
      ]
     },
     "execution_count": 96,
     "metadata": {},
     "output_type": "execute_result"
    }
   ],
   "source": [
    "add_thousands_separator(1234)"
   ]
  },
  {
   "cell_type": "code",
   "execution_count": 97,
   "id": "b9a7fdef",
   "metadata": {},
   "outputs": [
    {
     "data": {
      "text/plain": [
       "'12,345'"
      ]
     },
     "execution_count": 97,
     "metadata": {},
     "output_type": "execute_result"
    }
   ],
   "source": [
    "add_thousands_separator(12345)"
   ]
  },
  {
   "cell_type": "code",
   "execution_count": 135,
   "id": "b8d22653",
   "metadata": {},
   "outputs": [
    {
     "name": "stdout",
     "output_type": "stream",
     "text": [
      "1,234\n"
     ]
    }
   ],
   "source": [
    "print(f\"{1234:,}\")"
   ]
  },
  {
   "cell_type": "code",
   "execution_count": 101,
   "id": "fd01ab0e",
   "metadata": {},
   "outputs": [],
   "source": [
    "for x in range(10):\n",
    "    pass"
   ]
  },
  {
   "cell_type": "code",
   "execution_count": 105,
   "id": "2522b752",
   "metadata": {},
   "outputs": [
    {
     "name": "stdout",
     "output_type": "stream",
     "text": [
      "Starter:  soup\n",
      "Main:     steak\n",
      "Dessert:  ice cream\n"
     ]
    }
   ],
   "source": [
    "def menu(starter, main, dessert):\n",
    "    print(f\"Starter:  {starter}\")\n",
    "    print(f\"Main:     {main}\")\n",
    "    print(f\"Dessert:  {dessert}\")\n",
    "\n",
    "menu(dessert=\"ice cream\", main=\"steak\", starter=\"soup\")"
   ]
  },
  {
   "cell_type": "code",
   "execution_count": 107,
   "id": "25998d04",
   "metadata": {},
   "outputs": [
    {
     "name": "stdout",
     "output_type": "stream",
     "text": [
      "Starter:  soup\n",
      "Main:     steak\n",
      "Dessert:  ice cream\n"
     ]
    }
   ],
   "source": [
    "menu(dessert=\"ice cream\", main=\"steak\", starter=\"soup\")"
   ]
  },
  {
   "cell_type": "code",
   "execution_count": 108,
   "id": "eab16b0e",
   "metadata": {},
   "outputs": [],
   "source": [
    "def multiply(x,y):\n",
    "    result=x*y\n",
    "    return result"
   ]
  },
  {
   "cell_type": "code",
   "execution_count": 109,
   "id": "ac21a72c",
   "metadata": {},
   "outputs": [
    {
     "data": {
      "text/plain": [
       "20"
      ]
     },
     "execution_count": 109,
     "metadata": {},
     "output_type": "execute_result"
    }
   ],
   "source": [
    "multiply(4,5)"
   ]
  },
  {
   "cell_type": "code",
   "execution_count": 110,
   "id": "1dab92fd",
   "metadata": {},
   "outputs": [],
   "source": [
    "def multiply(x,y=1):\n",
    "    result=x*y\n",
    "    return result"
   ]
  },
  {
   "cell_type": "code",
   "execution_count": 111,
   "id": "b878ccaf",
   "metadata": {},
   "outputs": [
    {
     "data": {
      "text/plain": [
       "4"
      ]
     },
     "execution_count": 111,
     "metadata": {},
     "output_type": "execute_result"
    }
   ],
   "source": [
    "multiply(4)"
   ]
  },
  {
   "cell_type": "code",
   "execution_count": 112,
   "id": "da223e6b",
   "metadata": {},
   "outputs": [
    {
     "ename": "TypeError",
     "evalue": "multiply() takes from 1 to 2 positional arguments but 4 were given",
     "output_type": "error",
     "traceback": [
      "\u001b[0;31m---------------------------------------------------------------------------\u001b[0m",
      "\u001b[0;31mTypeError\u001b[0m                                 Traceback (most recent call last)",
      "\u001b[0;32m/var/folders/f5/fqkbkzzx1sdfvn4c1hstzl1w0000gq/T/ipykernel_16576/858687219.py\u001b[0m in \u001b[0;36m<module>\u001b[0;34m\u001b[0m\n\u001b[0;32m----> 1\u001b[0;31m \u001b[0mmultiply\u001b[0m\u001b[0;34m(\u001b[0m\u001b[0;36m4\u001b[0m\u001b[0;34m,\u001b[0m\u001b[0;36m5\u001b[0m\u001b[0;34m,\u001b[0m\u001b[0;36m6\u001b[0m\u001b[0;34m,\u001b[0m\u001b[0;36m7\u001b[0m\u001b[0;34m)\u001b[0m\u001b[0;34m\u001b[0m\u001b[0;34m\u001b[0m\u001b[0m\n\u001b[0m",
      "\u001b[0;31mTypeError\u001b[0m: multiply() takes from 1 to 2 positional arguments but 4 were given"
     ]
    }
   ],
   "source": [
    "multiply(4,5,6,7)"
   ]
  },
  {
   "cell_type": "code",
   "execution_count": 123,
   "id": "c6ddab78",
   "metadata": {},
   "outputs": [],
   "source": [
    "def multiply(x,y=1,*args):\n",
    "    result=x*y\n",
    "    for arg in args:\n",
    "        result*=arg\n",
    "    return result"
   ]
  },
  {
   "cell_type": "code",
   "execution_count": 126,
   "id": "6680f189",
   "metadata": {},
   "outputs": [
    {
     "data": {
      "text/plain": [
       "840"
      ]
     },
     "execution_count": 126,
     "metadata": {},
     "output_type": "execute_result"
    }
   ],
   "source": [
    "multiply(4,5,6,7)"
   ]
  },
  {
   "cell_type": "code",
   "execution_count": 137,
   "id": "43236601",
   "metadata": {},
   "outputs": [],
   "source": [
    "with open(\"hello.txt\",mode='w') as f:\n",
    "    f.write(\"Hello World!\")"
   ]
  },
  {
   "cell_type": "code",
   "execution_count": 145,
   "id": "0e261e80",
   "metadata": {},
   "outputs": [
    {
     "name": "stdout",
     "output_type": "stream",
     "text": [
      "Hello World!\n"
     ]
    }
   ],
   "source": [
    "with open(\"hello.txt\") as f:\n",
    "    text=f.read()\n",
    "    print(text)"
   ]
  },
  {
   "cell_type": "code",
   "execution_count": 146,
   "id": "d0400b73",
   "metadata": {},
   "outputs": [
    {
     "name": "stdout",
     "output_type": "stream",
     "text": [
      "The Zen of Python, by Tim Peters\n",
      "\n",
      "Beautiful is better than ugly.\n",
      "Explicit is better than implicit.\n",
      "Simple is better than complex.\n",
      "Complex is better than complicated.\n",
      "Flat is better than nested.\n",
      "Sparse is better than dense.\n",
      "Readability counts.\n",
      "Special cases aren't special enough to break the rules.\n",
      "Although practicality beats purity.\n",
      "Errors should never pass silently.\n",
      "Unless explicitly silenced.\n",
      "In the face of ambiguity, refuse the temptation to guess.\n",
      "There should be one-- and preferably only one --obvious way to do it.\n",
      "Although that way may not be obvious at first unless you're Dutch.\n",
      "Now is better than never.\n",
      "Although never is often better than *right* now.\n",
      "If the implementation is hard to explain, it's a bad idea.\n",
      "If the implementation is easy to explain, it may be a good idea.\n",
      "Namespaces are one honking great idea -- let's do more of those!\n"
     ]
    }
   ],
   "source": [
    "import this"
   ]
  },
  {
   "cell_type": "code",
   "execution_count": 147,
   "id": "8f9d4f2c",
   "metadata": {},
   "outputs": [],
   "source": [
    "with open(\"zen.txt\", mode='w') as f:\n",
    "    text=\"\"\"Beautiful is better than ugly.\n",
    "Explicit is better than implicit.\n",
    "Simple is better than complex.\n",
    "Complex is better than complicated.\n",
    "Flat is better than nested.\n",
    "Sparse is better than dense.\n",
    "Readability counts.\n",
    "Special cases aren't special enough to break the rules.\n",
    "Although practicality beats purity.\n",
    "Errors should never pass silently.\n",
    "Unless explicitly silenced.\n",
    "In the face of ambiguity, refuse the temptation to guess.\n",
    "There should be one-- and preferably only one --obvious way to do it.\n",
    "Although that way may not be obvious at first unless you're Dutch.\n",
    "Now is better than never.\n",
    "Although never is often better than *right* now.\n",
    "If the implementation is hard to explain, it's a bad idea.\n",
    "If the implementation is easy to explain, it may be a good idea.\n",
    "Namespaces are one honking great idea -- let's do more of those!\"\"\"\n",
    "    f.write(text)"
   ]
  },
  {
   "cell_type": "code",
   "execution_count": 148,
   "id": "c73c0804",
   "metadata": {},
   "outputs": [
    {
     "name": "stdout",
     "output_type": "stream",
     "text": [
      "Beautiful is better than ugly.\n",
      "Explicit is better than implicit.\n",
      "Simple is better than complex.\n",
      "Complex is better than complicated.\n",
      "Flat is better than nested.\n",
      "Sparse is better than dense.\n",
      "Readability counts.\n",
      "Special cases aren't special enough to break the rules.\n",
      "Although practicality beats purity.\n",
      "Errors should never pass silently.\n",
      "Unless explicitly silenced.\n",
      "In the face of ambiguity, refuse the temptation to guess.\n",
      "There should be one-- and preferably only one --obvious way to do it.\n",
      "Although that way may not be obvious at first unless you're Dutch.\n",
      "Now is better than never.\n",
      "Although never is often better than *right* now.\n",
      "If the implementation is hard to explain, it's a bad idea.\n",
      "If the implementation is easy to explain, it may be a good idea.\n",
      "Namespaces are one honking great idea -- let's do more of those!\n"
     ]
    }
   ],
   "source": [
    "with open(\"zen.txt\") as f:\n",
    "    zen = f.read()\n",
    "    print(zen)"
   ]
  },
  {
   "cell_type": "code",
   "execution_count": 149,
   "id": "d5c73c20",
   "metadata": {},
   "outputs": [
    {
     "name": "stdout",
     "output_type": "stream",
     "text": [
      "['Beautiful is better than ugly.\\n', 'Explicit is better than implicit.\\n', 'Simple is better than complex.\\n', 'Complex is better than complicated.\\n', 'Flat is better than nested.\\n', 'Sparse is better than dense.\\n', 'Readability counts.\\n', \"Special cases aren't special enough to break the rules.\\n\", 'Although practicality beats purity.\\n', 'Errors should never pass silently.\\n', 'Unless explicitly silenced.\\n', 'In the face of ambiguity, refuse the temptation to guess.\\n', 'There should be one-- and preferably only one --obvious way to do it.\\n', \"Although that way may not be obvious at first unless you're Dutch.\\n\", 'Now is better than never.\\n', 'Although never is often better than *right* now.\\n', \"If the implementation is hard to explain, it's a bad idea.\\n\", 'If the implementation is easy to explain, it may be a good idea.\\n', \"Namespaces are one honking great idea -- let's do more of those!\"]\n"
     ]
    }
   ],
   "source": [
    "with open(\"zen.txt\") as f:\n",
    "    zen = f.readlines()\n",
    "    print(zen)"
   ]
  },
  {
   "cell_type": "code",
   "execution_count": 150,
   "id": "2ddf89e8",
   "metadata": {},
   "outputs": [
    {
     "data": {
      "text/plain": [
       "list"
      ]
     },
     "execution_count": 150,
     "metadata": {},
     "output_type": "execute_result"
    }
   ],
   "source": [
    "type(zen)"
   ]
  },
  {
   "cell_type": "code",
   "execution_count": 154,
   "id": "29213818",
   "metadata": {},
   "outputs": [
    {
     "name": "stdout",
     "output_type": "stream",
     "text": [
      "['Beautiful is better than ugly.', 'Explicit is better than implicit.', 'Simple is better than complex.', 'Complex is better than complicated.', 'Flat is better than nested.', 'Sparse is better than dense.', 'Readability counts.', \"Special cases aren't special enough to break the rules.\", 'Although practicality beats purity.', 'Errors should never pass silently.', 'Unless explicitly silenced.', 'In the face of ambiguity, refuse the temptation to guess.', 'There should be one-- and preferably only one --obvious way to do it.', \"Although that way may not be obvious at first unless you're Dutch.\", 'Now is better than never.', 'Although never is often better than *right* now.', \"If the implementation is hard to explain, it's a bad idea.\", 'If the implementation is easy to explain, it may be a good idea.', \"Namespaces are one honking great idea -- let's do more of those!\"]\n"
     ]
    }
   ],
   "source": [
    "zen_new=[]\n",
    "for i in zen:\n",
    "    rem=i.strip('\\n')\n",
    "    zen_new.append(rem)\n",
    "print(zen_new)"
   ]
  },
  {
   "cell_type": "code",
   "execution_count": 155,
   "id": "53c971dc",
   "metadata": {},
   "outputs": [
    {
     "name": "stdout",
     "output_type": "stream",
     "text": [
      "['Beautiful is better than ugly.', 'Explicit is better than implicit.', 'Simple is better than complex.', 'Complex is better than complicated.', 'Flat is better than nested.', 'Sparse is better than dense.', 'Readability counts.', \"Special cases aren't special enough to break the rules.\", 'Although practicality beats purity.', 'Errors should never pass silently.', 'Unless explicitly silenced.', 'In the face of ambiguity, refuse the temptation to guess.', 'There should be one-- and preferably only one --obvious way to do it.', \"Although that way may not be obvious at first unless you're Dutch.\", 'Now is better than never.', 'Although never is often better than *right* now.', \"If the implementation is hard to explain, it's a bad idea.\", 'If the implementation is easy to explain, it may be a good idea.', \"Namespaces are one honking great idea -- let's do more of those!\"]\n"
     ]
    }
   ],
   "source": [
    "with open(\"zen.txt\") as f:\n",
    "    zen = f.readlines()\n",
    "    zen = [line.strip() for line in zen]\n",
    "    print(zen)"
   ]
  },
  {
   "cell_type": "code",
   "execution_count": 157,
   "id": "d6548cf2",
   "metadata": {},
   "outputs": [
    {
     "name": "stdout",
     "output_type": "stream",
     "text": [
      "['Beautiful is better than ugly.', 'Explicit is better than implicit.', 'Simple is better than complex.', 'Complex is better than complicated.', 'Flat is better than nested.', 'Sparse is better than dense.', 'Readability counts.', \"Special cases aren't special enough to break the rules.\", 'Although practicality beats purity.', 'Errors should never pass silently.', 'Unless explicitly silenced.', 'In the face of ambiguity, refuse the temptation to guess.', 'There should be one-- and preferably only one --obvious way to do it.', \"Although that way may not be obvious at first unless you're Dutch.\", 'Now is better than never.', 'Although never is often better than *right* now.', \"If the implementation is hard to explain, it's a bad idea.\", 'If the implementation is easy to explain, it may be a good idea.', \"Namespaces are one honking great idea -- let's do more of those!\"]\n"
     ]
    }
   ],
   "source": [
    "with open(\"zen.txt\") as f:\n",
    "    zen = f.read().splitlines()\n",
    "    print(zen)"
   ]
  },
  {
   "cell_type": "code",
   "execution_count": 159,
   "id": "26714b22",
   "metadata": {},
   "outputs": [],
   "source": [
    "with open(\"sonnet_29.txt\",mode='w') as f:\n",
    "    sonnet = \"\"\"When, in disgrace with fortune and men’s eyes,\n",
    "I all alone beweep my outcast state,\n",
    "And trouble deaf heaven with my bootless cries,\n",
    "And look upon myself and curse my fate,\n",
    "Wishing me like to one more rich in hope,\n",
    "Featured like him, like him with friends possessed,\n",
    "Desiring this man’s art and that man’s scope\n",
    "With what I most enjoy contented least;\n",
    "Yet in these thoughts myself almost despising,\n",
    "Haply I think on thee, and then my state,\n",
    "(Like to the lark at break of day arising\n",
    "From sullen earth) sings hymns at heaven’s gate;\n",
    "For thy sweet love remembered such wealth brings\n",
    "That then I scorn to change my state with kings.\"\"\"\n",
    "    f.write(sonnet)"
   ]
  },
  {
   "cell_type": "code",
   "execution_count": 162,
   "id": "521e8517",
   "metadata": {},
   "outputs": [
    {
     "name": "stdout",
     "output_type": "stream",
     "text": [
      "When, in disgrace with fortune and men’s eyes,\n",
      "I all alone beweep my outcast state,\n",
      "And trouble deaf heaven with my bootless cries,\n",
      "And look upon myself and curse my fate,\n",
      "Wishing me like to one more rich in hope,\n",
      "Featured like him, like him with friends possessed,\n",
      "Desiring this man’s art and that man’s scope\n",
      "With what I most enjoy contented least;\n",
      "Yet in these thoughts myself almost despising,\n",
      "Haply I think on thee, and then my state,\n",
      "(Like to the lark at break of day arising\n",
      "From sullen earth) sings hymns at heaven’s gate;\n",
      "For thy sweet love remembered such wealth brings\n",
      "That then I scorn to change my state with kings.\n"
     ]
    }
   ],
   "source": [
    "with open(\"sonnet_29.txt\") as f:\n",
    "    WS=f.read()\n",
    "    print(WS)"
   ]
  },
  {
   "cell_type": "code",
   "execution_count": 164,
   "id": "c612dcd4",
   "metadata": {},
   "outputs": [
    {
     "name": "stdout",
     "output_type": "stream",
     "text": [
      "Enter the name of the file that needs to be reversedcontext.txt\n",
      "Enter the contentHello, World!\n"
     ]
    }
   ],
   "source": [
    "filename = input(\"Enter the name of the file that needs to be reversed\")\n",
    "\n",
    "with open(filename, mode='w') as f:\n",
    "    text = input(\"Enter the content\")\n",
    "    f.write(text)"
   ]
  },
  {
   "cell_type": "code",
   "execution_count": 170,
   "id": "3f235b19",
   "metadata": {},
   "outputs": [
    {
     "name": "stdout",
     "output_type": "stream",
     "text": [
      "3\n"
     ]
    }
   ],
   "source": [
    "with open(\"sonnet_29.txt\") as f:\n",
    "    WS=f.read().count('me')\n",
    "    print(WS)"
   ]
  },
  {
   "cell_type": "code",
   "execution_count": 171,
   "id": "cbf0b2f7",
   "metadata": {},
   "outputs": [],
   "source": [
    "def word_counter(x):\n",
    "    file = input('Enter the name of the file')\n",
    "    with open(file, 'r') as f:\n",
    "        content=list(f.read())\n",
    "        for i in content:\n",
    "            counter=f.read().count(i)\n",
    "            print(counter)\n",
    "            \n",
    "    "
   ]
  },
  {
   "cell_type": "code",
   "execution_count": 179,
   "id": "7bfb05b9",
   "metadata": {},
   "outputs": [],
   "source": [
    "def word_counter(x):\n",
    "    with open(x, 'r') as f:\n",
    "        content=list(f.read().word_counter())\n",
    "        return content"
   ]
  },
  {
   "cell_type": "code",
   "execution_count": 180,
   "id": "ef140907",
   "metadata": {},
   "outputs": [
    {
     "ename": "AttributeError",
     "evalue": "'str' object has no attribute 'word_counter'",
     "output_type": "error",
     "traceback": [
      "\u001b[0;31m---------------------------------------------------------------------------\u001b[0m",
      "\u001b[0;31mAttributeError\u001b[0m                            Traceback (most recent call last)",
      "\u001b[0;32m/var/folders/f5/fqkbkzzx1sdfvn4c1hstzl1w0000gq/T/ipykernel_16576/1121358782.py\u001b[0m in \u001b[0;36m<module>\u001b[0;34m\u001b[0m\n\u001b[0;32m----> 1\u001b[0;31m \u001b[0mword_counter\u001b[0m\u001b[0;34m(\u001b[0m\u001b[0;34m'sonnet_29.txt'\u001b[0m\u001b[0;34m)\u001b[0m\u001b[0;34m\u001b[0m\u001b[0;34m\u001b[0m\u001b[0m\n\u001b[0m",
      "\u001b[0;32m/var/folders/f5/fqkbkzzx1sdfvn4c1hstzl1w0000gq/T/ipykernel_16576/616604514.py\u001b[0m in \u001b[0;36mword_counter\u001b[0;34m(x)\u001b[0m\n\u001b[1;32m      1\u001b[0m \u001b[0;32mdef\u001b[0m \u001b[0mword_counter\u001b[0m\u001b[0;34m(\u001b[0m\u001b[0mx\u001b[0m\u001b[0;34m)\u001b[0m\u001b[0;34m:\u001b[0m\u001b[0;34m\u001b[0m\u001b[0;34m\u001b[0m\u001b[0m\n\u001b[1;32m      2\u001b[0m     \u001b[0;32mwith\u001b[0m \u001b[0mopen\u001b[0m\u001b[0;34m(\u001b[0m\u001b[0mx\u001b[0m\u001b[0;34m,\u001b[0m \u001b[0;34m'r'\u001b[0m\u001b[0;34m)\u001b[0m \u001b[0;32mas\u001b[0m \u001b[0mf\u001b[0m\u001b[0;34m:\u001b[0m\u001b[0;34m\u001b[0m\u001b[0;34m\u001b[0m\u001b[0m\n\u001b[0;32m----> 3\u001b[0;31m         \u001b[0mcontent\u001b[0m\u001b[0;34m=\u001b[0m\u001b[0mlist\u001b[0m\u001b[0;34m(\u001b[0m\u001b[0mf\u001b[0m\u001b[0;34m.\u001b[0m\u001b[0mread\u001b[0m\u001b[0;34m(\u001b[0m\u001b[0;34m)\u001b[0m\u001b[0;34m.\u001b[0m\u001b[0mword_counter\u001b[0m\u001b[0;34m(\u001b[0m\u001b[0;34m)\u001b[0m\u001b[0;34m)\u001b[0m\u001b[0;34m\u001b[0m\u001b[0;34m\u001b[0m\u001b[0m\n\u001b[0m\u001b[1;32m      4\u001b[0m         \u001b[0;32mreturn\u001b[0m \u001b[0mcontent\u001b[0m\u001b[0;34m\u001b[0m\u001b[0;34m\u001b[0m\u001b[0m\n",
      "\u001b[0;31mAttributeError\u001b[0m: 'str' object has no attribute 'word_counter'"
     ]
    }
   ],
   "source": [
    "word_counter('sonnet_29.txt')"
   ]
  },
  {
   "cell_type": "code",
   "execution_count": 187,
   "id": "23077e60",
   "metadata": {},
   "outputs": [],
   "source": [
    "def word_counter(file):\n",
    "    \n",
    "    with open(file,'r') as f:\n",
    "        text=f.read()\n",
    "        words = text.lower().split()\n",
    "        counter = {}\n",
    "        for i in words:\n",
    "            if i in counter:\n",
    "                counter[i]+=1\n",
    "            else:\n",
    "                counter[i]=1\n",
    "        return counter"
   ]
  },
  {
   "cell_type": "code",
   "execution_count": 188,
   "id": "bf084e43",
   "metadata": {},
   "outputs": [
    {
     "name": "stdout",
     "output_type": "stream",
     "text": [
      "{'when,': 1, 'in': 3, 'disgrace': 1, 'with': 5, 'fortune': 1, 'and': 6, 'men’s': 1, 'eyes,': 1, 'i': 4, 'all': 1, 'alone': 1, 'beweep': 1, 'my': 5, 'outcast': 1, 'state,': 2, 'trouble': 1, 'deaf': 1, 'heaven': 1, 'bootless': 1, 'cries,': 1, 'look': 1, 'upon': 1, 'myself': 2, 'curse': 1, 'fate,': 1, 'wishing': 1, 'me': 1, 'like': 3, 'to': 3, 'one': 1, 'more': 1, 'rich': 1, 'hope,': 1, 'featured': 1, 'him,': 1, 'him': 1, 'friends': 1, 'possessed,': 1, 'desiring': 1, 'this': 1, 'man’s': 2, 'art': 1, 'that': 2, 'scope': 1, 'what': 1, 'most': 1, 'enjoy': 1, 'contented': 1, 'least;': 1, 'yet': 1, 'these': 1, 'thoughts': 1, 'almost': 1, 'despising,': 1, 'haply': 1, 'think': 1, 'on': 1, 'thee,': 1, 'then': 2, '(like': 1, 'the': 1, 'lark': 1, 'at': 2, 'break': 1, 'of': 1, 'day': 1, 'arising': 1, 'from': 1, 'sullen': 1, 'earth)': 1, 'sings': 1, 'hymns': 1, 'heaven’s': 1, 'gate;': 1, 'for': 1, 'thy': 1, 'sweet': 1, 'love': 1, 'remembered': 1, 'such': 1, 'wealth': 1, 'brings': 1, 'scorn': 1, 'change': 1, 'state': 1, 'kings.': 1}\n"
     ]
    }
   ],
   "source": [
    "print(word_counter(\"sonnet_29.txt\"))"
   ]
  },
  {
   "cell_type": "code",
   "execution_count": 192,
   "id": "1f09110c",
   "metadata": {},
   "outputs": [],
   "source": [
    "import csv\n",
    "\n",
    "with open(\"devices.csv\",\"w\") as csvfile:\n",
    "    writer = csv.writer(csvfile)\n",
    "    writer.writerow([\"Name\", \"IP\"])\n",
    "    for x in range(1,5):\n",
    "        writer.writerow([f\"Device {x}\", f\"192.168.1.{x}\"])"
   ]
  },
  {
   "cell_type": "code",
   "execution_count": 195,
   "id": "7304fe0e",
   "metadata": {},
   "outputs": [
    {
     "name": "stdout",
     "output_type": "stream",
     "text": [
      "['Name', 'IP']\n",
      "['Device 1', '192.168.1.1']\n",
      "['Device 2', '192.168.1.2']\n",
      "['Device 3', '192.168.1.3']\n",
      "['Device 4', '192.168.1.4']\n"
     ]
    }
   ],
   "source": [
    "with open(\"devices.csv\", \"r\") as f:\n",
    "    reader = csv.reader(f)\n",
    "    for row in reader:\n",
    "        print(row)"
   ]
  },
  {
   "cell_type": "code",
   "execution_count": 222,
   "id": "4a7196d6",
   "metadata": {},
   "outputs": [
    {
     "name": "stdout",
     "output_type": "stream",
     "text": [
      "passing the header column\n",
      "3061\n"
     ]
    }
   ],
   "source": [
    "with open(\"Github_sample.txt\",\"r\") as f:\n",
    "    reader = csv.reader(f)\n",
    "    sales=0\n",
    "    for row in reader:\n",
    "        if row[2]== \"Sales\":\n",
    "            print(\"passing the header column\")\n",
    "        else:\n",
    "            sales = sales + int(row[2])\n",
    "print(sales)\n",
    "   \n",
    "        \n",
    "        "
   ]
  },
  {
   "cell_type": "code",
   "execution_count": 230,
   "id": "39eb4779",
   "metadata": {},
   "outputs": [
    {
     "name": "stdout",
     "output_type": "stream",
     "text": [
      "1778\n"
     ]
    }
   ],
   "source": [
    "costs=0\n",
    "with open(\"Github_sample.txt\",\"r\") as f:\n",
    "    reader = csv.reader(f)\n",
    "    for row in reader:\n",
    "        if row[3]!= \"Costs\":\n",
    "            costs = costs + int(row[3])\n",
    "print(costs)\n",
    "   \n",
    "        \n",
    "        "
   ]
  },
  {
   "cell_type": "code",
   "execution_count": 227,
   "id": "415da064",
   "metadata": {},
   "outputs": [
    {
     "name": "stdout",
     "output_type": "stream",
     "text": [
      "Sales: 3061\n",
      "Costs: 1778\n"
     ]
    }
   ],
   "source": [
    "import csv\n",
    "total_sales=0\n",
    "total_costs=0\n",
    "with open(\"Github_sample.txt\",\"r\") as f:\n",
    "    reader=csv.DictReader(f)\n",
    "    for row in reader:\n",
    "        total_sales += int(row['Sales'])\n",
    "        total_costs += int(row['Costs'])\n",
    "        \n",
    "print(\"Sales:\", total_sales)\n",
    "print(\"Costs:\", total_costs)"
   ]
  },
  {
   "cell_type": "code",
   "execution_count": 239,
   "id": "c19e0f13",
   "metadata": {},
   "outputs": [],
   "source": [
    "import json\n",
    "\n",
    "person = {\n",
    "    'id': 4,\n",
    "    'name': 'Patricia Kennedy',\n",
    "    'username': 'patriciak',\n",
    "    'active': True,\n",
    "    'email': 'patricia@kennedy.org',\n",
    "    'phone': None,\n",
    "}\n",
    "\n",
    "with open('person.json','w') as json_file:\n",
    "    json.dump(person,json_file,indent=4,sort_keys=True)"
   ]
  },
  {
   "cell_type": "code",
   "execution_count": 242,
   "id": "60c66c77",
   "metadata": {},
   "outputs": [
    {
     "name": "stdout",
     "output_type": "stream",
     "text": [
      "{'active': True, 'email': 'patricia@kennedy.org', 'id': 4, 'name': 'Patricia Kennedy', 'phone': None, 'username': 'patriciak'}\n"
     ]
    }
   ],
   "source": [
    "with open('person.json','r') as json_file:\n",
    "    data=json.load(json_file)\n",
    "    print(data)"
   ]
  },
  {
   "cell_type": "code",
   "execution_count": 245,
   "id": "e0fb8f0b",
   "metadata": {},
   "outputs": [
    {
     "name": "stdout",
     "output_type": "stream",
     "text": [
      "ISO 8879:1986\n"
     ]
    }
   ],
   "source": [
    "import json\n",
    "\n",
    "glossary_string = \"\"\"{\n",
    "    \"glossary\": {\n",
    "        \"title\": \"example glossary\",\n",
    "        \"GlossDiv\": {\n",
    "            \"title\": \"S\",\n",
    "            \"GlossList\": {\n",
    "                \"GlossEntry\": {\n",
    "                    \"ID\": \"SGML\",\n",
    "                    \"SortAs\": \"SGML\",\n",
    "                    \"GlossTerm\": \"Standard Generalized Markup Language\",\n",
    "                    \"Acronym\": \"SGML\",\n",
    "                    \"Abbrev\": \"ISO 8879:1986\",\n",
    "                    \"GlossDef\": {\n",
    "                        \"para\": \"A meta-markup language, used to create markup languages such as DocBook.\",\n",
    "                        \"GlossSeeAlso\": [\"GML\", \"XML\"]\n",
    "                    },\n",
    "                    \"GlossSee\": \"markup\"\n",
    "                }\n",
    "            }\n",
    "        }\n",
    "    }\n",
    "}\"\"\"\n",
    "\n",
    "glossary=json.loads(glossary_string)\n",
    "print(glossary['glossary']['GlossDiv']['GlossList']['GlossEntry']['Abbrev'])"
   ]
  },
  {
   "cell_type": "code",
   "execution_count": 255,
   "id": "bafa7ea5",
   "metadata": {},
   "outputs": [
    {
     "name": "stdout",
     "output_type": "stream",
     "text": [
      "dict_keys(['abilities', 'base_experience', 'forms', 'game_indices', 'height', 'held_items', 'id', 'is_default', 'location_area_encounters', 'moves', 'name', 'order', 'past_types', 'species', 'sprites', 'stats', 'types', 'weight'])\n"
     ]
    }
   ],
   "source": [
    "import requests\n",
    "url = \"https://pokeapi.co/api/v2/pokemon/ditto\"\n",
    "r = requests.get(url).json()\n",
    "print(r.keys())"
   ]
  },
  {
   "cell_type": "code",
   "execution_count": 256,
   "id": "c262d241",
   "metadata": {},
   "outputs": [
    {
     "name": "stdout",
     "output_type": "stream",
     "text": [
      "dict_values([[{'ability': {'name': 'limber', 'url': 'https://pokeapi.co/api/v2/ability/7/'}, 'is_hidden': False, 'slot': 1}, {'ability': {'name': 'imposter', 'url': 'https://pokeapi.co/api/v2/ability/150/'}, 'is_hidden': True, 'slot': 3}], 101, [{'name': 'ditto', 'url': 'https://pokeapi.co/api/v2/pokemon-form/132/'}], [{'game_index': 76, 'version': {'name': 'red', 'url': 'https://pokeapi.co/api/v2/version/1/'}}, {'game_index': 76, 'version': {'name': 'blue', 'url': 'https://pokeapi.co/api/v2/version/2/'}}, {'game_index': 76, 'version': {'name': 'yellow', 'url': 'https://pokeapi.co/api/v2/version/3/'}}, {'game_index': 132, 'version': {'name': 'gold', 'url': 'https://pokeapi.co/api/v2/version/4/'}}, {'game_index': 132, 'version': {'name': 'silver', 'url': 'https://pokeapi.co/api/v2/version/5/'}}, {'game_index': 132, 'version': {'name': 'crystal', 'url': 'https://pokeapi.co/api/v2/version/6/'}}, {'game_index': 132, 'version': {'name': 'ruby', 'url': 'https://pokeapi.co/api/v2/version/7/'}}, {'game_index': 132, 'version': {'name': 'sapphire', 'url': 'https://pokeapi.co/api/v2/version/8/'}}, {'game_index': 132, 'version': {'name': 'emerald', 'url': 'https://pokeapi.co/api/v2/version/9/'}}, {'game_index': 132, 'version': {'name': 'firered', 'url': 'https://pokeapi.co/api/v2/version/10/'}}, {'game_index': 132, 'version': {'name': 'leafgreen', 'url': 'https://pokeapi.co/api/v2/version/11/'}}, {'game_index': 132, 'version': {'name': 'diamond', 'url': 'https://pokeapi.co/api/v2/version/12/'}}, {'game_index': 132, 'version': {'name': 'pearl', 'url': 'https://pokeapi.co/api/v2/version/13/'}}, {'game_index': 132, 'version': {'name': 'platinum', 'url': 'https://pokeapi.co/api/v2/version/14/'}}, {'game_index': 132, 'version': {'name': 'heartgold', 'url': 'https://pokeapi.co/api/v2/version/15/'}}, {'game_index': 132, 'version': {'name': 'soulsilver', 'url': 'https://pokeapi.co/api/v2/version/16/'}}, {'game_index': 132, 'version': {'name': 'black', 'url': 'https://pokeapi.co/api/v2/version/17/'}}, {'game_index': 132, 'version': {'name': 'white', 'url': 'https://pokeapi.co/api/v2/version/18/'}}, {'game_index': 132, 'version': {'name': 'black-2', 'url': 'https://pokeapi.co/api/v2/version/21/'}}, {'game_index': 132, 'version': {'name': 'white-2', 'url': 'https://pokeapi.co/api/v2/version/22/'}}], 3, [{'item': {'name': 'metal-powder', 'url': 'https://pokeapi.co/api/v2/item/234/'}, 'version_details': [{'rarity': 5, 'version': {'name': 'ruby', 'url': 'https://pokeapi.co/api/v2/version/7/'}}, {'rarity': 5, 'version': {'name': 'sapphire', 'url': 'https://pokeapi.co/api/v2/version/8/'}}, {'rarity': 5, 'version': {'name': 'emerald', 'url': 'https://pokeapi.co/api/v2/version/9/'}}, {'rarity': 5, 'version': {'name': 'firered', 'url': 'https://pokeapi.co/api/v2/version/10/'}}, {'rarity': 5, 'version': {'name': 'leafgreen', 'url': 'https://pokeapi.co/api/v2/version/11/'}}, {'rarity': 5, 'version': {'name': 'diamond', 'url': 'https://pokeapi.co/api/v2/version/12/'}}, {'rarity': 5, 'version': {'name': 'pearl', 'url': 'https://pokeapi.co/api/v2/version/13/'}}, {'rarity': 5, 'version': {'name': 'platinum', 'url': 'https://pokeapi.co/api/v2/version/14/'}}, {'rarity': 5, 'version': {'name': 'heartgold', 'url': 'https://pokeapi.co/api/v2/version/15/'}}, {'rarity': 5, 'version': {'name': 'soulsilver', 'url': 'https://pokeapi.co/api/v2/version/16/'}}, {'rarity': 5, 'version': {'name': 'black', 'url': 'https://pokeapi.co/api/v2/version/17/'}}, {'rarity': 5, 'version': {'name': 'white', 'url': 'https://pokeapi.co/api/v2/version/18/'}}, {'rarity': 5, 'version': {'name': 'black-2', 'url': 'https://pokeapi.co/api/v2/version/21/'}}, {'rarity': 5, 'version': {'name': 'white-2', 'url': 'https://pokeapi.co/api/v2/version/22/'}}, {'rarity': 5, 'version': {'name': 'x', 'url': 'https://pokeapi.co/api/v2/version/23/'}}, {'rarity': 5, 'version': {'name': 'y', 'url': 'https://pokeapi.co/api/v2/version/24/'}}, {'rarity': 5, 'version': {'name': 'omega-ruby', 'url': 'https://pokeapi.co/api/v2/version/25/'}}, {'rarity': 5, 'version': {'name': 'alpha-sapphire', 'url': 'https://pokeapi.co/api/v2/version/26/'}}, {'rarity': 5, 'version': {'name': 'sun', 'url': 'https://pokeapi.co/api/v2/version/27/'}}, {'rarity': 5, 'version': {'name': 'moon', 'url': 'https://pokeapi.co/api/v2/version/28/'}}, {'rarity': 5, 'version': {'name': 'ultra-sun', 'url': 'https://pokeapi.co/api/v2/version/29/'}}, {'rarity': 5, 'version': {'name': 'ultra-moon', 'url': 'https://pokeapi.co/api/v2/version/30/'}}]}, {'item': {'name': 'quick-powder', 'url': 'https://pokeapi.co/api/v2/item/251/'}, 'version_details': [{'rarity': 50, 'version': {'name': 'diamond', 'url': 'https://pokeapi.co/api/v2/version/12/'}}, {'rarity': 50, 'version': {'name': 'pearl', 'url': 'https://pokeapi.co/api/v2/version/13/'}}, {'rarity': 50, 'version': {'name': 'platinum', 'url': 'https://pokeapi.co/api/v2/version/14/'}}, {'rarity': 50, 'version': {'name': 'heartgold', 'url': 'https://pokeapi.co/api/v2/version/15/'}}, {'rarity': 50, 'version': {'name': 'soulsilver', 'url': 'https://pokeapi.co/api/v2/version/16/'}}, {'rarity': 50, 'version': {'name': 'black', 'url': 'https://pokeapi.co/api/v2/version/17/'}}, {'rarity': 50, 'version': {'name': 'white', 'url': 'https://pokeapi.co/api/v2/version/18/'}}, {'rarity': 50, 'version': {'name': 'black-2', 'url': 'https://pokeapi.co/api/v2/version/21/'}}, {'rarity': 50, 'version': {'name': 'white-2', 'url': 'https://pokeapi.co/api/v2/version/22/'}}, {'rarity': 50, 'version': {'name': 'x', 'url': 'https://pokeapi.co/api/v2/version/23/'}}, {'rarity': 50, 'version': {'name': 'y', 'url': 'https://pokeapi.co/api/v2/version/24/'}}, {'rarity': 50, 'version': {'name': 'omega-ruby', 'url': 'https://pokeapi.co/api/v2/version/25/'}}, {'rarity': 50, 'version': {'name': 'alpha-sapphire', 'url': 'https://pokeapi.co/api/v2/version/26/'}}, {'rarity': 50, 'version': {'name': 'sun', 'url': 'https://pokeapi.co/api/v2/version/27/'}}, {'rarity': 50, 'version': {'name': 'moon', 'url': 'https://pokeapi.co/api/v2/version/28/'}}, {'rarity': 50, 'version': {'name': 'ultra-sun', 'url': 'https://pokeapi.co/api/v2/version/29/'}}, {'rarity': 50, 'version': {'name': 'ultra-moon', 'url': 'https://pokeapi.co/api/v2/version/30/'}}]}], 132, True, 'https://pokeapi.co/api/v2/pokemon/132/encounters', [{'move': {'name': 'transform', 'url': 'https://pokeapi.co/api/v2/move/144/'}, 'version_group_details': [{'level_learned_at': 1, 'move_learn_method': {'name': 'level-up', 'url': 'https://pokeapi.co/api/v2/move-learn-method/1/'}, 'version_group': {'name': 'red-blue', 'url': 'https://pokeapi.co/api/v2/version-group/1/'}}, {'level_learned_at': 1, 'move_learn_method': {'name': 'level-up', 'url': 'https://pokeapi.co/api/v2/move-learn-method/1/'}, 'version_group': {'name': 'yellow', 'url': 'https://pokeapi.co/api/v2/version-group/2/'}}, {'level_learned_at': 1, 'move_learn_method': {'name': 'level-up', 'url': 'https://pokeapi.co/api/v2/move-learn-method/1/'}, 'version_group': {'name': 'gold-silver', 'url': 'https://pokeapi.co/api/v2/version-group/3/'}}, {'level_learned_at': 1, 'move_learn_method': {'name': 'level-up', 'url': 'https://pokeapi.co/api/v2/move-learn-method/1/'}, 'version_group': {'name': 'crystal', 'url': 'https://pokeapi.co/api/v2/version-group/4/'}}, {'level_learned_at': 1, 'move_learn_method': {'name': 'level-up', 'url': 'https://pokeapi.co/api/v2/move-learn-method/1/'}, 'version_group': {'name': 'ruby-sapphire', 'url': 'https://pokeapi.co/api/v2/version-group/5/'}}, {'level_learned_at': 1, 'move_learn_method': {'name': 'level-up', 'url': 'https://pokeapi.co/api/v2/move-learn-method/1/'}, 'version_group': {'name': 'emerald', 'url': 'https://pokeapi.co/api/v2/version-group/6/'}}, {'level_learned_at': 1, 'move_learn_method': {'name': 'level-up', 'url': 'https://pokeapi.co/api/v2/move-learn-method/1/'}, 'version_group': {'name': 'firered-leafgreen', 'url': 'https://pokeapi.co/api/v2/version-group/7/'}}, {'level_learned_at': 1, 'move_learn_method': {'name': 'level-up', 'url': 'https://pokeapi.co/api/v2/move-learn-method/1/'}, 'version_group': {'name': 'diamond-pearl', 'url': 'https://pokeapi.co/api/v2/version-group/8/'}}, {'level_learned_at': 1, 'move_learn_method': {'name': 'level-up', 'url': 'https://pokeapi.co/api/v2/move-learn-method/1/'}, 'version_group': {'name': 'platinum', 'url': 'https://pokeapi.co/api/v2/version-group/9/'}}, {'level_learned_at': 1, 'move_learn_method': {'name': 'level-up', 'url': 'https://pokeapi.co/api/v2/move-learn-method/1/'}, 'version_group': {'name': 'heartgold-soulsilver', 'url': 'https://pokeapi.co/api/v2/version-group/10/'}}, {'level_learned_at': 1, 'move_learn_method': {'name': 'level-up', 'url': 'https://pokeapi.co/api/v2/move-learn-method/1/'}, 'version_group': {'name': 'black-white', 'url': 'https://pokeapi.co/api/v2/version-group/11/'}}, {'level_learned_at': 1, 'move_learn_method': {'name': 'level-up', 'url': 'https://pokeapi.co/api/v2/move-learn-method/1/'}, 'version_group': {'name': 'colosseum', 'url': 'https://pokeapi.co/api/v2/version-group/12/'}}, {'level_learned_at': 1, 'move_learn_method': {'name': 'level-up', 'url': 'https://pokeapi.co/api/v2/move-learn-method/1/'}, 'version_group': {'name': 'xd', 'url': 'https://pokeapi.co/api/v2/version-group/13/'}}, {'level_learned_at': 1, 'move_learn_method': {'name': 'level-up', 'url': 'https://pokeapi.co/api/v2/move-learn-method/1/'}, 'version_group': {'name': 'black-2-white-2', 'url': 'https://pokeapi.co/api/v2/version-group/14/'}}, {'level_learned_at': 1, 'move_learn_method': {'name': 'level-up', 'url': 'https://pokeapi.co/api/v2/move-learn-method/1/'}, 'version_group': {'name': 'x-y', 'url': 'https://pokeapi.co/api/v2/version-group/15/'}}, {'level_learned_at': 1, 'move_learn_method': {'name': 'level-up', 'url': 'https://pokeapi.co/api/v2/move-learn-method/1/'}, 'version_group': {'name': 'omega-ruby-alpha-sapphire', 'url': 'https://pokeapi.co/api/v2/version-group/16/'}}, {'level_learned_at': 1, 'move_learn_method': {'name': 'level-up', 'url': 'https://pokeapi.co/api/v2/move-learn-method/1/'}, 'version_group': {'name': 'sun-moon', 'url': 'https://pokeapi.co/api/v2/version-group/17/'}}, {'level_learned_at': 1, 'move_learn_method': {'name': 'level-up', 'url': 'https://pokeapi.co/api/v2/move-learn-method/1/'}, 'version_group': {'name': 'ultra-sun-ultra-moon', 'url': 'https://pokeapi.co/api/v2/version-group/18/'}}]}], 'ditto', 203, [], {'name': 'ditto', 'url': 'https://pokeapi.co/api/v2/pokemon-species/132/'}, {'back_default': 'https://raw.githubusercontent.com/PokeAPI/sprites/master/sprites/pokemon/back/132.png', 'back_female': None, 'back_shiny': 'https://raw.githubusercontent.com/PokeAPI/sprites/master/sprites/pokemon/back/shiny/132.png', 'back_shiny_female': None, 'front_default': 'https://raw.githubusercontent.com/PokeAPI/sprites/master/sprites/pokemon/132.png', 'front_female': None, 'front_shiny': 'https://raw.githubusercontent.com/PokeAPI/sprites/master/sprites/pokemon/shiny/132.png', 'front_shiny_female': None, 'other': {'dream_world': {'front_default': 'https://raw.githubusercontent.com/PokeAPI/sprites/master/sprites/pokemon/other/dream-world/132.svg', 'front_female': None}, 'official-artwork': {'front_default': 'https://raw.githubusercontent.com/PokeAPI/sprites/master/sprites/pokemon/other/official-artwork/132.png'}}, 'versions': {'generation-i': {'red-blue': {'back_default': 'https://raw.githubusercontent.com/PokeAPI/sprites/master/sprites/pokemon/versions/generation-i/red-blue/back/132.png', 'back_gray': 'https://raw.githubusercontent.com/PokeAPI/sprites/master/sprites/pokemon/versions/generation-i/red-blue/back/gray/132.png', 'front_default': 'https://raw.githubusercontent.com/PokeAPI/sprites/master/sprites/pokemon/versions/generation-i/red-blue/132.png', 'front_gray': 'https://raw.githubusercontent.com/PokeAPI/sprites/master/sprites/pokemon/versions/generation-i/red-blue/gray/132.png'}, 'yellow': {'back_default': 'https://raw.githubusercontent.com/PokeAPI/sprites/master/sprites/pokemon/versions/generation-i/yellow/back/132.png', 'back_gray': 'https://raw.githubusercontent.com/PokeAPI/sprites/master/sprites/pokemon/versions/generation-i/yellow/back/gray/132.png', 'front_default': 'https://raw.githubusercontent.com/PokeAPI/sprites/master/sprites/pokemon/versions/generation-i/yellow/132.png', 'front_gray': 'https://raw.githubusercontent.com/PokeAPI/sprites/master/sprites/pokemon/versions/generation-i/yellow/gray/132.png'}}, 'generation-ii': {'crystal': {'back_default': 'https://raw.githubusercontent.com/PokeAPI/sprites/master/sprites/pokemon/versions/generation-ii/crystal/back/132.png', 'back_shiny': 'https://raw.githubusercontent.com/PokeAPI/sprites/master/sprites/pokemon/versions/generation-ii/crystal/back/shiny/132.png', 'front_default': 'https://raw.githubusercontent.com/PokeAPI/sprites/master/sprites/pokemon/versions/generation-ii/crystal/132.png', 'front_shiny': 'https://raw.githubusercontent.com/PokeAPI/sprites/master/sprites/pokemon/versions/generation-ii/crystal/shiny/132.png'}, 'gold': {'back_default': 'https://raw.githubusercontent.com/PokeAPI/sprites/master/sprites/pokemon/versions/generation-ii/gold/back/132.png', 'back_shiny': 'https://raw.githubusercontent.com/PokeAPI/sprites/master/sprites/pokemon/versions/generation-ii/gold/back/shiny/132.png', 'front_default': 'https://raw.githubusercontent.com/PokeAPI/sprites/master/sprites/pokemon/versions/generation-ii/gold/132.png', 'front_shiny': 'https://raw.githubusercontent.com/PokeAPI/sprites/master/sprites/pokemon/versions/generation-ii/gold/shiny/132.png'}, 'silver': {'back_default': 'https://raw.githubusercontent.com/PokeAPI/sprites/master/sprites/pokemon/versions/generation-ii/silver/back/132.png', 'back_shiny': 'https://raw.githubusercontent.com/PokeAPI/sprites/master/sprites/pokemon/versions/generation-ii/silver/back/shiny/132.png', 'front_default': 'https://raw.githubusercontent.com/PokeAPI/sprites/master/sprites/pokemon/versions/generation-ii/silver/132.png', 'front_shiny': 'https://raw.githubusercontent.com/PokeAPI/sprites/master/sprites/pokemon/versions/generation-ii/silver/shiny/132.png'}}, 'generation-iii': {'emerald': {'front_default': 'https://raw.githubusercontent.com/PokeAPI/sprites/master/sprites/pokemon/versions/generation-iii/emerald/132.png', 'front_shiny': 'https://raw.githubusercontent.com/PokeAPI/sprites/master/sprites/pokemon/versions/generation-iii/emerald/shiny/132.png'}, 'firered-leafgreen': {'back_default': 'https://raw.githubusercontent.com/PokeAPI/sprites/master/sprites/pokemon/versions/generation-iii/firered-leafgreen/back/132.png', 'back_shiny': 'https://raw.githubusercontent.com/PokeAPI/sprites/master/sprites/pokemon/versions/generation-iii/firered-leafgreen/back/shiny/132.png', 'front_default': 'https://raw.githubusercontent.com/PokeAPI/sprites/master/sprites/pokemon/versions/generation-iii/firered-leafgreen/132.png', 'front_shiny': 'https://raw.githubusercontent.com/PokeAPI/sprites/master/sprites/pokemon/versions/generation-iii/firered-leafgreen/shiny/132.png'}, 'ruby-sapphire': {'back_default': 'https://raw.githubusercontent.com/PokeAPI/sprites/master/sprites/pokemon/versions/generation-iii/ruby-sapphire/back/132.png', 'back_shiny': 'https://raw.githubusercontent.com/PokeAPI/sprites/master/sprites/pokemon/versions/generation-iii/ruby-sapphire/back/shiny/132.png', 'front_default': 'https://raw.githubusercontent.com/PokeAPI/sprites/master/sprites/pokemon/versions/generation-iii/ruby-sapphire/132.png', 'front_shiny': 'https://raw.githubusercontent.com/PokeAPI/sprites/master/sprites/pokemon/versions/generation-iii/ruby-sapphire/shiny/132.png'}}, 'generation-iv': {'diamond-pearl': {'back_default': 'https://raw.githubusercontent.com/PokeAPI/sprites/master/sprites/pokemon/versions/generation-iv/diamond-pearl/back/132.png', 'back_female': None, 'back_shiny': 'https://raw.githubusercontent.com/PokeAPI/sprites/master/sprites/pokemon/versions/generation-iv/diamond-pearl/back/shiny/132.png', 'back_shiny_female': None, 'front_default': 'https://raw.githubusercontent.com/PokeAPI/sprites/master/sprites/pokemon/versions/generation-iv/diamond-pearl/132.png', 'front_female': None, 'front_shiny': 'https://raw.githubusercontent.com/PokeAPI/sprites/master/sprites/pokemon/versions/generation-iv/diamond-pearl/shiny/132.png', 'front_shiny_female': None}, 'heartgold-soulsilver': {'back_default': 'https://raw.githubusercontent.com/PokeAPI/sprites/master/sprites/pokemon/versions/generation-iv/heartgold-soulsilver/back/132.png', 'back_female': None, 'back_shiny': 'https://raw.githubusercontent.com/PokeAPI/sprites/master/sprites/pokemon/versions/generation-iv/heartgold-soulsilver/back/shiny/132.png', 'back_shiny_female': None, 'front_default': 'https://raw.githubusercontent.com/PokeAPI/sprites/master/sprites/pokemon/versions/generation-iv/heartgold-soulsilver/132.png', 'front_female': None, 'front_shiny': 'https://raw.githubusercontent.com/PokeAPI/sprites/master/sprites/pokemon/versions/generation-iv/heartgold-soulsilver/shiny/132.png', 'front_shiny_female': None}, 'platinum': {'back_default': 'https://raw.githubusercontent.com/PokeAPI/sprites/master/sprites/pokemon/versions/generation-iv/platinum/back/132.png', 'back_female': None, 'back_shiny': 'https://raw.githubusercontent.com/PokeAPI/sprites/master/sprites/pokemon/versions/generation-iv/platinum/back/shiny/132.png', 'back_shiny_female': None, 'front_default': 'https://raw.githubusercontent.com/PokeAPI/sprites/master/sprites/pokemon/versions/generation-iv/platinum/132.png', 'front_female': None, 'front_shiny': 'https://raw.githubusercontent.com/PokeAPI/sprites/master/sprites/pokemon/versions/generation-iv/platinum/shiny/132.png', 'front_shiny_female': None}}, 'generation-v': {'black-white': {'animated': {'back_default': 'https://raw.githubusercontent.com/PokeAPI/sprites/master/sprites/pokemon/versions/generation-v/black-white/animated/back/132.gif', 'back_female': None, 'back_shiny': 'https://raw.githubusercontent.com/PokeAPI/sprites/master/sprites/pokemon/versions/generation-v/black-white/animated/back/shiny/132.gif', 'back_shiny_female': None, 'front_default': 'https://raw.githubusercontent.com/PokeAPI/sprites/master/sprites/pokemon/versions/generation-v/black-white/animated/132.gif', 'front_female': None, 'front_shiny': 'https://raw.githubusercontent.com/PokeAPI/sprites/master/sprites/pokemon/versions/generation-v/black-white/animated/shiny/132.gif', 'front_shiny_female': None}, 'back_default': 'https://raw.githubusercontent.com/PokeAPI/sprites/master/sprites/pokemon/versions/generation-v/black-white/back/132.png', 'back_female': None, 'back_shiny': 'https://raw.githubusercontent.com/PokeAPI/sprites/master/sprites/pokemon/versions/generation-v/black-white/back/shiny/132.png', 'back_shiny_female': None, 'front_default': 'https://raw.githubusercontent.com/PokeAPI/sprites/master/sprites/pokemon/versions/generation-v/black-white/132.png', 'front_female': None, 'front_shiny': 'https://raw.githubusercontent.com/PokeAPI/sprites/master/sprites/pokemon/versions/generation-v/black-white/shiny/132.png', 'front_shiny_female': None}}, 'generation-vi': {'omegaruby-alphasapphire': {'front_default': 'https://raw.githubusercontent.com/PokeAPI/sprites/master/sprites/pokemon/versions/generation-vi/omegaruby-alphasapphire/132.png', 'front_female': None, 'front_shiny': 'https://raw.githubusercontent.com/PokeAPI/sprites/master/sprites/pokemon/versions/generation-vi/omegaruby-alphasapphire/shiny/132.png', 'front_shiny_female': None}, 'x-y': {'front_default': 'https://raw.githubusercontent.com/PokeAPI/sprites/master/sprites/pokemon/versions/generation-vi/x-y/132.png', 'front_female': None, 'front_shiny': 'https://raw.githubusercontent.com/PokeAPI/sprites/master/sprites/pokemon/versions/generation-vi/x-y/shiny/132.png', 'front_shiny_female': None}}, 'generation-vii': {'icons': {'front_default': 'https://raw.githubusercontent.com/PokeAPI/sprites/master/sprites/pokemon/versions/generation-vii/icons/132.png', 'front_female': None}, 'ultra-sun-ultra-moon': {'front_default': 'https://raw.githubusercontent.com/PokeAPI/sprites/master/sprites/pokemon/versions/generation-vii/ultra-sun-ultra-moon/132.png', 'front_female': None, 'front_shiny': 'https://raw.githubusercontent.com/PokeAPI/sprites/master/sprites/pokemon/versions/generation-vii/ultra-sun-ultra-moon/shiny/132.png', 'front_shiny_female': None}}, 'generation-viii': {'icons': {'front_default': 'https://raw.githubusercontent.com/PokeAPI/sprites/master/sprites/pokemon/versions/generation-viii/icons/132.png', 'front_female': None}}}}, [{'base_stat': 48, 'effort': 1, 'stat': {'name': 'hp', 'url': 'https://pokeapi.co/api/v2/stat/1/'}}, {'base_stat': 48, 'effort': 0, 'stat': {'name': 'attack', 'url': 'https://pokeapi.co/api/v2/stat/2/'}}, {'base_stat': 48, 'effort': 0, 'stat': {'name': 'defense', 'url': 'https://pokeapi.co/api/v2/stat/3/'}}, {'base_stat': 48, 'effort': 0, 'stat': {'name': 'special-attack', 'url': 'https://pokeapi.co/api/v2/stat/4/'}}, {'base_stat': 48, 'effort': 0, 'stat': {'name': 'special-defense', 'url': 'https://pokeapi.co/api/v2/stat/5/'}}, {'base_stat': 48, 'effort': 0, 'stat': {'name': 'speed', 'url': 'https://pokeapi.co/api/v2/stat/6/'}}], [{'slot': 1, 'type': {'name': 'normal', 'url': 'https://pokeapi.co/api/v2/type/1/'}}], 40])\n"
     ]
    }
   ],
   "source": [
    "import requests\n",
    "url = \"https://pokeapi.co/api/v2/pokemon/ditto\"\n",
    "r = requests.get(url).json()\n",
    "print(r.values())"
   ]
  },
  {
   "cell_type": "code",
   "execution_count": 259,
   "id": "fa521065",
   "metadata": {},
   "outputs": [
    {
     "name": "stdout",
     "output_type": "stream",
     "text": [
      "ditto\n"
     ]
    }
   ],
   "source": [
    "import requests\n",
    "url = \"https://pokeapi.co/api/v2/pokemon/ditto\"\n",
    "r = requests.get(url).json()\n",
    "print(r[\"species\"][\"name\"])"
   ]
  },
  {
   "cell_type": "code",
   "execution_count": 277,
   "id": "c4411120",
   "metadata": {},
   "outputs": [
    {
     "name": "stdout",
     "output_type": "stream",
     "text": [
      "Bier Brewery and Taproom\n",
      "Big Lug Canteen\n",
      "Black Acre Brewing Co\n",
      "Black Circle Brewing Co\n",
      "Blind Owl Brewery\n",
      "Books & Brews\n",
      "Broad Ripple Brewing Co\n",
      "Brugge Brasserie\n",
      "Cannon Ball Brewing Company\n",
      "Centerpoint Brewing\n",
      "Central State Brewing\n",
      "Chilly Water Brewing Company\n",
      "Daredevil Brewing Company\n",
      "Deviate Brewing Co\n",
      "Flat 12 Bierwerks\n",
      "Fountain Square Brewing Co\n",
      "Granite City Food & Brewery\n",
      "Granite City Food & Brewery (#27)\n",
      "Guggman Haus Brewing Co.\n",
      "Indiana City Brewing\n"
     ]
    }
   ],
   "source": [
    "import requests\n",
    "url = \"https://api.openbrewerydb.org/breweries?by_city=indianapolis\"\n",
    "breweries=requests.get(url).json()\n",
    "for i in breweries:\n",
    "    print(i[\"name\"])"
   ]
  },
  {
   "cell_type": "code",
   "execution_count": 278,
   "id": "04c65c7b",
   "metadata": {},
   "outputs": [
    {
     "name": "stdout",
     "output_type": "stream",
     "text": [
      "{'id': 'bier-brewery-and-taproom-indianapolis', 'name': 'Bier Brewery and Taproom', 'brewery_type': 'micro', 'street': '5133 E 65th St', 'address_2': None, 'address_3': None, 'city': 'Indianapolis', 'state': 'Indiana', 'county_province': None, 'postal_code': '46220-4816', 'country': 'United States', 'longitude': None, 'latitude': None, 'phone': '3176960200', 'website_url': 'http://www.bierbrewery.com', 'updated_at': '2018-08-11T00:00:00.000Z', 'created_at': '2018-07-24T00:00:00.000Z'}\n",
      "{'id': 'big-lug-canteen-indianapolis', 'name': 'Big Lug Canteen', 'brewery_type': 'brewpub', 'street': '1435 E 86th St', 'address_2': None, 'address_3': None, 'city': 'Indianapolis', 'state': 'Indiana', 'county_province': None, 'postal_code': '46240-1911', 'country': 'United States', 'longitude': '-86.079957', 'latitude': '39.912628', 'phone': None, 'website_url': None, 'updated_at': '2018-08-24T00:00:00.000Z', 'created_at': '2018-07-24T00:00:00.000Z'}\n",
      "{'id': 'black-acre-brewing-co-indianapolis', 'name': 'Black Acre Brewing Co', 'brewery_type': 'brewpub', 'street': '5632 E Washington St', 'address_2': None, 'address_3': None, 'city': 'Indianapolis', 'state': 'Indiana', 'county_province': None, 'postal_code': '46219-6428', 'country': 'United States', 'longitude': '-86.1452662', 'latitude': '39.7668669', 'phone': '3177973316', 'website_url': 'http://www.blackacrebrewing.com', 'updated_at': '2018-08-24T00:00:00.000Z', 'created_at': '2018-07-24T00:00:00.000Z'}\n",
      "{'id': 'black-circle-brewing-co-indianapolis', 'name': 'Black Circle Brewing Co', 'brewery_type': 'micro', 'street': '2201 E 46th St', 'address_2': None, 'address_3': None, 'city': 'Indianapolis', 'state': 'Indiana', 'county_province': None, 'postal_code': '46205', 'country': 'United States', 'longitude': '-86.123944', 'latitude': '39.8398813', 'phone': '3174260143', 'website_url': 'http://www.blackcirclebrewing.com', 'updated_at': '2018-08-24T00:00:00.000Z', 'created_at': '2018-07-24T00:00:00.000Z'}\n",
      "{'id': 'blind-owl-brewery-indianapolis', 'name': 'Blind Owl Brewery', 'brewery_type': 'brewpub', 'street': '5014 E 62nd St', 'address_2': None, 'address_3': None, 'city': 'Indianapolis', 'state': 'Indiana', 'county_province': None, 'postal_code': '46220-5228', 'country': 'United States', 'longitude': None, 'latitude': None, 'phone': '3179241000', 'website_url': 'http://www.blindowlbrewery.com', 'updated_at': '2018-08-11T00:00:00.000Z', 'created_at': '2018-07-24T00:00:00.000Z'}\n",
      "{'id': 'books-brews-indianapolis', 'name': 'Books & Brews', 'brewery_type': 'brewpub', 'street': '9402 Uptown Dr Ste 1400', 'address_2': None, 'address_3': None, 'city': 'Indianapolis', 'state': 'Indiana', 'county_province': None, 'postal_code': '46256-1076', 'country': 'United States', 'longitude': None, 'latitude': None, 'phone': '3172885136', 'website_url': 'http://www.booksnbrews.com', 'updated_at': '2018-08-11T00:00:00.000Z', 'created_at': '2018-07-24T00:00:00.000Z'}\n",
      "{'id': 'broad-ripple-brewing-co-indianapolis', 'name': 'Broad Ripple Brewing Co', 'brewery_type': 'brewpub', 'street': '842 E 65th St', 'address_2': None, 'address_3': None, 'city': 'Indianapolis', 'state': 'Indiana', 'county_province': None, 'postal_code': '46220-1674', 'country': 'United States', 'longitude': None, 'latitude': None, 'phone': '3172532739', 'website_url': None, 'updated_at': '2018-08-11T00:00:00.000Z', 'created_at': '2018-07-24T00:00:00.000Z'}\n",
      "{'id': 'brugge-brasserie-indianapolis', 'name': 'Brugge Brasserie', 'brewery_type': 'brewpub', 'street': '1011A E Westfield Blvd', 'address_2': None, 'address_3': None, 'city': 'Indianapolis', 'state': 'Indiana', 'county_province': None, 'postal_code': '46220-', 'country': 'United States', 'longitude': None, 'latitude': None, 'phone': '3172550978', 'website_url': 'http://www.bruggebrasserie.com', 'updated_at': '2018-08-11T00:00:00.000Z', 'created_at': '2018-07-24T00:00:00.000Z'}\n",
      "{'id': 'cannon-ball-brewing-company-indianapolis', 'name': 'Cannon Ball Brewing Company', 'brewery_type': 'brewpub', 'street': '1702 Bellefontaine St', 'address_2': None, 'address_3': None, 'city': 'Indianapolis', 'state': 'Indiana', 'county_province': None, 'postal_code': '46202-1813', 'country': 'United States', 'longitude': '-86.14245603', 'latitude': '39.79046798', 'phone': '3174265978', 'website_url': 'http://www.cannonballbrewingindy.com', 'updated_at': '2018-08-24T00:00:00.000Z', 'created_at': '2018-07-24T00:00:00.000Z'}\n",
      "{'id': 'centerpoint-brewing-indianapolis', 'name': 'Centerpoint Brewing', 'brewery_type': 'micro', 'street': '1125 E Brookside Ave', 'address_2': None, 'address_3': None, 'city': 'Indianapolis', 'state': 'Indiana', 'county_province': None, 'postal_code': '46202-3587', 'country': 'United States', 'longitude': '-86.13740465', 'latitude': '39.78129031', 'phone': '3176028386', 'website_url': 'http://www.centerpointbrewing.com', 'updated_at': '2018-08-24T00:00:00.000Z', 'created_at': '2018-07-24T00:00:00.000Z'}\n",
      "{'id': 'central-state-brewing-indianapolis', 'name': 'Central State Brewing', 'brewery_type': 'micro', 'street': '4001 E 26th St', 'address_2': None, 'address_3': None, 'city': 'Indianapolis', 'state': 'Indiana', 'county_province': None, 'postal_code': '46218', 'country': 'United States', 'longitude': '-86.099105', 'latitude': '39.805091', 'phone': '3174079855', 'website_url': 'http://centralstatebrewing.com', 'updated_at': '2018-08-24T00:00:00.000Z', 'created_at': '2018-07-24T00:00:00.000Z'}\n",
      "{'id': 'chilly-water-brewing-company-indianapolis', 'name': 'Chilly Water Brewing Company', 'brewery_type': 'brewpub', 'street': '719 Virginia Ave Ste 105', 'address_2': None, 'address_3': None, 'city': 'Indianapolis', 'state': 'Indiana', 'county_province': None, 'postal_code': '46203-1976', 'country': 'United States', 'longitude': None, 'latitude': None, 'phone': '3179640518', 'website_url': 'http://www.chillywaterbrewing.com', 'updated_at': '2018-08-11T00:00:00.000Z', 'created_at': '2018-07-24T00:00:00.000Z'}\n",
      "{'id': 'daredevil-brewing-company-indianapolis', 'name': 'Daredevil Brewing Company', 'brewery_type': 'micro', 'street': '1151 Main St', 'address_2': None, 'address_3': None, 'city': 'Indianapolis', 'state': 'Indiana', 'county_province': None, 'postal_code': '46224-6976', 'country': 'United States', 'longitude': '-86.64727', 'latitude': '39.844367', 'phone': None, 'website_url': 'http://www.daredevilbeer.com', 'updated_at': '2018-08-24T00:00:00.000Z', 'created_at': '2018-07-24T00:00:00.000Z'}\n",
      "{'id': 'deviate-brewing-co-indianapolis', 'name': 'Deviate Brewing Co', 'brewery_type': 'micro', 'street': '4004 W 96th St', 'address_2': None, 'address_3': None, 'city': 'Indianapolis', 'state': 'Indiana', 'county_province': None, 'postal_code': '46268-2909', 'country': 'United States', 'longitude': None, 'latitude': None, 'phone': None, 'website_url': 'http://www.deviatebrewing.com', 'updated_at': '2018-08-11T00:00:00.000Z', 'created_at': '2018-07-24T00:00:00.000Z'}\n",
      "{'id': 'flat-12-bierwerks-indianapolis', 'name': 'Flat 12 Bierwerks', 'brewery_type': 'micro', 'street': '414 Dorman St', 'address_2': None, 'address_3': None, 'city': 'Indianapolis', 'state': 'Indiana', 'county_province': None, 'postal_code': '46202-3648', 'country': 'United States', 'longitude': '-86.13847', 'latitude': '39.77261486', 'phone': '3174265851', 'website_url': 'http://www.flat12.me', 'updated_at': '2018-08-24T00:00:00.000Z', 'created_at': '2018-07-24T00:00:00.000Z'}\n",
      "{'id': 'fountain-square-brewing-co-indianapolis', 'name': 'Fountain Square Brewing Co', 'brewery_type': 'micro', 'street': '1301 Barth Ave', 'address_2': None, 'address_3': None, 'city': 'Indianapolis', 'state': 'Indiana', 'county_province': None, 'postal_code': '46203-1872', 'country': 'United States', 'longitude': '-86.1404227', 'latitude': '39.7496885', 'phone': '3174931410', 'website_url': 'http://www.fountainsquarebrewing.com', 'updated_at': '2018-08-24T00:00:00.000Z', 'created_at': '2018-07-24T00:00:00.000Z'}\n",
      "{'id': 'granite-city-food-brewery-indianapolis', 'name': 'Granite City Food & Brewery', 'brewery_type': 'brewpub', 'street': '150 W 96th St', 'address_2': None, 'address_3': None, 'city': 'Indianapolis', 'state': 'Indiana', 'county_province': None, 'postal_code': '46260-4802', 'country': 'United States', 'longitude': None, 'latitude': None, 'phone': None, 'website_url': None, 'updated_at': '2018-08-11T00:00:00.000Z', 'created_at': '2018-07-24T00:00:00.000Z'}\n",
      "{'id': 'granite-city-food-brewery-27-indianapolis', 'name': 'Granite City Food & Brewery (#27)', 'brewery_type': 'brewpub', 'street': '150 W 96th St', 'address_2': None, 'address_3': None, 'city': 'Indianapolis', 'state': 'Indiana', 'county_province': None, 'postal_code': '46260-4802', 'country': 'United States', 'longitude': None, 'latitude': None, 'phone': '3172187185', 'website_url': 'http://www.gcfb.net', 'updated_at': '2018-08-11T00:00:00.000Z', 'created_at': '2018-07-24T00:00:00.000Z'}\n",
      "{'id': 'guggman-haus-brewing-co-indianapolis', 'name': 'Guggman Haus Brewing Co.', 'brewery_type': 'planning', 'street': None, 'address_2': None, 'address_3': None, 'city': 'Indianapolis', 'state': 'Indiana', 'county_province': None, 'postal_code': '46202-2158', 'country': 'United States', 'longitude': None, 'latitude': None, 'phone': '8122302554', 'website_url': 'http://www.guggmanhausbrewing.com', 'updated_at': '2018-08-11T00:00:00.000Z', 'created_at': '2018-07-24T00:00:00.000Z'}\n",
      "{'id': 'indiana-city-brewing-indianapolis', 'name': 'Indiana City Brewing', 'brewery_type': 'micro', 'street': '24 Shelby Street', 'address_2': None, 'address_3': None, 'city': 'Indianapolis', 'state': 'Indiana', 'county_province': None, 'postal_code': '46202-3941', 'country': 'United States', 'longitude': '-86.141258', 'latitude': '39.7661102', 'phone': '3176431103', 'website_url': 'http://indianacitybeer.com', 'updated_at': '2018-08-24T00:00:00.000Z', 'created_at': '2018-07-24T00:00:00.000Z'}\n"
     ]
    }
   ],
   "source": [
    "import requests\n",
    "url = \"https://api.openbrewerydb.org/breweries?by_city=indianapolis\"\n",
    "breweries=requests.get(url).json()\n",
    "for i in breweries:\n",
    "    print(i)"
   ]
  },
  {
   "cell_type": "code",
   "execution_count": null,
   "id": "71d0668c",
   "metadata": {},
   "outputs": [],
   "source": []
  }
 ],
 "metadata": {
  "kernelspec": {
   "display_name": "Python 3 (ipykernel)",
   "language": "python",
   "name": "python3"
  },
  "language_info": {
   "codemirror_mode": {
    "name": "ipython",
    "version": 3
   },
   "file_extension": ".py",
   "mimetype": "text/x-python",
   "name": "python",
   "nbconvert_exporter": "python",
   "pygments_lexer": "ipython3",
   "version": "3.9.7"
  }
 },
 "nbformat": 4,
 "nbformat_minor": 5
}
