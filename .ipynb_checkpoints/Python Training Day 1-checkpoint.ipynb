{
 "cells": [
  {
   "cell_type": "code",
   "execution_count": 1,
   "id": "7f1f7d15",
   "metadata": {},
   "outputs": [
    {
     "name": "stdout",
     "output_type": "stream",
     "text": [
      "Hello World\n"
     ]
    }
   ],
   "source": [
    "print(\"Hello World\")"
   ]
  },
  {
   "cell_type": "code",
   "execution_count": 2,
   "id": "90870850",
   "metadata": {},
   "outputs": [
    {
     "data": {
      "text/plain": [
       "str"
      ]
     },
     "execution_count": 2,
     "metadata": {},
     "output_type": "execute_result"
    }
   ],
   "source": [
    "type('100')"
   ]
  },
  {
   "cell_type": "code",
   "execution_count": 3,
   "id": "10096942",
   "metadata": {},
   "outputs": [
    {
     "data": {
      "text/plain": [
       "int"
      ]
     },
     "execution_count": 3,
     "metadata": {},
     "output_type": "execute_result"
    }
   ],
   "source": [
    "type(100)"
   ]
  },
  {
   "cell_type": "code",
   "execution_count": 4,
   "id": "47f6bb5a",
   "metadata": {},
   "outputs": [
    {
     "data": {
      "text/plain": [
       "float"
      ]
     },
     "execution_count": 4,
     "metadata": {},
     "output_type": "execute_result"
    }
   ],
   "source": [
    "type(100.00)"
   ]
  },
  {
   "cell_type": "code",
   "execution_count": 7,
   "id": "368c3dbe",
   "metadata": {},
   "outputs": [
    {
     "data": {
      "text/plain": [
       "bool"
      ]
     },
     "execution_count": 7,
     "metadata": {},
     "output_type": "execute_result"
    }
   ],
   "source": [
    "type(True)"
   ]
  },
  {
   "cell_type": "code",
   "execution_count": 8,
   "id": "21e8a5eb",
   "metadata": {},
   "outputs": [
    {
     "data": {
      "text/plain": [
       "bool"
      ]
     },
     "execution_count": 8,
     "metadata": {},
     "output_type": "execute_result"
    }
   ],
   "source": [
    "type (False)"
   ]
  },
  {
   "cell_type": "code",
   "execution_count": 9,
   "id": "4341f938",
   "metadata": {},
   "outputs": [
    {
     "data": {
      "text/plain": [
       "int"
      ]
     },
     "execution_count": 9,
     "metadata": {},
     "output_type": "execute_result"
    }
   ],
   "source": [
    "type(100*10)"
   ]
  },
  {
   "cell_type": "code",
   "execution_count": 10,
   "id": "04b9ed6b",
   "metadata": {},
   "outputs": [
    {
     "data": {
      "text/plain": [
       "bool"
      ]
     },
     "execution_count": 10,
     "metadata": {},
     "output_type": "execute_result"
    }
   ],
   "source": [
    "type(5<=7)"
   ]
  },
  {
   "cell_type": "code",
   "execution_count": 11,
   "id": "a4b59dff",
   "metadata": {},
   "outputs": [
    {
     "data": {
      "text/plain": [
       "float"
      ]
     },
     "execution_count": 11,
     "metadata": {},
     "output_type": "execute_result"
    }
   ],
   "source": [
    "type(4/3)"
   ]
  },
  {
   "cell_type": "code",
   "execution_count": 14,
   "id": "d4075a3b",
   "metadata": {},
   "outputs": [],
   "source": [
    "a=1995"
   ]
  },
  {
   "cell_type": "code",
   "execution_count": 15,
   "id": "d753e4e5",
   "metadata": {},
   "outputs": [],
   "source": [
    "b=1.0"
   ]
  },
  {
   "cell_type": "code",
   "execution_count": 16,
   "id": "f92dc66f",
   "metadata": {},
   "outputs": [],
   "source": [
    "c=\"234\""
   ]
  },
  {
   "cell_type": "code",
   "execution_count": 17,
   "id": "775c9b2b",
   "metadata": {},
   "outputs": [],
   "source": [
    "l=[a, b, c]"
   ]
  },
  {
   "cell_type": "code",
   "execution_count": 18,
   "id": "b0a43d58",
   "metadata": {},
   "outputs": [
    {
     "data": {
      "text/plain": [
       "list"
      ]
     },
     "execution_count": 18,
     "metadata": {},
     "output_type": "execute_result"
    }
   ],
   "source": [
    "type(l)"
   ]
  },
  {
   "cell_type": "code",
   "execution_count": 19,
   "id": "c8be2bb0",
   "metadata": {},
   "outputs": [],
   "source": [
    "sentence = \"The quick brown fox jumps over the lazy dog\""
   ]
  },
  {
   "cell_type": "code",
   "execution_count": 20,
   "id": "e157bd54",
   "metadata": {},
   "outputs": [
    {
     "name": "stdout",
     "output_type": "stream",
     "text": [
      "quick\n"
     ]
    }
   ],
   "source": [
    "print(sentence[4:9])"
   ]
  },
  {
   "cell_type": "code",
   "execution_count": 21,
   "id": "360a9c2b",
   "metadata": {},
   "outputs": [
    {
     "name": "stdout",
     "output_type": "stream",
     "text": [
      "THE QUICK BROWN FOX JUMPS OVER THE LAZY DOG\n"
     ]
    }
   ],
   "source": [
    "print(sentence.upper())"
   ]
  },
  {
   "cell_type": "code",
   "execution_count": 25,
   "id": "73d52787",
   "metadata": {},
   "outputs": [
    {
     "name": "stdout",
     "output_type": "stream",
     "text": [
      "<built-in method count of str object at 0x110ef39f0>\n"
     ]
    }
   ],
   "source": [
    "print(sentence.count)"
   ]
  },
  {
   "cell_type": "code",
   "execution_count": 26,
   "id": "a27a0c53",
   "metadata": {},
   "outputs": [],
   "source": [
    "first_name=\"Sai\""
   ]
  },
  {
   "cell_type": "code",
   "execution_count": 27,
   "id": "88d12b0a",
   "metadata": {},
   "outputs": [],
   "source": [
    "last_name=\"Bheemanathini\""
   ]
  },
  {
   "cell_type": "code",
   "execution_count": 31,
   "id": "e251fe64",
   "metadata": {},
   "outputs": [
    {
     "name": "stdout",
     "output_type": "stream",
     "text": [
      "SaiBheemanathini\n"
     ]
    }
   ],
   "source": [
    "print(first_name + last_name)"
   ]
  },
  {
   "cell_type": "code",
   "execution_count": 38,
   "id": "98d62e83",
   "metadata": {},
   "outputs": [
    {
     "name": "stdout",
     "output_type": "stream",
     "text": [
      "What's up Sai your last name is Bheemanathini?\n"
     ]
    }
   ],
   "source": [
    "print(\"What\\'s up {} your last name is {}?\".format(first_name,last_name))"
   ]
  },
  {
   "cell_type": "code",
   "execution_count": 39,
   "id": "adfaae83",
   "metadata": {},
   "outputs": [
    {
     "name": "stdout",
     "output_type": "stream",
     "text": [
      "SaiBheemanathini\n"
     ]
    }
   ],
   "source": [
    "print(\"{}{}\".format(first_name,last_name))"
   ]
  },
  {
   "cell_type": "code",
   "execution_count": 40,
   "id": "94b81b1b",
   "metadata": {},
   "outputs": [],
   "source": [
    "topic=\"strings\""
   ]
  },
  {
   "cell_type": "code",
   "execution_count": 41,
   "id": "cf76cbd8",
   "metadata": {},
   "outputs": [],
   "source": [
    "language=\"Python\""
   ]
  },
  {
   "cell_type": "code",
   "execution_count": 52,
   "id": "220620a1",
   "metadata": {},
   "outputs": [
    {
     "name": "stdout",
     "output_type": "stream",
     "text": [
      "Today I am learning about strings in Python.\n"
     ]
    }
   ],
   "source": [
    "print(\"Today I am learning about \" + topic + \" in \" +  language + \".\")"
   ]
  },
  {
   "cell_type": "code",
   "execution_count": 46,
   "id": "d23bdfb2",
   "metadata": {},
   "outputs": [
    {
     "name": "stdout",
     "output_type": "stream",
     "text": [
      "Today I am learning about strings in Python.\n"
     ]
    }
   ],
   "source": [
    "print(\"Today I am learning about {} in {}.\".format(topic,language))"
   ]
  },
  {
   "cell_type": "code",
   "execution_count": 54,
   "id": "e8fec105",
   "metadata": {},
   "outputs": [
    {
     "name": "stdout",
     "output_type": "stream",
     "text": [
      "Today I am learning about strings in Python.\n"
     ]
    }
   ],
   "source": [
    "print(f\"Today I am learning about {topic} in {language}.\")"
   ]
  },
  {
   "cell_type": "code",
   "execution_count": 55,
   "id": "618ca9a4",
   "metadata": {},
   "outputs": [
    {
     "name": "stdout",
     "output_type": "stream",
     "text": [
      "['spam', 'ham', 'eggs', 'cheese']\n"
     ]
    }
   ],
   "source": [
    "grocery_list = ['spam', 'ham', 'eggs', 'cheese']\n",
    "print(grocery_list)"
   ]
  },
  {
   "cell_type": "code",
   "execution_count": 59,
   "id": "ab642372",
   "metadata": {},
   "outputs": [
    {
     "name": "stdout",
     "output_type": "stream",
     "text": [
      "spam\n",
      "cheese\n",
      "['spam', 'ham', 'eggs']\n"
     ]
    }
   ],
   "source": [
    "print(grocery_list[0])\n",
    "print(grocery_list[-1])\n",
    "print(grocery_list[:3])"
   ]
  },
  {
   "cell_type": "raw",
   "id": "9ede052b",
   "metadata": {},
   "source": [
    "grocery_list.append(\"milk\")"
   ]
  },
  {
   "cell_type": "code",
   "execution_count": 60,
   "id": "619e180b",
   "metadata": {},
   "outputs": [
    {
     "name": "stdout",
     "output_type": "stream",
     "text": [
      "['spam', 'ham', 'eggs', 'cheese']\n"
     ]
    }
   ],
   "source": [
    "print(grocery_list)"
   ]
  },
  {
   "cell_type": "code",
   "execution_count": 61,
   "id": "29ed5fc9",
   "metadata": {},
   "outputs": [
    {
     "name": "stdout",
     "output_type": "stream",
     "text": [
      "['spam', 'ham', 'eggs', 'cheese']\n"
     ]
    }
   ],
   "source": [
    "print(grocery_list)"
   ]
  },
  {
   "cell_type": "code",
   "execution_count": 62,
   "id": "be825df1",
   "metadata": {},
   "outputs": [],
   "source": [
    "grocery_list.append(\"milk\")"
   ]
  },
  {
   "cell_type": "code",
   "execution_count": 63,
   "id": "60f0f358",
   "metadata": {},
   "outputs": [
    {
     "name": "stdout",
     "output_type": "stream",
     "text": [
      "['spam', 'ham', 'eggs', 'cheese', 'milk']\n"
     ]
    }
   ],
   "source": [
    "print(grocery_list)"
   ]
  },
  {
   "cell_type": "code",
   "execution_count": 64,
   "id": "4919f3c3",
   "metadata": {},
   "outputs": [],
   "source": [
    "grocery_list.remove(\"cheese\")"
   ]
  },
  {
   "cell_type": "code",
   "execution_count": 65,
   "id": "f0084095",
   "metadata": {},
   "outputs": [
    {
     "name": "stdout",
     "output_type": "stream",
     "text": [
      "['spam', 'ham', 'eggs', 'milk']\n"
     ]
    }
   ],
   "source": [
    "print(grocery_list)"
   ]
  },
  {
   "cell_type": "code",
   "execution_count": 66,
   "id": "96e48425",
   "metadata": {},
   "outputs": [
    {
     "ename": "AttributeError",
     "evalue": "'list' object has no attribute 'replace'",
     "output_type": "error",
     "traceback": [
      "\u001b[0;31m---------------------------------------------------------------------------\u001b[0m",
      "\u001b[0;31mAttributeError\u001b[0m                            Traceback (most recent call last)",
      "\u001b[0;32m/var/folders/f5/fqkbkzzx1sdfvn4c1hstzl1w0000gq/T/ipykernel_67845/1430223209.py\u001b[0m in \u001b[0;36m<module>\u001b[0;34m\u001b[0m\n\u001b[0;32m----> 1\u001b[0;31m \u001b[0mgrocery_list\u001b[0m\u001b[0;34m.\u001b[0m\u001b[0mreplace\u001b[0m\u001b[0;34m(\u001b[0m\u001b[0;34m\"milk\"\u001b[0m\u001b[0;34m,\u001b[0m\u001b[0;34m\"cheese\"\u001b[0m\u001b[0;34m)\u001b[0m\u001b[0;34m\u001b[0m\u001b[0;34m\u001b[0m\u001b[0m\n\u001b[0m",
      "\u001b[0;31mAttributeError\u001b[0m: 'list' object has no attribute 'replace'"
     ]
    }
   ],
   "source": [
    "grocery_list.replace(\"milk\",\"cheese\")"
   ]
  },
  {
   "cell_type": "code",
   "execution_count": 67,
   "id": "d59ec667",
   "metadata": {},
   "outputs": [
    {
     "data": {
      "text/plain": [
       "'cheese'"
      ]
     },
     "execution_count": 67,
     "metadata": {},
     "output_type": "execute_result"
    }
   ],
   "source": [
    "grocery_list[3].replace(\"milk\",\"cheese\")"
   ]
  },
  {
   "cell_type": "code",
   "execution_count": 71,
   "id": "af86a6e1",
   "metadata": {},
   "outputs": [
    {
     "name": "stdout",
     "output_type": "stream",
     "text": [
      "['spam', 'ham', 'eggs', 'milk']\n"
     ]
    }
   ],
   "source": [
    "print(grocery_list)"
   ]
  },
  {
   "cell_type": "code",
   "execution_count": 70,
   "id": "d87cf9ba",
   "metadata": {},
   "outputs": [
    {
     "data": {
      "text/plain": [
       "'cheese'"
      ]
     },
     "execution_count": 70,
     "metadata": {},
     "output_type": "execute_result"
    }
   ],
   "source": [
    "grocery_list[3].replace(\"milk\",\"cheese\")"
   ]
  },
  {
   "cell_type": "code",
   "execution_count": 73,
   "id": "b3c41739",
   "metadata": {},
   "outputs": [
    {
     "name": "stdout",
     "output_type": "stream",
     "text": [
      "cheese\n"
     ]
    }
   ],
   "source": [
    "print(grocery_list[3].replace(\"milk\",\"cheese\"))"
   ]
  },
  {
   "cell_type": "code",
   "execution_count": 74,
   "id": "05d3f376",
   "metadata": {},
   "outputs": [],
   "source": [
    "grocery_list[3]=grocery_list[3].replace(\"milk\",\"cheese\")"
   ]
  },
  {
   "cell_type": "code",
   "execution_count": 75,
   "id": "855fce9b",
   "metadata": {},
   "outputs": [
    {
     "name": "stdout",
     "output_type": "stream",
     "text": [
      "['spam', 'ham', 'eggs', 'cheese']\n"
     ]
    }
   ],
   "source": [
    "print(grocery_list)"
   ]
  },
  {
   "cell_type": "code",
   "execution_count": 76,
   "id": "19351a5a",
   "metadata": {},
   "outputs": [],
   "source": [
    "grocery_list[3]=grocery_list[3].replace(\"cheese\",\"milk\")"
   ]
  },
  {
   "cell_type": "code",
   "execution_count": 77,
   "id": "25740960",
   "metadata": {},
   "outputs": [
    {
     "name": "stdout",
     "output_type": "stream",
     "text": [
      "['spam', 'ham', 'eggs', 'milk']\n"
     ]
    }
   ],
   "source": [
    "print(grocery_list)"
   ]
  },
  {
   "cell_type": "code",
   "execution_count": 78,
   "id": "16102267",
   "metadata": {},
   "outputs": [],
   "source": [
    "extra_ingredients = ['onion', 'mushrooms', 'pepper']"
   ]
  },
  {
   "cell_type": "code",
   "execution_count": 79,
   "id": "a2b40f69",
   "metadata": {},
   "outputs": [],
   "source": [
    "grocery_list[-1]=extra_ingredients = ['onion', 'mushrooms', 'pepper']"
   ]
  },
  {
   "cell_type": "code",
   "execution_count": 80,
   "id": "9dee424b",
   "metadata": {},
   "outputs": [
    {
     "name": "stdout",
     "output_type": "stream",
     "text": [
      "['spam', 'ham', 'eggs', ['onion', 'mushrooms', 'pepper']]\n"
     ]
    }
   ],
   "source": [
    "print(grocery_list)"
   ]
  },
  {
   "cell_type": "code",
   "execution_count": 81,
   "id": "31a72afb",
   "metadata": {},
   "outputs": [],
   "source": [
    "matrix = [['A', 'B', 'C'], ['D', 'E', 'F'], ['G', 'H', 'I']]"
   ]
  },
  {
   "cell_type": "code",
   "execution_count": 82,
   "id": "26402be4",
   "metadata": {},
   "outputs": [
    {
     "data": {
      "text/plain": [
       "'D'"
      ]
     },
     "execution_count": 82,
     "metadata": {},
     "output_type": "execute_result"
    }
   ],
   "source": [
    "matrix[1][0]"
   ]
  },
  {
   "cell_type": "code",
   "execution_count": 83,
   "id": "020038fc",
   "metadata": {},
   "outputs": [
    {
     "data": {
      "text/plain": [
       "'I'"
      ]
     },
     "execution_count": 83,
     "metadata": {},
     "output_type": "execute_result"
    }
   ],
   "source": [
    "matrix[2][2]"
   ]
  },
  {
   "cell_type": "code",
   "execution_count": 84,
   "id": "7dc91f64",
   "metadata": {},
   "outputs": [],
   "source": [
    "grocery_list.extend(extra_ingredients)"
   ]
  },
  {
   "cell_type": "code",
   "execution_count": 85,
   "id": "cc2fa568",
   "metadata": {},
   "outputs": [
    {
     "name": "stdout",
     "output_type": "stream",
     "text": [
      "['spam', 'ham', 'eggs', ['onion', 'mushrooms', 'pepper'], 'onion', 'mushrooms', 'pepper']\n"
     ]
    }
   ],
   "source": [
    "print(grocery_list)"
   ]
  },
  {
   "cell_type": "code",
   "execution_count": 87,
   "id": "aef638ed",
   "metadata": {},
   "outputs": [],
   "source": [
    "grocery_list.remove(['onion', 'mushrooms', 'pepper'])"
   ]
  },
  {
   "cell_type": "code",
   "execution_count": 88,
   "id": "4f30a636",
   "metadata": {},
   "outputs": [
    {
     "name": "stdout",
     "output_type": "stream",
     "text": [
      "['spam', 'ham', 'eggs', 'onion', 'mushrooms', 'pepper']\n"
     ]
    }
   ],
   "source": [
    "print(grocery_list)"
   ]
  },
  {
   "cell_type": "code",
   "execution_count": 89,
   "id": "09697032",
   "metadata": {},
   "outputs": [],
   "source": [
    "client = {'name': 'John Doe', 'age': 42, 'email': 'john@doe.com', 'country': 'United Kingdom'}"
   ]
  },
  {
   "cell_type": "code",
   "execution_count": 90,
   "id": "98cb41e4",
   "metadata": {},
   "outputs": [
    {
     "name": "stdout",
     "output_type": "stream",
     "text": [
      "john@doe.com\n"
     ]
    }
   ],
   "source": [
    "print(client['email'])"
   ]
  },
  {
   "cell_type": "code",
   "execution_count": 91,
   "id": "556b7dd7",
   "metadata": {},
   "outputs": [
    {
     "ename": "AttributeError",
     "evalue": "'dict' object has no attribute 'name'",
     "output_type": "error",
     "traceback": [
      "\u001b[0;31m---------------------------------------------------------------------------\u001b[0m",
      "\u001b[0;31mAttributeError\u001b[0m                            Traceback (most recent call last)",
      "\u001b[0;32m/var/folders/f5/fqkbkzzx1sdfvn4c1hstzl1w0000gq/T/ipykernel_67845/3106497816.py\u001b[0m in \u001b[0;36m<module>\u001b[0;34m\u001b[0m\n\u001b[0;32m----> 1\u001b[0;31m \u001b[0mclient\u001b[0m\u001b[0;34m.\u001b[0m\u001b[0mname\u001b[0m\u001b[0;34m(\u001b[0m\u001b[0;34m)\u001b[0m\u001b[0;34m\u001b[0m\u001b[0;34m\u001b[0m\u001b[0m\n\u001b[0m",
      "\u001b[0;31mAttributeError\u001b[0m: 'dict' object has no attribute 'name'"
     ]
    }
   ],
   "source": [
    "client.name()"
   ]
  },
  {
   "cell_type": "code",
   "execution_count": 92,
   "id": "568811da",
   "metadata": {},
   "outputs": [
    {
     "data": {
      "text/plain": [
       "'John Doe'"
      ]
     },
     "execution_count": 92,
     "metadata": {},
     "output_type": "execute_result"
    }
   ],
   "source": [
    "client[\"name\"]"
   ]
  },
  {
   "cell_type": "code",
   "execution_count": 94,
   "id": "8112de97",
   "metadata": {},
   "outputs": [],
   "source": [
    "client[\"age\"] = 32"
   ]
  },
  {
   "cell_type": "code",
   "execution_count": 95,
   "id": "8068877c",
   "metadata": {},
   "outputs": [
    {
     "name": "stdout",
     "output_type": "stream",
     "text": [
      "{'name': 'John Doe', 'age': 32, 'email': 'john@doe.com', 'country': 'United Kingdom'}\n"
     ]
    }
   ],
   "source": [
    "print(client)"
   ]
  },
  {
   "cell_type": "code",
   "execution_count": 96,
   "id": "45e18ec9",
   "metadata": {},
   "outputs": [
    {
     "name": "stdout",
     "output_type": "stream",
     "text": [
      "dict_values(['John Doe', 32, 'john@doe.com', 'United Kingdom'])\n"
     ]
    }
   ],
   "source": [
    "print(client.values())"
   ]
  },
  {
   "cell_type": "code",
   "execution_count": 97,
   "id": "88576568",
   "metadata": {},
   "outputs": [],
   "source": [
    "client[\"city\"]=\"London\""
   ]
  },
  {
   "cell_type": "code",
   "execution_count": 98,
   "id": "6dc9b62e",
   "metadata": {},
   "outputs": [
    {
     "name": "stdout",
     "output_type": "stream",
     "text": [
      "{'name': 'John Doe', 'age': 32, 'email': 'john@doe.com', 'country': 'United Kingdom', 'city': 'London'}\n"
     ]
    }
   ],
   "source": [
    "print(client)"
   ]
  },
  {
   "cell_type": "code",
   "execution_count": 99,
   "id": "9e69a2e2",
   "metadata": {},
   "outputs": [],
   "source": [
    "client = {'name': 'John Doe', \n",
    "          'age': 42, \n",
    "          'email': 'john@doe.com', \n",
    "          'address': {'street': 'Abbey Road', 'city': 'London', 'country': 'United Kingdom'},\n",
    "          'children': ['Sophia', 'Emma']\n",
    "         }\n"
   ]
  },
  {
   "cell_type": "code",
   "execution_count": 102,
   "id": "0aee282a",
   "metadata": {},
   "outputs": [
    {
     "name": "stdout",
     "output_type": "stream",
     "text": [
      "Abbey Road\n",
      "Sophia\n"
     ]
    }
   ],
   "source": [
    "print(client[\"address\"][\"street\"])\n",
    "print(client[\"children\"][0])"
   ]
  },
  {
   "cell_type": "code",
   "execution_count": 103,
   "id": "7ab3ec85",
   "metadata": {},
   "outputs": [
    {
     "name": "stdout",
     "output_type": "stream",
     "text": [
      "False\n",
      "True\n",
      "True\n",
      "False\n",
      "True\n",
      "False\n"
     ]
    }
   ],
   "source": [
    "x=20\n",
    "y=30\n",
    "print(x==y)\n",
    "print(x!=y)\n",
    "print(x<y)\n",
    "print(x>y)\n",
    "print(x<=y)\n",
    "print(x>=y)"
   ]
  },
  {
   "cell_type": "code",
   "execution_count": 104,
   "id": "d2e9cb79",
   "metadata": {},
   "outputs": [
    {
     "name": "stdout",
     "output_type": "stream",
     "text": [
      "False\n"
     ]
    }
   ],
   "source": [
    "print(x>10 and y<30)"
   ]
  },
  {
   "cell_type": "code",
   "execution_count": 105,
   "id": "b238d6e2",
   "metadata": {},
   "outputs": [
    {
     "name": "stdout",
     "output_type": "stream",
     "text": [
      "True\n"
     ]
    }
   ],
   "source": [
    "print(not(x>10 and y<30))"
   ]
  },
  {
   "cell_type": "code",
   "execution_count": 111,
   "id": "4553b94a",
   "metadata": {},
   "outputs": [
    {
     "name": "stdout",
     "output_type": "stream",
     "text": [
      "True\n"
     ]
    }
   ],
   "source": [
    "print(\"@\" in \"janedoe@live.com\")"
   ]
  },
  {
   "cell_type": "code",
   "execution_count": 112,
   "id": "00b202f7",
   "metadata": {},
   "outputs": [
    {
     "data": {
      "text/plain": [
       "False"
      ]
     },
     "execution_count": 112,
     "metadata": {},
     "output_type": "execute_result"
    }
   ],
   "source": [
    "True and bool(0)\n",
    "False and []"
   ]
  },
  {
   "cell_type": "code",
   "execution_count": 113,
   "id": "bb0b1d8a",
   "metadata": {},
   "outputs": [
    {
     "data": {
      "text/plain": [
       "False"
      ]
     },
     "execution_count": 113,
     "metadata": {},
     "output_type": "execute_result"
    }
   ],
   "source": [
    "False and []"
   ]
  },
  {
   "cell_type": "code",
   "execution_count": 114,
   "id": "4dcf36bf",
   "metadata": {},
   "outputs": [
    {
     "data": {
      "text/plain": [
       "False"
      ]
     },
     "execution_count": 114,
     "metadata": {},
     "output_type": "execute_result"
    }
   ],
   "source": [
    "True and bool(0)"
   ]
  },
  {
   "cell_type": "code",
   "execution_count": 115,
   "id": "9dffa7ba",
   "metadata": {},
   "outputs": [
    {
     "data": {
      "text/plain": [
       "True"
      ]
     },
     "execution_count": 115,
     "metadata": {},
     "output_type": "execute_result"
    }
   ],
   "source": [
    "bool({\"name\": \"John\"})"
   ]
  },
  {
   "cell_type": "code",
   "execution_count": 116,
   "id": "5623050b",
   "metadata": {},
   "outputs": [
    {
     "data": {
      "text/plain": [
       "True"
      ]
     },
     "execution_count": 116,
     "metadata": {},
     "output_type": "execute_result"
    }
   ],
   "source": [
    "\"django\" == \"django\" and \"flask\" != \"fastapi\""
   ]
  },
  {
   "cell_type": "code",
   "execution_count": 117,
   "id": "34ec7e02",
   "metadata": {},
   "outputs": [
    {
     "data": {
      "text/plain": [
       "True"
      ]
     },
     "execution_count": 117,
     "metadata": {},
     "output_type": "execute_result"
    }
   ],
   "source": [
    "\"selenium\" == \"selenium\""
   ]
  },
  {
   "cell_type": "code",
   "execution_count": 118,
   "id": "aeae243e",
   "metadata": {},
   "outputs": [
    {
     "data": {
      "text/plain": [
       "True"
      ]
     },
     "execution_count": 118,
     "metadata": {},
     "output_type": "execute_result"
    }
   ],
   "source": [
    "bool(-5) and 0 != 1"
   ]
  },
  {
   "cell_type": "code",
   "execution_count": 119,
   "id": "e86e057f",
   "metadata": {},
   "outputs": [
    {
     "data": {
      "text/plain": [
       "True"
      ]
     },
     "execution_count": 119,
     "metadata": {},
     "output_type": "execute_result"
    }
   ],
   "source": [
    "False or 1 >= 1"
   ]
  },
  {
   "cell_type": "code",
   "execution_count": 120,
   "id": "847f7dfb",
   "metadata": {},
   "outputs": [
    {
     "data": {
      "text/plain": [
       "True"
      ]
     },
     "execution_count": 120,
     "metadata": {},
     "output_type": "execute_result"
    }
   ],
   "source": [
    "\"django\" != \"flask\""
   ]
  },
  {
   "cell_type": "code",
   "execution_count": 121,
   "id": "7b55aded",
   "metadata": {},
   "outputs": [
    {
     "data": {
      "text/plain": [
       "True"
      ]
     },
     "execution_count": 121,
     "metadata": {},
     "output_type": "execute_result"
    }
   ],
   "source": [
    "True or 1 != 5"
   ]
  },
  {
   "cell_type": "code",
   "execution_count": 122,
   "id": "a716a970",
   "metadata": {},
   "outputs": [
    {
     "data": {
      "text/plain": [
       "False"
      ]
     },
     "execution_count": 122,
     "metadata": {},
     "output_type": "execute_result"
    }
   ],
   "source": [
    "not (True or False)"
   ]
  },
  {
   "cell_type": "code",
   "execution_count": 123,
   "id": "ff9958d6",
   "metadata": {},
   "outputs": [
    {
     "data": {
      "text/plain": [
       "False"
      ]
     },
     "execution_count": 123,
     "metadata": {},
     "output_type": "execute_result"
    }
   ],
   "source": [
    "not (1 == 1 and 1 != 5)"
   ]
  },
  {
   "cell_type": "code",
   "execution_count": 124,
   "id": "42a108a5",
   "metadata": {},
   "outputs": [
    {
     "data": {
      "text/plain": [
       "True"
      ]
     },
     "execution_count": 124,
     "metadata": {},
     "output_type": "execute_result"
    }
   ],
   "source": [
    "1 == 1 and bool([0]) "
   ]
  },
  {
   "cell_type": "code",
   "execution_count": 132,
   "id": "32282a1e",
   "metadata": {},
   "outputs": [
    {
     "name": "stdout",
     "output_type": "stream",
     "text": [
      "This list is empty\n"
     ]
    }
   ],
   "source": [
    "my_list= []\n",
    "if len(my_list) != 0:\n",
    "    print(\"This list is not empty\")\n",
    "else:\n",
    "    print(\"This list is empty\")"
   ]
  },
  {
   "cell_type": "code",
   "execution_count": 126,
   "id": "f983ec6d",
   "metadata": {},
   "outputs": [
    {
     "name": "stdout",
     "output_type": "stream",
     "text": [
      "This list is not empty\n"
     ]
    }
   ],
   "source": [
    "my_list= [1]\n",
    "if len(my_list) != 0:\n",
    "    print(\"This list is not empty\")"
   ]
  },
  {
   "cell_type": "code",
   "execution_count": 139,
   "id": "491062c7",
   "metadata": {},
   "outputs": [
    {
     "name": "stdout",
     "output_type": "stream",
     "text": [
      "Heineken is profitable\n"
     ]
    }
   ],
   "source": [
    "company_name = 'Heineken'\n",
    "revenues = 100\n",
    "costs = 80\n",
    "\n",
    "if revenues > costs:\n",
    "    print (f\"{company_name} is profitable\")\n",
    "elif revenues == costs:\n",
    "    print (f\"{company_name} breaks even\")\n",
    "else:\n",
    "    print (f\"{company_name} makes a loss\")"
   ]
  },
  {
   "cell_type": "code",
   "execution_count": 140,
   "id": "eae3105f",
   "metadata": {},
   "outputs": [
    {
     "name": "stdout",
     "output_type": "stream",
     "text": [
      "What was your (percentage) score? 80\n"
     ]
    }
   ],
   "source": [
    "score = int(input(\"What was your (percentage) score? \"))"
   ]
  },
  {
   "cell_type": "code",
   "execution_count": 141,
   "id": "2717e725",
   "metadata": {},
   "outputs": [
    {
     "name": "stdout",
     "output_type": "stream",
     "text": [
      "What was your (percentage) score? 80\n",
      "Pass\n"
     ]
    }
   ],
   "source": [
    "score = int(input(\"What was your (percentage) score? \"))\n",
    "\n",
    "if score > 70:\n",
    "    print (\"Pass\")\n",
    "else:\n",
    "    print (\"Fail\")"
   ]
  },
  {
   "cell_type": "code",
   "execution_count": 148,
   "id": "d816525f",
   "metadata": {},
   "outputs": [
    {
     "name": "stdout",
     "output_type": "stream",
     "text": [
      "What was your (percentage) score? 72\n",
      "Grade:C\n"
     ]
    }
   ],
   "source": [
    "score = int(input(\"What was your (percentage) score? \"))\n",
    "\n",
    "if score >= 90:\n",
    "    print (\"Grade:A\")\n",
    "elif score >= 80 and score < 90:\n",
    "    print (\"Grade:B\")\n",
    "elif score >=70 and score < 80:\n",
    "    print (\"Grade:C\")\n",
    "elif score >=60 and score < 70:\n",
    "    print (\"Grade:D\")\n",
    "else:\n",
    "    print (\"Grade:F\")"
   ]
  },
  {
   "cell_type": "code",
   "execution_count": 151,
   "id": "3ae0bd4c",
   "metadata": {},
   "outputs": [
    {
     "name": "stdout",
     "output_type": "stream",
     "text": [
      "What was your (percentage) score? 95\n",
      "Grade:A\n"
     ]
    }
   ],
   "source": [
    "score = int(input(\"What was your (percentage) score? \"))\n",
    "\n",
    "if score >= 90:\n",
    "    print (\"Grade:A\")\n",
    "elif score >= 80 and score < 90:\n",
    "    print (\"Grade:B\")\n",
    "elif score >=70 and score < 80:\n",
    "    print (\"Grade:C\")\n",
    "elif score >=60 and score < 70:\n",
    "    print (\"Grade:D\")\n",
    "else:\n",
    "    print (\"Grade:F\")"
   ]
  },
  {
   "cell_type": "code",
   "execution_count": 153,
   "id": "a42e485f",
   "metadata": {},
   "outputs": [
    {
     "name": "stdout",
     "output_type": "stream",
     "text": [
      "Java\n",
      "C\n",
      "Python\n",
      "PHP\n",
      "JavaScript\n"
     ]
    }
   ],
   "source": [
    "programming_languages = ['Java', 'C', 'Python', 'PHP', 'JavaScript']\n",
    "\n",
    "for language in programming_languages:\n",
    "    print(language)"
   ]
  },
  {
   "cell_type": "code",
   "execution_count": 160,
   "id": "80dda91c",
   "metadata": {},
   "outputs": [
    {
     "name": "stdout",
     "output_type": "stream",
     "text": [
      "1\n",
      "2\n",
      "3\n",
      "4\n",
      "5\n",
      "Finished\n"
     ]
    }
   ],
   "source": [
    "x=0\n",
    "while x<5:\n",
    "    x = x + 1\n",
    "    print (x)\n",
    "print (\"Finished\")"
   ]
  },
  {
   "cell_type": "code",
   "execution_count": 166,
   "id": "c456262a",
   "metadata": {},
   "outputs": [
    {
     "name": "stdout",
     "output_type": "stream",
     "text": [
      "Item # 1\n",
      "Item # 2\n",
      "Item # 3\n",
      "Item # 4\n",
      "Item # 5\n"
     ]
    }
   ],
   "source": [
    "for x in range(1,6):\n",
    "    print(f\"Item # {x}\")"
   ]
  },
  {
   "cell_type": "code",
   "execution_count": 163,
   "id": "5e760e10",
   "metadata": {},
   "outputs": [
    {
     "name": "stdout",
     "output_type": "stream",
     "text": [
      "1 Java\n",
      "2 C\n",
      "3 Python\n",
      "4 PHP\n",
      "5 JavaScript\n"
     ]
    }
   ],
   "source": [
    "programming_languages = ['Java', 'C', 'Python', 'PHP', 'JavaScript']\n",
    "\n",
    "for index,language in enumerate(programming_languages, start=1):\n",
    "    print(index,language)"
   ]
  },
  {
   "cell_type": "code",
   "execution_count": 167,
   "id": "c0edb094",
   "metadata": {},
   "outputs": [
    {
     "name": "stdout",
     "output_type": "stream",
     "text": [
      "0\n",
      "2\n",
      "4\n",
      "6\n",
      "8\n"
     ]
    }
   ],
   "source": [
    "for x in range(0,10):\n",
    "    if x%2 == 0:\n",
    "        print(x)\n",
    "    else:\n",
    "        continue"
   ]
  },
  {
   "cell_type": "code",
   "execution_count": 181,
   "id": "24f366ac",
   "metadata": {},
   "outputs": [
    {
     "name": "stdout",
     "output_type": "stream",
     "text": [
      "Guess a number1\n"
     ]
    },
    {
     "data": {
      "text/plain": [
       "str"
      ]
     },
     "execution_count": 181,
     "metadata": {},
     "output_type": "execute_result"
    }
   ],
   "source": [
    "type(input(\"Guess a number\"))"
   ]
  },
  {
   "cell_type": "code",
   "execution_count": 174,
   "id": "36e1b868",
   "metadata": {},
   "outputs": [
    {
     "name": "stdout",
     "output_type": "stream",
     "text": [
      "1\n",
      "2\n",
      "3\n",
      "4\n",
      "5\n"
     ]
    }
   ],
   "source": [
    "x=0\n",
    "for x in range(0,5):\n",
    "    x=x+1\n",
    "    print(x)"
   ]
  },
  {
   "cell_type": "code",
   "execution_count": 176,
   "id": "8a2ce89c",
   "metadata": {},
   "outputs": [
    {
     "name": "stdout",
     "output_type": "stream",
     "text": [
      "7\n"
     ]
    }
   ],
   "source": [
    "import random\n",
    "number = random.randint(0, 100)\n",
    "print (number)"
   ]
  },
  {
   "cell_type": "code",
   "execution_count": 208,
   "id": "1038caae",
   "metadata": {},
   "outputs": [
    {
     "name": "stdout",
     "output_type": "stream",
     "text": [
      "Guess the number55\n",
      "Your guessed number is 55, Too high, guess again \n",
      "Guess the number34\n",
      "Your guessed number is 34, Too high, guess again \n",
      "Guess the number12\n",
      "Your guessed number is 12, Too low, guess again\n",
      "Guess the number15\n",
      "Your guessed number is 15, Too low, guess again\n",
      "Guess the number18\n",
      "Your guessed number is 18, Too high, guess again \n",
      "Game Over!!,Correct number is 16\n"
     ]
    }
   ],
   "source": [
    "import random\n",
    "correct_number = random.randint(0, 100)\n",
    "\n",
    "for x in range(0,5):\n",
    "    guess_number=int(input(\"Guess the number\"))\n",
    "    if guess_number == correct_number:\n",
    "        print (f\"Your guessed number is {guess_number}, Correct, you win\")\n",
    "        break\n",
    "    elif guess_number > correct_number:\n",
    "        print (f\"Your guessed number is {guess_number}, Too high, guess again \")\n",
    "    elif guess_number < correct_number:\n",
    "        print (f\"Your guessed number is {guess_number}, Too low, guess again\")\n",
    "\n",
    "print (f\"Game Over!!,Correct number is {correct_number}\")"
   ]
  },
  {
   "cell_type": "code",
   "execution_count": null,
   "id": "a78e6ef6",
   "metadata": {},
   "outputs": [],
   "source": []
  }
 ],
 "metadata": {
  "kernelspec": {
   "display_name": "Python 3 (ipykernel)",
   "language": "python",
   "name": "python3"
  },
  "language_info": {
   "codemirror_mode": {
    "name": "ipython",
    "version": 3
   },
   "file_extension": ".py",
   "mimetype": "text/x-python",
   "name": "python",
   "nbconvert_exporter": "python",
   "pygments_lexer": "ipython3",
   "version": "3.9.7"
  }
 },
 "nbformat": 4,
 "nbformat_minor": 5
}
