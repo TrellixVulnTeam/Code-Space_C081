{
 "cells": [
  {
   "cell_type": "markdown",
   "metadata": {},
   "source": [
    "# Recap day 1"
   ]
  },
  {
   "cell_type": "code",
   "execution_count": 2,
   "metadata": {},
   "outputs": [],
   "source": [
    "# data types\n",
    "i = 123   # integer\n",
    "f = 3.14  # float\n",
    "b = True  # bool\n",
    "s = \"text\"  # string\n",
    "l = [1, 2, 3]\n",
    "d = {\"name\": \"John\", \"city\": \"Dublin\"}"
   ]
  },
  {
   "cell_type": "code",
   "execution_count": 4,
   "metadata": {},
   "outputs": [
    {
     "name": "stdout",
     "output_type": "stream",
     "text": [
      "TEXT\n"
     ]
    }
   ],
   "source": [
    "# String methods\n",
    "print(s.upper())"
   ]
  },
  {
   "cell_type": "code",
   "execution_count": 5,
   "metadata": {},
   "outputs": [
    {
     "name": "stdout",
     "output_type": "stream",
     "text": [
      "[1, 2, 3, 4]\n"
     ]
    }
   ],
   "source": [
    "# Append to list\n",
    "l.append(4)\n",
    "print(l)"
   ]
  },
  {
   "cell_type": "code",
   "execution_count": 7,
   "metadata": {},
   "outputs": [
    {
     "name": "stdout",
     "output_type": "stream",
     "text": [
      "4\n",
      "[4, 3, 2, 1]\n"
     ]
    }
   ],
   "source": [
    "# Functions\n",
    "print(len(l))\n",
    "print(sorted(l, reverse=True))"
   ]
  },
  {
   "cell_type": "code",
   "execution_count": 8,
   "metadata": {},
   "outputs": [
    {
     "name": "stdout",
     "output_type": "stream",
     "text": [
      "John\n"
     ]
    }
   ],
   "source": [
    "# Dictionaries\n",
    "print(d[\"name\"])"
   ]
  },
  {
   "cell_type": "code",
   "execution_count": 9,
   "metadata": {},
   "outputs": [
    {
     "name": "stdout",
     "output_type": "stream",
     "text": [
      "{'name': 'John', 'city': 'Dublin', 'country': 'Ireland'}\n"
     ]
    }
   ],
   "source": [
    "# Add to dictionary\n",
    "d[\"country\"] = \"Ireland\"\n",
    "print(d)"
   ]
  },
  {
   "cell_type": "code",
   "execution_count": 10,
   "metadata": {},
   "outputs": [
    {
     "name": "stdout",
     "output_type": "stream",
     "text": [
      "Cheers!\n"
     ]
    }
   ],
   "source": [
    "# If else\n",
    "if d[\"country\"] == \"Ireland\":\n",
    "    print(\"Cheers!\")\n",
    "else:\n",
    "    print(\"Bye!\")"
   ]
  },
  {
   "cell_type": "code",
   "execution_count": 11,
   "metadata": {},
   "outputs": [
    {
     "data": {
      "text/plain": [
       "True"
      ]
     },
     "execution_count": 11,
     "metadata": {},
     "output_type": "execute_result"
    }
   ],
   "source": [
    "# Bool\n",
    "bool(d[\"country\"] == \"Ireland\")"
   ]
  },
  {
   "cell_type": "code",
   "execution_count": 13,
   "metadata": {},
   "outputs": [
    {
     "name": "stdout",
     "output_type": "stream",
     "text": [
      "spam\n",
      "ham\n",
      "eggs\n",
      "cheese\n"
     ]
    }
   ],
   "source": [
    "# Loops\n",
    "groceries = [\"spam\", \"ham\", \"eggs\", \"cheese\"]\n",
    "\n",
    "for item in groceries:\n",
    "    print(item)"
   ]
  },
  {
   "cell_type": "code",
   "execution_count": 16,
   "metadata": {},
   "outputs": [
    {
     "name": "stdout",
     "output_type": "stream",
     "text": [
      "100 spam\n",
      "101 ham\n",
      "102 eggs\n",
      "103 cheese\n"
     ]
    }
   ],
   "source": [
    "# Enumerate\n",
    "for index, item in enumerate(groceries, start=100):\n",
    "    print(index, item)"
   ]
  },
  {
   "cell_type": "code",
   "execution_count": 20,
   "metadata": {},
   "outputs": [
    {
     "name": "stdout",
     "output_type": "stream",
     "text": [
      "A number please: 4\n",
      "8\n"
     ]
    }
   ],
   "source": [
    "# While\n",
    "number = None\n",
    "while not number:\n",
    "    number = int(input(\"A number please: \"))\n",
    "print(number * 2)"
   ]
  },
  {
   "cell_type": "code",
   "execution_count": 21,
   "metadata": {},
   "outputs": [
    {
     "name": "stdout",
     "output_type": "stream",
     "text": [
      "You answered 4\n"
     ]
    }
   ],
   "source": [
    "# F-strings\n",
    "print(f\"You answered {number}\")"
   ]
  },
  {
   "cell_type": "code",
   "execution_count": null,
   "metadata": {},
   "outputs": [],
   "source": [
    "# Type hints\n",
    "i: int = 123"
   ]
  },
  {
   "cell_type": "markdown",
   "metadata": {},
   "source": [
    "# List comprehension"
   ]
  },
  {
   "cell_type": "code",
   "execution_count": 24,
   "metadata": {},
   "outputs": [],
   "source": [
    "# Groceries\n",
    "ingredients = [\"SPAM\", \"BaCoN\", \"eggS\", \"CHeeSe\"]"
   ]
  },
  {
   "cell_type": "code",
   "execution_count": 27,
   "metadata": {},
   "outputs": [
    {
     "name": "stdout",
     "output_type": "stream",
     "text": [
      "['spam', 'bacon', 'eggs', 'cheese']\n"
     ]
    }
   ],
   "source": [
    "# Loop\n",
    "ingredients_lower = []\n",
    "\n",
    "for i in ingredients:\n",
    "    ingredients_lower.append(i.lower())\n",
    "    \n",
    "print(ingredients_lower)"
   ]
  },
  {
   "cell_type": "code",
   "execution_count": 29,
   "metadata": {},
   "outputs": [
    {
     "name": "stdout",
     "output_type": "stream",
     "text": [
      "['spam', 'bacon', 'eggs', 'cheese']\n"
     ]
    }
   ],
   "source": [
    "# List comprehension\n",
    "ingredients = [i.lower() for i in ingredients]\n",
    "print(ingredients)"
   ]
  },
  {
   "cell_type": "code",
   "execution_count": 36,
   "metadata": {},
   "outputs": [
    {
     "name": "stdout",
     "output_type": "stream",
     "text": [
      "['Johnson', 'Brewer', 'Smith', 'Rogers', 'Wilson', 'Jones', 'Armstrong', 'Ray', 'Rich']\n"
     ]
    }
   ],
   "source": [
    "# Names\n",
    "names = [\"johnson\", \"brewer\", \"smith\", \"rogers\", \"wilson\", \"jones\", \"armstrong\", \"ray\", \"rich\"]\n",
    "\n",
    "names_cap = []\n",
    "for name in names:\n",
    "    names_cap.append(name.capitalize())\n",
    "print(names_cap)"
   ]
  },
  {
   "cell_type": "code",
   "execution_count": 39,
   "metadata": {},
   "outputs": [
    {
     "name": "stdout",
     "output_type": "stream",
     "text": [
      "['Johnson', 'Brewer', 'Smith', 'Rogers', 'Wilson', 'Jones', 'Armstrong', 'Ray', 'Rich']\n"
     ]
    }
   ],
   "source": [
    "names_cap = [n.capitalize() for n in names]\n",
    "print(names_cap)"
   ]
  },
  {
   "cell_type": "code",
   "execution_count": 40,
   "metadata": {
    "collapsed": true
   },
   "outputs": [
    {
     "name": "stdout",
     "output_type": "stream",
     "text": [
      "0\n",
      "2\n",
      "4\n",
      "6\n",
      "8\n",
      "10\n",
      "12\n",
      "14\n",
      "16\n",
      "18\n",
      "20\n",
      "22\n",
      "24\n",
      "26\n",
      "28\n",
      "30\n",
      "32\n",
      "34\n",
      "36\n",
      "38\n",
      "40\n",
      "42\n",
      "44\n",
      "46\n",
      "48\n",
      "50\n"
     ]
    }
   ],
   "source": [
    "for n in range(0, 51):\n",
    "    if n % 2 == 0:\n",
    "        print(n)"
   ]
  },
  {
   "cell_type": "code",
   "execution_count": 42,
   "metadata": {},
   "outputs": [
    {
     "name": "stdout",
     "output_type": "stream",
     "text": [
      "[0, 2, 4, 6, 8, 10, 12, 14, 16, 18, 20, 22, 24, 26, 28, 30, 32, 34, 36, 38, 40, 42, 44, 46, 48, 50]\n"
     ]
    }
   ],
   "source": [
    "even = [n for n in range(51) if n % 2 == 0]\n",
    "print(even)"
   ]
  },
  {
   "cell_type": "code",
   "execution_count": null,
   "metadata": {},
   "outputs": [],
   "source": [
    "# Optional: Dictionary comprehension\n"
   ]
  },
  {
   "cell_type": "markdown",
   "metadata": {},
   "source": [
    "→ 📗 Exercises\n"
   ]
  },
  {
   "cell_type": "markdown",
   "metadata": {},
   "source": [
    "# Functions"
   ]
  },
  {
   "cell_type": "code",
   "execution_count": 43,
   "metadata": {},
   "outputs": [],
   "source": [
    "# Values (throw a dice)\n",
    "values = [1, 3, 4, 2, 6, 4, 3, 2, 4, 6]"
   ]
  },
  {
   "cell_type": "code",
   "execution_count": 45,
   "metadata": {},
   "outputs": [
    {
     "name": "stdout",
     "output_type": "stream",
     "text": [
      "1\n"
     ]
    }
   ],
   "source": [
    "# Min\n",
    "print(min(values))"
   ]
  },
  {
   "cell_type": "code",
   "execution_count": 46,
   "metadata": {},
   "outputs": [
    {
     "name": "stdout",
     "output_type": "stream",
     "text": [
      "6\n"
     ]
    }
   ],
   "source": [
    "# Max \n",
    "print(max(values))"
   ]
  },
  {
   "cell_type": "code",
   "execution_count": 47,
   "metadata": {},
   "outputs": [
    {
     "name": "stdout",
     "output_type": "stream",
     "text": [
      "10\n"
     ]
    }
   ],
   "source": [
    "# Length\n",
    "print(len(values))"
   ]
  },
  {
   "cell_type": "code",
   "execution_count": 48,
   "metadata": {},
   "outputs": [
    {
     "data": {
      "text/plain": [
       "[1, 2, 2, 3, 3, 4, 4, 4, 6, 6]"
      ]
     },
     "execution_count": 48,
     "metadata": {},
     "output_type": "execute_result"
    }
   ],
   "source": [
    "# Sorted\n",
    "sorted(values)"
   ]
  },
  {
   "cell_type": "code",
   "execution_count": 49,
   "metadata": {},
   "outputs": [],
   "source": [
    "# Create a custom function to calculate sales tax\n",
    "\n",
    "def calculate_sales_tax(amount):\n",
    "    tax = amount * 0.23\n",
    "    return tax"
   ]
  },
  {
   "cell_type": "code",
   "execution_count": 50,
   "metadata": {},
   "outputs": [
    {
     "data": {
      "text/plain": [
       "<function __main__.calculate_sales_tax(amount)>"
      ]
     },
     "execution_count": 50,
     "metadata": {},
     "output_type": "execute_result"
    }
   ],
   "source": [
    "# Show function (without calling)\n",
    "calculate_sales_tax"
   ]
  },
  {
   "cell_type": "code",
   "execution_count": 55,
   "metadata": {},
   "outputs": [
    {
     "data": {
      "text/plain": [
       "57.5"
      ]
     },
     "execution_count": 55,
     "metadata": {},
     "output_type": "execute_result"
    }
   ],
   "source": [
    "# Use the function\n",
    "calculate_sales_tax(250)"
   ]
  },
  {
   "cell_type": "code",
   "execution_count": 59,
   "metadata": {},
   "outputs": [],
   "source": [
    "# User defined function: Greet function\n",
    "\n",
    "def greet(name=\"Dublin\"):\n",
    "    sentence = f\"Hi {name}, how are you?\"\n",
    "    return sentence"
   ]
  },
  {
   "cell_type": "code",
   "execution_count": 57,
   "metadata": {},
   "outputs": [
    {
     "name": "stdout",
     "output_type": "stream",
     "text": [
      "Hi Bharath, how are you?\n"
     ]
    }
   ],
   "source": [
    "print(greet(\"Bharath\"))"
   ]
  },
  {
   "cell_type": "code",
   "execution_count": 61,
   "metadata": {},
   "outputs": [
    {
     "name": "stdout",
     "output_type": "stream",
     "text": [
      "Hi Andrew, how are you?\n"
     ]
    }
   ],
   "source": [
    "print(greet(\"Andrew\"))"
   ]
  },
  {
   "cell_type": "markdown",
   "metadata": {},
   "source": [
    "### Importing modules and packages"
   ]
  },
  {
   "cell_type": "code",
   "execution_count": 62,
   "metadata": {},
   "outputs": [],
   "source": [
    "# Import custom functions \"sf_functions.py\"\n",
    "import sf_functions"
   ]
  },
  {
   "cell_type": "code",
   "execution_count": 63,
   "metadata": {},
   "outputs": [
    {
     "data": {
      "text/plain": [
       "'Hi Dublin, how are you?'"
      ]
     },
     "execution_count": 63,
     "metadata": {},
     "output_type": "execute_result"
    }
   ],
   "source": [
    "# Greet function from sf_functions\n",
    "sf_functions.greet()"
   ]
  },
  {
   "cell_type": "markdown",
   "metadata": {},
   "source": [
    "→ 📗 Exercises\n"
   ]
  },
  {
   "cell_type": "code",
   "execution_count": 67,
   "metadata": {},
   "outputs": [],
   "source": [
    "def fahr_to_celcius(F):\n",
    "    result = 5 * (F - 32) / 9\n",
    "    return round(result, 2)"
   ]
  },
  {
   "cell_type": "code",
   "execution_count": 68,
   "metadata": {},
   "outputs": [
    {
     "name": "stdout",
     "output_type": "stream",
     "text": [
      "37.78\n"
     ]
    }
   ],
   "source": [
    "print(fahr_to_celcius(100))"
   ]
  },
  {
   "cell_type": "code",
   "execution_count": 71,
   "metadata": {},
   "outputs": [],
   "source": [
    "def celcius_to_fahr(C):\n",
    "    result = (C * 9/5) + 32\n",
    "    return round(result, 2)"
   ]
  },
  {
   "cell_type": "code",
   "execution_count": 72,
   "metadata": {},
   "outputs": [
    {
     "name": "stdout",
     "output_type": "stream",
     "text": [
      "212.0\n"
     ]
    }
   ],
   "source": [
    "print(celcius_to_fahr(100))"
   ]
  },
  {
   "cell_type": "code",
   "execution_count": null,
   "metadata": {},
   "outputs": [],
   "source": [
    "# \"100F\"\n",
    "# \"25C\""
   ]
  },
  {
   "cell_type": "code",
   "execution_count": 73,
   "metadata": {},
   "outputs": [
    {
     "name": "stdout",
     "output_type": "stream",
     "text": [
      "F\n"
     ]
    }
   ],
   "source": [
    "i = \"100F\"\n",
    "print(i[-1])"
   ]
  },
  {
   "cell_type": "code",
   "execution_count": 74,
   "metadata": {
    "scrolled": true
   },
   "outputs": [
    {
     "name": "stdout",
     "output_type": "stream",
     "text": [
      "100\n"
     ]
    }
   ],
   "source": [
    "print(i[:-1])"
   ]
  },
  {
   "cell_type": "code",
   "execution_count": 78,
   "metadata": {},
   "outputs": [
    {
     "name": "stdout",
     "output_type": "stream",
     "text": [
      "37.78\n"
     ]
    }
   ],
   "source": [
    "if i[-1] == \"F\":\n",
    "    print(fahr_to_celcius(int(i[:-1])))"
   ]
  },
  {
   "cell_type": "code",
   "execution_count": 83,
   "metadata": {},
   "outputs": [
    {
     "data": {
      "text/plain": [
       "212.0"
      ]
     },
     "execution_count": 83,
     "metadata": {},
     "output_type": "execute_result"
    }
   ],
   "source": [
    "def convert_temperature(x):\n",
    "    scale = x[-1]\n",
    "    degrees = int(x[:-1])\n",
    "    if scale == \"F\":\n",
    "        return fahr_to_celcius(degrees)\n",
    "    elif scale == \"C\":\n",
    "        return celcius_to_fahr(degrees)\n",
    "    \n",
    "convert_temperature(\"100C\")"
   ]
  },
  {
   "cell_type": "code",
   "execution_count": null,
   "metadata": {},
   "outputs": [],
   "source": []
  },
  {
   "cell_type": "markdown",
   "metadata": {},
   "source": [
    "# Optional: Functions Continued\n"
   ]
  },
  {
   "cell_type": "code",
   "execution_count": 85,
   "metadata": {},
   "outputs": [
    {
     "name": "stdout",
     "output_type": "stream",
     "text": [
      "9\n",
      "None\n"
     ]
    }
   ],
   "source": [
    "# Without return\n",
    "\n",
    "def add(x, y):\n",
    "    print(x + y)\n",
    "    return None\n",
    "    \n",
    "result = add(4, 5)\n",
    "print(result)"
   ]
  },
  {
   "cell_type": "code",
   "execution_count": 86,
   "metadata": {},
   "outputs": [
    {
     "name": "stdout",
     "output_type": "stream",
     "text": [
      "9\n"
     ]
    }
   ],
   "source": [
    "# With return\n",
    "def add(x, y):\n",
    "    return x + y\n",
    "    \n",
    "result = add(4, 5)\n",
    "print(result)"
   ]
  },
  {
   "cell_type": "code",
   "execution_count": 87,
   "metadata": {},
   "outputs": [
    {
     "name": "stdout",
     "output_type": "stream",
     "text": [
      "Starter:    soup\n",
      "Main:       steak\n",
      "Dessert:    ice cream\n"
     ]
    }
   ],
   "source": [
    "# Menu function (starter, main, dessert)\n",
    "def menu(starter, main, dessert):\n",
    "    print(f\"Starter:    {starter}\")\n",
    "    print(f\"Main:       {main}\")\n",
    "    print(f\"Dessert:    {dessert}\")\n",
    "\n",
    "menu(\"soup\", \"steak\", \"ice cream\")"
   ]
  },
  {
   "cell_type": "code",
   "execution_count": 88,
   "metadata": {},
   "outputs": [
    {
     "name": "stdout",
     "output_type": "stream",
     "text": [
      "Starter:    steak\n",
      "Main:       soup\n",
      "Dessert:    ice cream\n"
     ]
    }
   ],
   "source": [
    "# If you mix them around, the result will change\n",
    "menu(\"steak\", \"soup\", \"ice cream\")"
   ]
  },
  {
   "cell_type": "code",
   "execution_count": 89,
   "metadata": {},
   "outputs": [
    {
     "name": "stdout",
     "output_type": "stream",
     "text": [
      "Starter:    starter\n",
      "Main:       steak\n",
      "Dessert:    ice cream\n"
     ]
    }
   ],
   "source": [
    "# Keywords\n",
    "menu(main=\"steak\", starter=\"starter\", dessert=\"ice cream\")"
   ]
  },
  {
   "cell_type": "markdown",
   "metadata": {},
   "source": [
    "### Scope"
   ]
  },
  {
   "cell_type": "code",
   "execution_count": 92,
   "metadata": {},
   "outputs": [
    {
     "name": "stdout",
     "output_type": "stream",
     "text": [
      "4\n"
     ]
    }
   ],
   "source": [
    "# Global\n",
    "x = 4\n",
    "\n",
    "def foo():\n",
    "    print(x)\n",
    "    \n",
    "foo()"
   ]
  },
  {
   "cell_type": "code",
   "execution_count": 94,
   "metadata": {},
   "outputs": [
    {
     "name": "stdout",
     "output_type": "stream",
     "text": [
      "1\n"
     ]
    },
    {
     "ename": "NameError",
     "evalue": "name 'y' is not defined",
     "output_type": "error",
     "traceback": [
      "\u001b[0;31m---------------------------------------------------------------------------\u001b[0m",
      "\u001b[0;31mNameError\u001b[0m                                 Traceback (most recent call last)",
      "\u001b[0;32m<ipython-input-94-ff879cb12578>\u001b[0m in \u001b[0;36m<module>\u001b[0;34m\u001b[0m\n\u001b[1;32m      5\u001b[0m \u001b[0;34m\u001b[0m\u001b[0m\n\u001b[1;32m      6\u001b[0m \u001b[0mfoo\u001b[0m\u001b[0;34m(\u001b[0m\u001b[0;34m)\u001b[0m\u001b[0;34m\u001b[0m\u001b[0;34m\u001b[0m\u001b[0m\n\u001b[0;32m----> 7\u001b[0;31m \u001b[0mprint\u001b[0m\u001b[0;34m(\u001b[0m\u001b[0my\u001b[0m\u001b[0;34m)\u001b[0m\u001b[0;34m\u001b[0m\u001b[0;34m\u001b[0m\u001b[0m\n\u001b[0m",
      "\u001b[0;31mNameError\u001b[0m: name 'y' is not defined"
     ]
    }
   ],
   "source": [
    "# Local - what happens if you try to access from outside the function?\n",
    "def foo():\n",
    "    y = 1\n",
    "    print(y)\n",
    "    \n",
    "foo()\n",
    "print(y)"
   ]
  },
  {
   "cell_type": "code",
   "execution_count": 96,
   "metadata": {
    "scrolled": true
   },
   "outputs": [
    {
     "name": "stdout",
     "output_type": "stream",
     "text": [
      "Local:  1000\n",
      "Global:  20\n"
     ]
    }
   ],
   "source": [
    "# Local then global\n",
    "z = 20\n",
    "\n",
    "def foo():\n",
    "    z = 1000\n",
    "    print(\"Local: \", z)\n",
    "\n",
    "foo()\n",
    "print(\"Global: \", z)\n"
   ]
  },
  {
   "cell_type": "markdown",
   "metadata": {},
   "source": [
    "→ 📗 Exercises\n"
   ]
  },
  {
   "cell_type": "code",
   "execution_count": 98,
   "metadata": {},
   "outputs": [
    {
     "name": "stdout",
     "output_type": "stream",
     "text": [
      "40\n"
     ]
    }
   ],
   "source": [
    "# Exercise 3\n",
    "\n",
    "def highest(a, b):\n",
    "    if a > b:\n",
    "        return a\n",
    "    else:\n",
    "        return b\n",
    "\n",
    "print(highest(40, 5))"
   ]
  },
  {
   "cell_type": "code",
   "execution_count": 99,
   "metadata": {},
   "outputs": [
    {
     "name": "stdout",
     "output_type": "stream",
     "text": [
      "hello\n"
     ]
    },
    {
     "data": {
      "text/plain": [
       "1"
      ]
     },
     "execution_count": 99,
     "metadata": {},
     "output_type": "execute_result"
    }
   ],
   "source": [
    "def my_func():\n",
    "    print(\"hello\")\n",
    "    return 1\n",
    "    print(\"can I be reached?\")\n",
    "    return 2\n",
    "\n",
    "my_func()"
   ]
  },
  {
   "cell_type": "code",
   "execution_count": 100,
   "metadata": {},
   "outputs": [
    {
     "name": "stdout",
     "output_type": "stream",
     "text": [
      "within function:  [4, 5, 6]\n",
      "outside function: [1, 2, 3, 'new']\n"
     ]
    }
   ],
   "source": [
    "# Exercise 5\n",
    "def add_something_to(my_list):\n",
    "    my_list.append('new')    # [1, 2, 3, \"new\"]\n",
    "    my_list = [4, 5, 6]\n",
    "    print(\"within function: \", my_list)  # [4, 5, 6]\n",
    "    return None\n",
    "    \n",
    "my_list = [1, 2, 3]   # mutable\n",
    "add_something_to(my_list)\n",
    "print(\"outside function:\", my_list)"
   ]
  },
  {
   "cell_type": "markdown",
   "metadata": {},
   "source": [
    "# File Processing"
   ]
  },
  {
   "cell_type": "code",
   "execution_count": 101,
   "metadata": {},
   "outputs": [
    {
     "name": "stdout",
     "output_type": "stream",
     "text": [
      "The Zen of Python, by Tim Peters\n",
      "\n",
      "Beautiful is better than ugly.\n",
      "Explicit is better than implicit.\n",
      "Simple is better than complex.\n",
      "Complex is better than complicated.\n",
      "Flat is better than nested.\n",
      "Sparse is better than dense.\n",
      "Readability counts.\n",
      "Special cases aren't special enough to break the rules.\n",
      "Although practicality beats purity.\n",
      "Errors should never pass silently.\n",
      "Unless explicitly silenced.\n",
      "In the face of ambiguity, refuse the temptation to guess.\n",
      "There should be one-- and preferably only one --obvious way to do it.\n",
      "Although that way may not be obvious at first unless you're Dutch.\n",
      "Now is better than never.\n",
      "Although never is often better than *right* now.\n",
      "If the implementation is hard to explain, it's a bad idea.\n",
      "If the implementation is easy to explain, it may be a good idea.\n",
      "Namespaces are one honking great idea -- let's do more of those!\n"
     ]
    }
   ],
   "source": [
    "# Zen of Python\n",
    "import this"
   ]
  },
  {
   "cell_type": "code",
   "execution_count": null,
   "metadata": {},
   "outputs": [],
   "source": [
    "# Create \"zen.txt\""
   ]
  },
  {
   "cell_type": "code",
   "execution_count": 105,
   "metadata": {},
   "outputs": [],
   "source": [
    "# Open \n",
    "f = open(\"zen.txt\")"
   ]
  },
  {
   "cell_type": "code",
   "execution_count": 103,
   "metadata": {},
   "outputs": [
    {
     "name": "stdout",
     "output_type": "stream",
     "text": [
      "Beautiful is better than ugly.\n",
      "Explicit is better than implicit.\n",
      "Simple is better than complex.\n",
      "Complex is better than complicated.\n",
      "Flat is better than nested.\n"
     ]
    }
   ],
   "source": [
    "# Read\n",
    "print(f.read())"
   ]
  },
  {
   "cell_type": "code",
   "execution_count": 104,
   "metadata": {},
   "outputs": [],
   "source": [
    "# Close!\n",
    "f.close()"
   ]
  },
  {
   "cell_type": "code",
   "execution_count": 106,
   "metadata": {},
   "outputs": [],
   "source": [
    "# Save text in variable (open, read, close)\n",
    "f = open(\"zen.txt\")\n",
    "zen = f.read()\n",
    "f.close()"
   ]
  },
  {
   "cell_type": "code",
   "execution_count": 107,
   "metadata": {},
   "outputs": [
    {
     "name": "stdout",
     "output_type": "stream",
     "text": [
      "Beautiful is better than ugly.\n",
      "Explicit is better than implicit.\n",
      "Simple is better than complex.\n",
      "Complex is better than complicated.\n",
      "Flat is better than nested.\n"
     ]
    }
   ],
   "source": [
    "# Print\n",
    "print(zen)"
   ]
  },
  {
   "cell_type": "code",
   "execution_count": 112,
   "metadata": {},
   "outputs": [
    {
     "name": "stdout",
     "output_type": "stream",
     "text": [
      "Beautiful is better than ugly.\n",
      "Explicit is better than implicit.\n",
      "Simple is better than complex.\n",
      "Complex is better than complicated.\n",
      "Flat is better than nested.\n"
     ]
    }
   ],
   "source": [
    "# \"with\" context manager\n",
    "\n",
    "with open(\"zen.txt\") as f:\n",
    "    zen = f.read()\n",
    "\n",
    "print(zen)"
   ]
  },
  {
   "cell_type": "code",
   "execution_count": 113,
   "metadata": {},
   "outputs": [
    {
     "name": "stdout",
     "output_type": "stream",
     "text": [
      "True\n"
     ]
    }
   ],
   "source": [
    "print(f.closed)"
   ]
  },
  {
   "cell_type": "code",
   "execution_count": 116,
   "metadata": {},
   "outputs": [
    {
     "name": "stdout",
     "output_type": "stream",
     "text": [
      "Explicit is better than implicit.\n",
      "\n"
     ]
    }
   ],
   "source": [
    "# Readlines\n",
    "with open(\"zen.txt\", mode=\"r\") as f:\n",
    "    zen = f.readlines()\n",
    "print(zen[1])"
   ]
  },
  {
   "cell_type": "code",
   "execution_count": null,
   "metadata": {},
   "outputs": [],
   "source": []
  },
  {
   "cell_type": "code",
   "execution_count": 123,
   "metadata": {},
   "outputs": [
    {
     "name": "stdout",
     "output_type": "stream",
     "text": [
      "['Beautiful is better than ugly.', 'Explicit is better than implicit.', 'Simple is better than complex.', 'Complex is better than complicated.', 'Flat is better than nested.']\n"
     ]
    }
   ],
   "source": [
    "with open(\"zen.txt\", \"r\") as f:\n",
    "    zen = f.readlines()\n",
    "    zen = [line.strip() for line in zen]\n",
    "    \n",
    "print(zen)"
   ]
  },
  {
   "cell_type": "code",
   "execution_count": 122,
   "metadata": {
    "scrolled": true
   },
   "outputs": [
    {
     "data": {
      "text/plain": [
       "'Beautiful is better than ugly.'"
      ]
     },
     "execution_count": 122,
     "metadata": {},
     "output_type": "execute_result"
    }
   ],
   "source": [
    "first = 'Beautiful is better than ugly.\\n'\n",
    "first.strip()"
   ]
  },
  {
   "cell_type": "code",
   "execution_count": 125,
   "metadata": {},
   "outputs": [
    {
     "name": "stdout",
     "output_type": "stream",
     "text": [
      "Beautiful is better than ugly.\n",
      "Explicit is better than implicit.\n",
      "Simple is better than complex.\n",
      "Complex is better than complicated.\n",
      "Flat is better than nested.\n"
     ]
    }
   ],
   "source": [
    "with open(\"zen.txt\", \"r\") as f:\n",
    "    for line in f:\n",
    "        print(line.strip())"
   ]
  },
  {
   "cell_type": "markdown",
   "metadata": {},
   "source": [
    "→ 📗 Exercises\n"
   ]
  },
  {
   "cell_type": "markdown",
   "metadata": {},
   "source": [
    "# CSV"
   ]
  },
  {
   "cell_type": "code",
   "execution_count": 126,
   "metadata": {},
   "outputs": [],
   "source": [
    "# Import the module\n",
    "import csv"
   ]
  },
  {
   "cell_type": "code",
   "execution_count": 129,
   "metadata": {},
   "outputs": [],
   "source": [
    "# CSV writer - create \"devices.csv\" (name & ip) with loop\n",
    "with open(\"devices.csv\", \"w\") as csvfile:\n",
    "    writer = csv.writer(csvfile)\n",
    "    writer.writerow([\"Name\", \"IP\"])\n",
    "    for x in range(1, 6):\n",
    "        writer.writerow([f\"Device {x}\", f\"192.168.1.{x}\"])"
   ]
  },
  {
   "cell_type": "code",
   "execution_count": 137,
   "metadata": {
    "scrolled": true
   },
   "outputs": [
    {
     "name": "stdout",
     "output_type": "stream",
     "text": [
      "['ID', 'Name', 'IP']\n",
      "['1', 'Device 1', '192.168.1.1']\n",
      "['2', 'Device 2', '192.168.1.2']\n",
      "['3', 'Device 3', '192.168.1.3']\n",
      "['4', 'Device 4', '192.168.1.4']\n",
      "['5', 'Device 5', '192.168.1.5']\n"
     ]
    }
   ],
   "source": [
    "# CSV reader - loop\n",
    "\n",
    "with open(\"devices.csv\", \"r\") as csvfile:\n",
    "    reader = csv.reader(csvfile)\n",
    "    for row in reader:\n",
    "        print(row)"
   ]
  },
  {
   "cell_type": "code",
   "execution_count": 138,
   "metadata": {},
   "outputs": [
    {
     "name": "stdout",
     "output_type": "stream",
     "text": [
      "{'ID': '1', 'Name': 'Device 1', 'IP': '192.168.1.1'}\n",
      "{'ID': '2', 'Name': 'Device 2', 'IP': '192.168.1.2'}\n",
      "{'ID': '3', 'Name': 'Device 3', 'IP': '192.168.1.3'}\n",
      "{'ID': '4', 'Name': 'Device 4', 'IP': '192.168.1.4'}\n",
      "{'ID': '5', 'Name': 'Device 5', 'IP': '192.168.1.5'}\n"
     ]
    }
   ],
   "source": [
    "# DictReader - loop row in reader\n",
    "with open(\"devices.csv\", \"r\") as csvfile:\n",
    "    reader = csv.DictReader(csvfile)\n",
    "    for row in reader:\n",
    "        print(row)"
   ]
  },
  {
   "cell_type": "markdown",
   "metadata": {},
   "source": [
    "→ 📗 Exercises\n"
   ]
  },
  {
   "cell_type": "code",
   "execution_count": 152,
   "metadata": {},
   "outputs": [
    {
     "name": "stdout",
     "output_type": "stream",
     "text": [
      "3061\n"
     ]
    }
   ],
   "source": [
    "# Exercise\n",
    "sales = 0\n",
    "with open(\"data.csv\", \"r\") as csvfile:\n",
    "    reader = csv.reader(csvfile)\n",
    "    for row in reader:\n",
    "        if row[2] != \"Sales\":\n",
    "            sales = sales + int(row[2])\n",
    "            \n",
    "print(sales)"
   ]
  },
  {
   "cell_type": "code",
   "execution_count": 158,
   "metadata": {},
   "outputs": [
    {
     "name": "stdout",
     "output_type": "stream",
     "text": [
      "3061\n"
     ]
    }
   ],
   "source": [
    "sales = 0\n",
    "with open(\"data.csv\", \"r\") as csvfile:\n",
    "    reader = csv.reader(csvfile)\n",
    "    next(reader)\n",
    "    for row in reader:\n",
    "        sales += int(row[2])\n",
    "            \n",
    "print(sales)"
   ]
  },
  {
   "cell_type": "code",
   "execution_count": 160,
   "metadata": {},
   "outputs": [
    {
     "name": "stdout",
     "output_type": "stream",
     "text": [
      "3061\n"
     ]
    }
   ],
   "source": [
    "# Dictionary reader\n",
    "sales = 0\n",
    "with open(\"data.csv\", \"r\") as csvfile:\n",
    "    reader = csv.DictReader(csvfile)\n",
    "    for row in reader:\n",
    "        sales += int(row[\"Sales\"])\n",
    "print(sales)"
   ]
  },
  {
   "cell_type": "code",
   "execution_count": null,
   "metadata": {},
   "outputs": [],
   "source": []
  },
  {
   "cell_type": "markdown",
   "metadata": {},
   "source": [
    "# JSON"
   ]
  },
  {
   "cell_type": "code",
   "execution_count": 161,
   "metadata": {},
   "outputs": [],
   "source": [
    "# Import \n",
    "import json"
   ]
  },
  {
   "cell_type": "code",
   "execution_count": null,
   "metadata": {},
   "outputs": [],
   "source": [
    "# Differences\n",
    "n = None     # null\n",
    "b = True     # true\n",
    "t = 'text'   # \"text\""
   ]
  },
  {
   "cell_type": "code",
   "execution_count": 162,
   "metadata": {},
   "outputs": [],
   "source": [
    "# Person\n",
    "person = {\n",
    "    'id': 4,\n",
    "    'name': 'Dan Kennedy',\n",
    "    'is_active': True,\n",
    "    'phone': None,\n",
    "}"
   ]
  },
  {
   "cell_type": "code",
   "execution_count": 165,
   "metadata": {},
   "outputs": [],
   "source": [
    "# Write to file\n",
    "with open(\"person.json\", \"w\") as json_file:\n",
    "    json.dump(person, json_file, indent=4)"
   ]
  },
  {
   "cell_type": "code",
   "execution_count": 166,
   "metadata": {},
   "outputs": [
    {
     "name": "stdout",
     "output_type": "stream",
     "text": [
      "{'id': 4, 'name': 'Dan Kennedy', 'is_active': True, 'phone': None}\n"
     ]
    }
   ],
   "source": [
    "# Read\n",
    "with open(\"person.json\", \"r\") as json_file:\n",
    "    data = json.load(json_file)\n",
    "    print(data)"
   ]
  },
  {
   "cell_type": "code",
   "execution_count": 167,
   "metadata": {},
   "outputs": [
    {
     "data": {
      "text/plain": [
       "dict"
      ]
     },
     "execution_count": 167,
     "metadata": {},
     "output_type": "execute_result"
    }
   ],
   "source": [
    "# Check type\n",
    "type(data)"
   ]
  },
  {
   "cell_type": "code",
   "execution_count": 169,
   "metadata": {},
   "outputs": [
    {
     "name": "stdout",
     "output_type": "stream",
     "text": [
      "{\"id\": 4, \"name\": \"Dan Kennedy\", \"is_active\": true, \"phone\": null}\n"
     ]
    }
   ],
   "source": [
    "# Write to string\n",
    "json_str = json.dumps(person)\n",
    "print(json_str)"
   ]
  },
  {
   "cell_type": "code",
   "execution_count": 172,
   "metadata": {},
   "outputs": [
    {
     "data": {
      "text/plain": [
       "{'id': 4, 'name': 'Dan Kennedy', 'is_active': True, 'phone': None}"
      ]
     },
     "execution_count": 172,
     "metadata": {},
     "output_type": "execute_result"
    }
   ],
   "source": [
    "# Load from string\n",
    "json.loads(json_str)"
   ]
  },
  {
   "cell_type": "code",
   "execution_count": 173,
   "metadata": {},
   "outputs": [],
   "source": [
    "# Exercise \n",
    "import json\n",
    "\n",
    "person = {\n",
    "    'id': 4,\n",
    "    'name': 'Patricia Kennedy',\n",
    "    'username': 'patriciak',\n",
    "    'active': True,\n",
    "    'email': 'patricia@kennedy.org',\n",
    "    'phone': None,\n",
    "}\n",
    "\n",
    "with open(\"person.json\", \"w\") as json_file:\n",
    "    json.dump(person, json_file, indent=4, sort_keys=True)"
   ]
  },
  {
   "cell_type": "markdown",
   "metadata": {},
   "source": [
    "# API - Exchange rates"
   ]
  },
  {
   "cell_type": "code",
   "execution_count": null,
   "metadata": {},
   "outputs": [],
   "source": [
    "# Pypi: https://www.pypi.org"
   ]
  },
  {
   "cell_type": "code",
   "execution_count": 174,
   "metadata": {},
   "outputs": [],
   "source": [
    "# Import requests\n",
    "import requests"
   ]
  },
  {
   "cell_type": "code",
   "execution_count": 175,
   "metadata": {},
   "outputs": [
    {
     "data": {
      "text/plain": [
       "'2.25.1'"
      ]
     },
     "execution_count": 175,
     "metadata": {},
     "output_type": "execute_result"
    }
   ],
   "source": [
    "# Check version\n",
    "requests.__version__"
   ]
  },
  {
   "cell_type": "code",
   "execution_count": 176,
   "metadata": {
    "scrolled": true
   },
   "outputs": [
    {
     "data": {
      "text/plain": [
       "'/Applications/anaconda3/envs/python39/lib/python3.9/site-packages/requests/__init__.py'"
      ]
     },
     "execution_count": 176,
     "metadata": {},
     "output_type": "execute_result"
    }
   ],
   "source": [
    "# Check file path with .__file__\n",
    "requests.__file__"
   ]
  },
  {
   "cell_type": "code",
   "execution_count": 177,
   "metadata": {},
   "outputs": [],
   "source": [
    "# Exchange rates https://exchangerate.host \n",
    "# Endpoint for \"latest\": https://api.exchangerate.host/latest\n",
    "url = 'https://api.exchangerate.host/latest'"
   ]
  },
  {
   "cell_type": "code",
   "execution_count": 178,
   "metadata": {},
   "outputs": [],
   "source": [
    "# Request\n",
    "r = requests.get(url)"
   ]
  },
  {
   "cell_type": "code",
   "execution_count": 179,
   "metadata": {},
   "outputs": [
    {
     "name": "stdout",
     "output_type": "stream",
     "text": [
      "<Response [200]>\n"
     ]
    }
   ],
   "source": [
    "# Inspect response\n",
    "print(r)"
   ]
  },
  {
   "cell_type": "code",
   "execution_count": 180,
   "metadata": {
    "scrolled": true
   },
   "outputs": [
    {
     "name": "stdout",
     "output_type": "stream",
     "text": [
      "{\"motd\":{\"msg\":\"If you or your company use this project or like what we doing, please consider backing us so we can continue maintaining and evolving this project.\",\"url\":\"https://exchangerate.host/#/donate\"},\"success\":true,\"base\":\"EUR\",\"date\":\"2021-08-04\",\"rates\":{\"AED\":4.344807,\"AFN\":94.47355,\"ALL\":121.220907,\"AMD\":578.857595,\"ANG\":2.123517,\"AOA\":755.255529,\"ARS\":114.534079,\"AUD\":1.603508,\"AWG\":2.12968,\"AZN\":2.011806,\"BAM\":1.95134,\"BBD\":2.366855,\"BDT\":100.334489,\"BGN\":1.954173,\"BHD\":0.446059,\"BIF\":2346.94184,\"BMD\":1.18388,\"BND\":1.596912,\"BOB\":8.167946,\"BRL\":6.115159,\"BSD\":1.183204,\"BTC\":0.00003,\"BTN\":87.716282,\"BWP\":12.929281,\"BYN\":2.97948,\"BZD\":2.385475,\"CAD\":1.484525,\"CDF\":2358.862033,\"CHF\":1.072167,\"CLF\":0.03394,\"CLP\":915.847615,\"CNH\":7.644442,\"CNY\":7.648752,\"COP\":4630.316894,\"CRC\":733.617412,\"CUC\":1.183568,\"CUP\":30.456287,\"CVE\":110.173071,\"CZK\":25.426709,\"DJF\":210.553155,\"DKK\":7.429405,\"DOP\":67.501325,\"DZD\":159.425178,\"EGP\":18.565782,\"ERN\":17.747832,\"ETB\":52.218095,\"EUR\":1,\"FJD\":2.456763,\"FKP\":0.851932,\"GBP\":0.851881,\"GEL\":3.660903,\"GGP\":0.851483,\"GHS\":7.097388,\"GIP\":0.8514,\"GMD\":60.49801,\"GNF\":11556.58497,\"GTQ\":9.164884,\"GYD\":247.482923,\"HKD\":9.197638,\"HNL\":28.325926,\"HRK\":7.496017,\"HTG\":115.28099,\"HUF\":354.472255,\"IDR\":16959.809589,\"ILS\":3.800817,\"IMP\":0.851868,\"INR\":87.7633,\"IQD\":1726.956595,\"IRR\":49857.181589,\"ISK\":147.868078,\"JEP\":0.851742,\"JMD\":183.055739,\"JOD\":0.838364,\"JPY\":129.494566,\"KES\":128.576511,\"KGS\":100.013159,\"KHR\":4820.335277,\"KMF\":489.598223,\"KPW\":1064.472658,\"KRW\":1355.072967,\"KWD\":0.355588,\"KYD\":0.987105,\"KZT\":501.785198,\"LAK\":11308.4506,\"LBP\":1802.465185,\"LKR\":235.990133,\"LRD\":202.95984,\"LSL\":17.214016,\"LYD\":5.329142,\"MAD\":10.562432,\"MDL\":21.053116,\"MGA\":4518.089945,\"MKD\":61.56602,\"MMK\":1947.061345,\"MNT\":3371.048222,\"MOP\":9.475209,\"MRO\":422.241164,\"MRU\":42.718776,\"MUR\":50.210802,\"MVR\":18.285687,\"MWK\":961.641281,\"MXN\":23.627361,\"MYR\":4.994192,\"MZN\":75.258743,\"NAD\":17.552887,\"NGN\":486.441372,\"NIO\":41.648017,\"NOK\":10.463339,\"NPR\":140.34695,\"NZD\":1.67959,\"OMR\":0.455737,\"PAB\":1.183309,\"PEN\":4.794863,\"PGK\":4.166394,\"PHP\":58.84451,\"PKR\":193.034004,\"PLN\":4.53822,\"PYG\":8190.333463,\"QAR\":4.306429,\"RON\":4.914482,\"RSD\":117.276791,\"RUB\":86.604887,\"RWF\":1191.89571,\"SAR\":4.436467,\"SBD\":9.527108,\"SCR\":17.006149,\"SDG\":526.322798,\"SEK\":10.183301,\"SGD\":1.599395,\"SHP\":0.852112,\"SLL\":12121.846271,\"SOS\":687.361601,\"SRD\":25.357225,\"SSP\":154.06502,\"STD\":24481.674975,\"STN\":24.838181,\"SVC\":10.351754,\"SYP\":1487.089596,\"SZL\":17.262841,\"THB\":39.19423,\"TJS\":13.490932,\"TMT\":4.139553,\"TND\":3.283469,\"TOP\":2.669809,\"TRY\":10.031783,\"TTD\":8.026185,\"TWD\":32.794849,\"TZS\":2743.186346,\"UAH\":31.85645,\"UGX\":4197.505627,\"USD\":1.183076,\"UYU\":51.712157,\"UZS\":12579.95207,\"VES\":4730984.156149,\"VND\":27176.700569,\"VUV\":131.064431,\"WST\":3.032198,\"XAF\":655.36504,\"XAG\":0.047956,\"XAU\":0.001854,\"XCD\":3.19707,\"XDR\":0.828458,\"XOF\":655.364765,\"XPD\":0.000735,\"XPF\":119.224373,\"XPT\":0.00189,\"YER\":295.68767,\"ZAR\":16.967897,\"ZMW\":22.742029,\"ZWL\":380.845036}}\n"
     ]
    }
   ],
   "source": [
    "# Response text/content (JSON)\n",
    "print(r.text)"
   ]
  },
  {
   "cell_type": "code",
   "execution_count": 181,
   "metadata": {},
   "outputs": [
    {
     "data": {
      "text/plain": [
       "str"
      ]
     },
     "execution_count": 181,
     "metadata": {},
     "output_type": "execute_result"
    }
   ],
   "source": [
    "# Type\n",
    "type(r.text)"
   ]
  },
  {
   "cell_type": "code",
   "execution_count": 183,
   "metadata": {},
   "outputs": [],
   "source": [
    "# Print r\n",
    "r = r.json()"
   ]
  },
  {
   "cell_type": "code",
   "execution_count": 186,
   "metadata": {},
   "outputs": [
    {
     "name": "stdout",
     "output_type": "stream",
     "text": [
      "0.851881\n"
     ]
    }
   ],
   "source": [
    "# Request in two lines\n",
    "r = requests.get(url)\n",
    "r = r.json()\n",
    "print(r[\"rates\"][\"GBP\"])"
   ]
  },
  {
   "cell_type": "code",
   "execution_count": 187,
   "metadata": {},
   "outputs": [],
   "source": [
    "# Request in one line\n",
    "r = requests.get(url).json()"
   ]
  },
  {
   "cell_type": "code",
   "execution_count": 188,
   "metadata": {
    "scrolled": true
   },
   "outputs": [
    {
     "data": {
      "text/plain": [
       "dict_keys(['motd', 'success', 'base', 'date', 'rates'])"
      ]
     },
     "execution_count": 188,
     "metadata": {},
     "output_type": "execute_result"
    }
   ],
   "source": [
    "# Keys\n",
    "r.keys()"
   ]
  },
  {
   "cell_type": "code",
   "execution_count": 189,
   "metadata": {},
   "outputs": [],
   "source": [
    "# Dictionary of rates\n",
    "rates = r[\"rates\"]"
   ]
  },
  {
   "cell_type": "code",
   "execution_count": 190,
   "metadata": {},
   "outputs": [],
   "source": [
    "# Function to convert euros to other currencies\n",
    "def convert_eur(amount, curr):\n",
    "    result = amount * rates[curr]\n",
    "    return result"
   ]
  },
  {
   "cell_type": "code",
   "execution_count": 193,
   "metadata": {
    "scrolled": true
   },
   "outputs": [
    {
     "data": {
      "text/plain": [
       "107.2167"
      ]
     },
     "execution_count": 193,
     "metadata": {},
     "output_type": "execute_result"
    }
   ],
   "source": [
    "# Demo function: convert_eur(100, \"GBP\")\n",
    "convert_eur(100, \"CHF\")"
   ]
  },
  {
   "cell_type": "markdown",
   "metadata": {},
   "source": [
    "→ 📗 Exercises\n"
   ]
  },
  {
   "cell_type": "code",
   "execution_count": 206,
   "metadata": {},
   "outputs": [],
   "source": [
    "# Getting brewery data for Dublin\n",
    "url = \"https://api.openbrewerydb.org/breweries?by_city=dublin\""
   ]
  },
  {
   "cell_type": "code",
   "execution_count": 207,
   "metadata": {},
   "outputs": [],
   "source": [
    "# API call and convert to json\n",
    "r = requests.get(url).json()"
   ]
  },
  {
   "cell_type": "code",
   "execution_count": 208,
   "metadata": {},
   "outputs": [
    {
     "data": {
      "text/plain": [
       "list"
      ]
     },
     "execution_count": 208,
     "metadata": {},
     "output_type": "execute_result"
    }
   ],
   "source": [
    "# Check type\n",
    "type(r)"
   ]
  },
  {
   "cell_type": "code",
   "execution_count": 209,
   "metadata": {},
   "outputs": [
    {
     "data": {
      "text/plain": [
       "12"
      ]
     },
     "execution_count": 209,
     "metadata": {},
     "output_type": "execute_result"
    }
   ],
   "source": [
    "# Check length\n",
    "len(r)"
   ]
  },
  {
   "cell_type": "code",
   "execution_count": 210,
   "metadata": {},
   "outputs": [
    {
     "data": {
      "text/plain": [
       "{'id': '5-lamps-brewery-dublin',\n",
       " 'name': '5 Lamps Brewery',\n",
       " 'brewery_type': 'regional',\n",
       " 'street': '84-87 Camden St.',\n",
       " 'address_2': \"Saint Kevin's\",\n",
       " 'address_3': 'Dublin 2',\n",
       " 'city': 'Dublin',\n",
       " 'state': None,\n",
       " 'county_province': 'Dublin',\n",
       " 'postal_code': 'D02 DH36',\n",
       " 'country': 'Ireland',\n",
       " 'longitude': '-6.26585621',\n",
       " 'latitude': '53.33596635',\n",
       " 'phone': None,\n",
       " 'website_url': 'https://the5lampsbrewery.com/home/',\n",
       " 'updated_at': '2021-03-26T00:00:00.000Z',\n",
       " 'created_at': '2021-03-26T00:00:00.000Z'}"
      ]
     },
     "execution_count": 210,
     "metadata": {},
     "output_type": "execute_result"
    }
   ],
   "source": [
    "# First brewery\n",
    "r[0]"
   ]
  },
  {
   "cell_type": "code",
   "execution_count": 211,
   "metadata": {},
   "outputs": [],
   "source": [
    "# Assign to new variable\n",
    "breweries = r"
   ]
  },
  {
   "cell_type": "code",
   "execution_count": 213,
   "metadata": {},
   "outputs": [
    {
     "name": "stdout",
     "output_type": "stream",
     "text": [
      "5 Lamps Brewery https://the5lampsbrewery.com/home/\n",
      "Barrelhead Brewery https://barrelheadbrewery.com/\n",
      "DOT Brew https://dotbrew.ie/\n",
      "Dublin City Brewing Co. http://www.dublincitybrewingco.com/\n",
      "Guinness Brewing (Diageo) https://www.guinness-storehouse.com/en\n",
      "Hope Craft Brewery https://hopebeer.ie/\n",
      "Inc 82 Brewing http://www.inc82.com\n",
      "J.W. Sweetman None\n",
      "Stone Barrel Brewing Company http://www.stonebarrelbrewing.ie/\n",
      "The Porterhouse Brewing Company http://www.porterhousebrewco.ie/\n",
      "Third Barrel Brewing https://thirdbarrel.com/\n",
      "Wood Key Brewing None\n"
     ]
    }
   ],
   "source": [
    "# Looping through the list of dictionaries\n",
    "for brewery in breweries:\n",
    "    print(brewery[\"name\"], brewery[\"website_url\"])"
   ]
  },
  {
   "cell_type": "code",
   "execution_count": 214,
   "metadata": {},
   "outputs": [],
   "source": [
    "# Combining some of the skills learned today (write to csv file)\n",
    "with open(\"dublin_breweries.csv\", \"w\") as csvfile:\n",
    "    writer = csv.writer(csvfile)\n",
    "    writer.writerow([\"name\", \"street\", \"website_url\"])\n",
    "    for brewery in breweries:\n",
    "        writer.writerow([brewery[\"name\"], brewery[\"street\"], brewery[\"website_url\"]])"
   ]
  },
  {
   "cell_type": "code",
   "execution_count": null,
   "metadata": {},
   "outputs": [],
   "source": []
  }
 ],
 "metadata": {
  "kernelspec": {
   "display_name": "Python 3",
   "language": "python",
   "name": "python3"
  },
  "language_info": {
   "codemirror_mode": {
    "name": "ipython",
    "version": 3
   },
   "file_extension": ".py",
   "mimetype": "text/x-python",
   "name": "python",
   "nbconvert_exporter": "python",
   "pygments_lexer": "ipython3",
   "version": "3.9.2"
  },
  "toc": {
   "base_numbering": "0",
   "nav_menu": {},
   "number_sections": false,
   "sideBar": true,
   "skip_h1_title": false,
   "title_cell": "Table of Contents",
   "title_sidebar": "Contents",
   "toc_cell": false,
   "toc_position": {
    "height": "calc(100% - 180px)",
    "left": "10px",
    "top": "150px",
    "width": "331.3043518066406px"
   },
   "toc_section_display": true,
   "toc_window_display": true
  },
  "varInspector": {
   "cols": {
    "lenName": 16,
    "lenType": 16,
    "lenVar": 40
   },
   "kernels_config": {
    "python": {
     "delete_cmd_postfix": "",
     "delete_cmd_prefix": "del ",
     "library": "var_list.py",
     "varRefreshCmd": "print(var_dic_list())"
    },
    "r": {
     "delete_cmd_postfix": ") ",
     "delete_cmd_prefix": "rm(",
     "library": "var_list.r",
     "varRefreshCmd": "cat(var_dic_list()) "
    }
   },
   "types_to_exclude": [
    "module",
    "function",
    "builtin_function_or_method",
    "instance",
    "_Feature"
   ],
   "window_display": false
  }
 },
 "nbformat": 4,
 "nbformat_minor": 2
}
