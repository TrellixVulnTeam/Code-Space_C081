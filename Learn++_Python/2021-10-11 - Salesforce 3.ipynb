{
 "cells": [
  {
   "cell_type": "markdown",
   "id": "b7b0b3e1",
   "metadata": {},
   "source": [
    "# Recap day 2"
   ]
  },
  {
   "cell_type": "code",
   "execution_count": 3,
   "id": "ae2a613a",
   "metadata": {},
   "outputs": [
    {
     "name": "stdout",
     "output_type": "stream",
     "text": [
      "['Johnson', 'Brewer', 'Smith', 'Rogers', 'Wilson', 'Jones', 'Amrstrong', 'Ray', 'Rich']\n"
     ]
    }
   ],
   "source": [
    "# List comprehensions\n",
    "names = [\"johnson\", \"brewer\", \"smith\", \"rogers\", \"wilson\", \n",
    "         \"jones\", \"amrstrong\", \"ray\", \"rich\"]\n",
    "\n",
    "names = [n.capitalize() for n in names]\n",
    "print(names)"
   ]
  },
  {
   "cell_type": "code",
   "execution_count": 8,
   "id": "3e880d6f",
   "metadata": {},
   "outputs": [
    {
     "name": "stdout",
     "output_type": "stream",
     "text": [
      "37.78\n"
     ]
    }
   ],
   "source": [
    "# Functions\n",
    "def fahr_to_celcius(x):\n",
    "    result = 5 * (x - 32) / 9\n",
    "    return round(result, 2)\n",
    "\n",
    "print(fahr_to_celcius(100))\n"
   ]
  },
  {
   "cell_type": "code",
   "execution_count": 11,
   "id": "c3d7991f",
   "metadata": {},
   "outputs": [
    {
     "name": "stdout",
     "output_type": "stream",
     "text": [
      "Beautiful is better than ugly.\n",
      "Explicit is better than implicit.\n",
      "Simple is better than complex.\n",
      "Complex is better than complicated.\n",
      "Flat is better than nested.\n"
     ]
    }
   ],
   "source": [
    "# Files\n",
    "with open(\"zen.txt\", \"r\") as f:\n",
    "    for line in f:\n",
    "        print(line.strip())"
   ]
  },
  {
   "cell_type": "code",
   "execution_count": 15,
   "id": "f5428359",
   "metadata": {},
   "outputs": [
    {
     "name": "stdout",
     "output_type": "stream",
     "text": [
      "3061\n"
     ]
    }
   ],
   "source": [
    "# CSV\n",
    "import csv\n",
    "\n",
    "sales = 0\n",
    "\n",
    "with open(\"data.csv\", \"r\") as csvfile:\n",
    "    reader = csv.DictReader(csvfile)\n",
    "    for row in reader:\n",
    "        sales = sales + int(row[\"Sales\"])\n",
    "        \n",
    "print(sales)"
   ]
  },
  {
   "cell_type": "code",
   "execution_count": null,
   "id": "28b382e5",
   "metadata": {},
   "outputs": [],
   "source": [
    "# JSON\n",
    "import json\n",
    "\n",
    "# json.load()   # from file\n",
    "# json.loads()  # from string\n",
    "\n",
    "# json.dump()   # to file\n",
    "# json.dumps()  # to string"
   ]
  },
  {
   "cell_type": "code",
   "execution_count": 24,
   "id": "1edbd7e8",
   "metadata": {},
   "outputs": [],
   "source": [
    "# Requests\n",
    "import requests\n",
    "\n",
    "url = \"https://api.openbrewerydb.org/breweries?by_city=dublin\"\n",
    "\n",
    "r = requests.get(url).json()"
   ]
  },
  {
   "cell_type": "code",
   "execution_count": 19,
   "id": "470fa6a0",
   "metadata": {},
   "outputs": [
    {
     "data": {
      "text/plain": [
       "12"
      ]
     },
     "execution_count": 19,
     "metadata": {},
     "output_type": "execute_result"
    }
   ],
   "source": [
    "# Check the number of breweries\n",
    "len(r)"
   ]
  },
  {
   "cell_type": "code",
   "execution_count": 22,
   "id": "da15605d",
   "metadata": {},
   "outputs": [
    {
     "data": {
      "text/plain": [
       "{'id': 'dot-brew-dublin',\n",
       " 'name': 'DOT Brew',\n",
       " 'brewery_type': 'micro',\n",
       " 'street': \"9 Dolphin's Barn\",\n",
       " 'address_2': 'Ushers',\n",
       " 'address_3': None,\n",
       " 'city': 'Dublin',\n",
       " 'state': None,\n",
       " 'county_province': 'Dublin',\n",
       " 'postal_code': 'D08 WD35',\n",
       " 'country': 'Ireland',\n",
       " 'longitude': '-6.2950084',\n",
       " 'latitude': '53.3337548',\n",
       " 'phone': None,\n",
       " 'website_url': 'https://dotbrew.ie/',\n",
       " 'updated_at': '2021-03-26T00:00:00.000Z',\n",
       " 'created_at': '2021-03-26T00:00:00.000Z'}"
      ]
     },
     "execution_count": 22,
     "metadata": {},
     "output_type": "execute_result"
    }
   ],
   "source": [
    "# Inspect the first result\n",
    "r[2]"
   ]
  },
  {
   "cell_type": "code",
   "execution_count": 23,
   "id": "bb7f55e9",
   "metadata": {},
   "outputs": [
    {
     "name": "stdout",
     "output_type": "stream",
     "text": [
      "5 Lamps Brewery https://the5lampsbrewery.com/home/\n",
      "Barrelhead Brewery https://barrelheadbrewery.com/\n",
      "DOT Brew https://dotbrew.ie/\n",
      "Dublin City Brewing Co. http://www.dublincitybrewingco.com/\n",
      "Guinness Brewing (Diageo) https://www.guinness-storehouse.com/en\n",
      "Hope Craft Brewery https://hopebeer.ie/\n",
      "Inc 82 Brewing http://www.inc82.com\n",
      "J.W. Sweetman None\n",
      "Stone Barrel Brewing Company http://www.stonebarrelbrewing.ie/\n",
      "The Porterhouse Brewing Company http://www.porterhousebrewco.ie/\n",
      "Third Barrel Brewing https://thirdbarrel.com/\n",
      "Wood Key Brewing None\n"
     ]
    }
   ],
   "source": [
    "# Loop through results\n",
    "for brewery in r:\n",
    "    print(brewery[\"name\"], brewery[\"website_url\"])"
   ]
  },
  {
   "cell_type": "markdown",
   "id": "1b6495e2",
   "metadata": {},
   "source": [
    "# Date and Time"
   ]
  },
  {
   "cell_type": "code",
   "execution_count": 36,
   "id": "8b3b8589",
   "metadata": {},
   "outputs": [],
   "source": [
    "# from datetime import date, datetime, timedelta\n",
    "from datetime import date, datetime, timedelta"
   ]
  },
  {
   "cell_type": "code",
   "execution_count": 38,
   "id": "721f6b9a",
   "metadata": {},
   "outputs": [
    {
     "name": "stdout",
     "output_type": "stream",
     "text": [
      "2021-10-13 09:26:00\n"
     ]
    }
   ],
   "source": [
    "# Create datetime object for now\n",
    "now = datetime(2021, 10, 13, 9, 26)\n",
    "print(now)"
   ]
  },
  {
   "cell_type": "code",
   "execution_count": 39,
   "id": "50fb3df2",
   "metadata": {},
   "outputs": [
    {
     "data": {
      "text/plain": [
       "datetime.datetime"
      ]
     },
     "execution_count": 39,
     "metadata": {},
     "output_type": "execute_result"
    }
   ],
   "source": [
    "type(now)"
   ]
  },
  {
   "cell_type": "code",
   "execution_count": 40,
   "id": "6a0b274b",
   "metadata": {},
   "outputs": [
    {
     "name": "stdout",
     "output_type": "stream",
     "text": [
      "2021-01-01 00:00:00\n"
     ]
    }
   ],
   "source": [
    "# Create one for start_of_year\n",
    "start_of_year = datetime(2021, 1, 1)\n",
    "print(start_of_year)"
   ]
  },
  {
   "cell_type": "code",
   "execution_count": 41,
   "id": "39a154a4",
   "metadata": {},
   "outputs": [
    {
     "data": {
      "text/plain": [
       "datetime.timedelta(days=285, seconds=33960)"
      ]
     },
     "execution_count": 41,
     "metadata": {},
     "output_type": "execute_result"
    }
   ],
   "source": [
    "# Calculate with datetimes\n",
    "now - start_of_year"
   ]
  },
  {
   "cell_type": "code",
   "execution_count": 44,
   "id": "53db880a",
   "metadata": {},
   "outputs": [
    {
     "data": {
      "text/plain": [
       "datetime.date(2021, 1, 1)"
      ]
     },
     "execution_count": 44,
     "metadata": {},
     "output_type": "execute_result"
    }
   ],
   "source": [
    "# Date object for start_of_year\n",
    "start_of_year = date(2021, 1, 1)\n",
    "start_of_year"
   ]
  },
  {
   "cell_type": "code",
   "execution_count": 45,
   "id": "14760125",
   "metadata": {},
   "outputs": [
    {
     "ename": "TypeError",
     "evalue": "unsupported operand type(s) for -: 'datetime.datetime' and 'datetime.date'",
     "output_type": "error",
     "traceback": [
      "\u001b[0;31m---------------------------------------------------------------------------\u001b[0m",
      "\u001b[0;31mTypeError\u001b[0m                                 Traceback (most recent call last)",
      "\u001b[0;32m<ipython-input-45-95204a84d739>\u001b[0m in \u001b[0;36m<module>\u001b[0;34m\u001b[0m\n\u001b[1;32m      1\u001b[0m \u001b[0;31m# Calculate again (error)\u001b[0m\u001b[0;34m\u001b[0m\u001b[0;34m\u001b[0m\u001b[0;34m\u001b[0m\u001b[0m\n\u001b[0;32m----> 2\u001b[0;31m \u001b[0mnow\u001b[0m \u001b[0;34m-\u001b[0m \u001b[0mstart_of_year\u001b[0m\u001b[0;34m\u001b[0m\u001b[0;34m\u001b[0m\u001b[0m\n\u001b[0m",
      "\u001b[0;31mTypeError\u001b[0m: unsupported operand type(s) for -: 'datetime.datetime' and 'datetime.date'"
     ]
    }
   ],
   "source": [
    "# Calculate again (error)\n",
    "now - start_of_year"
   ]
  },
  {
   "cell_type": "code",
   "execution_count": 49,
   "id": "c076e563",
   "metadata": {},
   "outputs": [
    {
     "data": {
      "text/plain": [
       "datetime.datetime(2020, 12, 31, 0, 0)"
      ]
     },
     "execution_count": 49,
     "metadata": {},
     "output_type": "execute_result"
    }
   ],
   "source": [
    "# String parsing example_1 = \"31/12/2020\"\n",
    "example_1 = \"31/12/2020\"\n",
    "datetime.strptime(example_1, \"%d/%m/%Y\")"
   ]
  },
  {
   "cell_type": "code",
   "execution_count": 50,
   "id": "28b05e84",
   "metadata": {},
   "outputs": [
    {
     "data": {
      "text/plain": [
       "datetime.datetime(2020, 12, 31, 0, 0)"
      ]
     },
     "execution_count": 50,
     "metadata": {},
     "output_type": "execute_result"
    }
   ],
   "source": [
    "# String parsing example_2 = \"12-31-2020\"\n",
    "example_2 = \"12-31-2020\"\n",
    "datetime.strptime(example_2, \"%m-%d-%Y\")"
   ]
  },
  {
   "cell_type": "code",
   "execution_count": 55,
   "id": "90d5ac07",
   "metadata": {},
   "outputs": [
    {
     "data": {
      "text/plain": [
       "'1999-11-12 09:30:00'"
      ]
     },
     "execution_count": 55,
     "metadata": {},
     "output_type": "execute_result"
    }
   ],
   "source": [
    "# String formatting dt = datetime(1999, 11, 12, 9, 30, 0)\n",
    "dt = datetime(1999, 11, 12, 9, 30, 0)\n",
    "\n",
    "datetime.strftime(dt, \"%Y-%m-%d %H:%M:%S\")"
   ]
  },
  {
   "cell_type": "code",
   "execution_count": 56,
   "id": "03674e49",
   "metadata": {},
   "outputs": [
    {
     "data": {
      "text/plain": [
       "datetime.datetime(2021, 1, 1, 0, 0)"
      ]
     },
     "execution_count": 56,
     "metadata": {},
     "output_type": "execute_result"
    }
   ],
   "source": [
    "# Dateutil, install via pip\n",
    "from dateutil.parser import parse\n",
    "parse(\"January 1, 2021\")"
   ]
  },
  {
   "cell_type": "markdown",
   "id": "25bb4294",
   "metadata": {},
   "source": [
    "→ 📗 Exercises"
   ]
  },
  {
   "cell_type": "code",
   "execution_count": 68,
   "id": "cab2e26b",
   "metadata": {},
   "outputs": [
    {
     "data": {
      "text/plain": [
       "942395400.0"
      ]
     },
     "execution_count": 68,
     "metadata": {},
     "output_type": "execute_result"
    }
   ],
   "source": [
    "# Convert to unix timestamp\n",
    "dt.timestamp()"
   ]
  },
  {
   "cell_type": "code",
   "execution_count": 69,
   "id": "97eaa1f9",
   "metadata": {
    "scrolled": true
   },
   "outputs": [
    {
     "data": {
      "text/plain": [
       "datetime.datetime(2021, 10, 3, 9, 33, 30)"
      ]
     },
     "execution_count": 69,
     "metadata": {},
     "output_type": "execute_result"
    }
   ],
   "source": [
    "# Convert from unix \n",
    "datetime.fromtimestamp(1633246410)"
   ]
  },
  {
   "cell_type": "markdown",
   "id": "5f243a09",
   "metadata": {},
   "source": [
    "# Exception Handling"
   ]
  },
  {
   "cell_type": "code",
   "execution_count": 70,
   "id": "06607035",
   "metadata": {},
   "outputs": [
    {
     "ename": "SyntaxError",
     "evalue": "invalid syntax (<ipython-input-70-40bc66e60784>, line 2)",
     "output_type": "error",
     "traceback": [
      "\u001b[0;36m  File \u001b[0;32m\"<ipython-input-70-40bc66e60784>\"\u001b[0;36m, line \u001b[0;32m2\u001b[0m\n\u001b[0;31m    while True print(\"Hello\")\u001b[0m\n\u001b[0m               ^\u001b[0m\n\u001b[0;31mSyntaxError\u001b[0m\u001b[0;31m:\u001b[0m invalid syntax\n"
     ]
    }
   ],
   "source": [
    "# invalid syntax\n",
    "while True print(\"Hello\")"
   ]
  },
  {
   "cell_type": "code",
   "execution_count": 71,
   "id": "64b55f6b",
   "metadata": {},
   "outputs": [
    {
     "ename": "ZeroDivisionError",
     "evalue": "division by zero",
     "output_type": "error",
     "traceback": [
      "\u001b[0;31m---------------------------------------------------------------------------\u001b[0m",
      "\u001b[0;31mZeroDivisionError\u001b[0m                         Traceback (most recent call last)",
      "\u001b[0;32m<ipython-input-71-6413183c4655>\u001b[0m in \u001b[0;36m<module>\u001b[0;34m\u001b[0m\n\u001b[1;32m      1\u001b[0m \u001b[0;31m# Divide by 0\u001b[0m\u001b[0;34m\u001b[0m\u001b[0;34m\u001b[0m\u001b[0;34m\u001b[0m\u001b[0m\n\u001b[0;32m----> 2\u001b[0;31m \u001b[0;36m1\u001b[0m \u001b[0;34m/\u001b[0m \u001b[0;36m0\u001b[0m\u001b[0;34m\u001b[0m\u001b[0;34m\u001b[0m\u001b[0m\n\u001b[0m",
      "\u001b[0;31mZeroDivisionError\u001b[0m: division by zero"
     ]
    }
   ],
   "source": [
    "# Divide by 0\n",
    "1 / 0"
   ]
  },
  {
   "cell_type": "code",
   "execution_count": 72,
   "id": "94577485",
   "metadata": {},
   "outputs": [
    {
     "name": "stdout",
     "output_type": "stream",
     "text": [
      "You cannot divide by 0\n"
     ]
    }
   ],
   "source": [
    "# Try/except ZeroDivisionError\n",
    "try:\n",
    "    print(1 / 0)\n",
    "except ZeroDivisionError:\n",
    "    print(\"You cannot divide by 0\")"
   ]
  },
  {
   "cell_type": "code",
   "execution_count": 81,
   "id": "06ebebeb",
   "metadata": {
    "scrolled": true
   },
   "outputs": [
    {
     "name": "stdout",
     "output_type": "stream",
     "text": [
      "A number: 2\n",
      "4\n"
     ]
    }
   ],
   "source": [
    "# Ask user for number (int vs str)\n",
    "number = int(input(\"A number: \"))\n",
    "print(number * 2)"
   ]
  },
  {
   "cell_type": "code",
   "execution_count": 87,
   "id": "410104ab",
   "metadata": {},
   "outputs": [
    {
     "name": "stdout",
     "output_type": "stream",
     "text": [
      "A number: 0\n",
      "Unexpected error:  <class 'ZeroDivisionError'> division by zero\n"
     ]
    }
   ],
   "source": [
    "# Ask user with bare exception handling (100 / number)\n",
    "# What happens if user enters 0? Also 0 is a valid number\n",
    "try:\n",
    "    number = int(input(\"A number: \"))\n",
    "    print(100 / number)\n",
    "except ValueError:\n",
    "    print(\"Not a valid number, please enter a digit\")\n",
    "except ZeroDivisionError:\n",
    "    print(\"Give me a number above 0 please\")\n",
    "except Exception as err:\n",
    "    print(\"Unexpected error: \", type(err), err)"
   ]
  },
  {
   "cell_type": "code",
   "execution_count": 95,
   "id": "a5731417",
   "metadata": {
    "scrolled": true
   },
   "outputs": [
    {
     "name": "stdout",
     "output_type": "stream",
     "text": [
      "Member does not have phone number listed\n",
      "Always prints, regardless if there was an error or not...\n"
     ]
    }
   ],
   "source": [
    "# Member dict (name, company)\n",
    "member = {\"name\": \"Daniel\", \"company\": \"Heineken\"}\n",
    "\n",
    "try:\n",
    "    print(member[\"phone\"])\n",
    "except KeyError:\n",
    "    print(\"Member does not have phone number listed\")\n",
    "finally:\n",
    "    print(\"Always prints, regardless if there was an error or not...\")\n"
   ]
  },
  {
   "cell_type": "markdown",
   "id": "126b10b0",
   "metadata": {},
   "source": [
    "→ 📗 Exercises"
   ]
  },
  {
   "cell_type": "code",
   "execution_count": 97,
   "id": "994e8795",
   "metadata": {},
   "outputs": [
    {
     "name": "stdout",
     "output_type": "stream",
     "text": [
      "not found...\n"
     ]
    }
   ],
   "source": [
    "# Exercise 2\n",
    "try:\n",
    "    with open('no_file.txt') as f:\n",
    "        text = f.read()\n",
    "except FileNotFoundError:\n",
    "    print(\"not found...\")"
   ]
  },
  {
   "cell_type": "markdown",
   "id": "dee6cad0",
   "metadata": {},
   "source": [
    "# Regular Expressions (regex)"
   ]
  },
  {
   "cell_type": "code",
   "execution_count": 98,
   "id": "7c15ac62",
   "metadata": {},
   "outputs": [],
   "source": [
    "# Import\n",
    "import re"
   ]
  },
  {
   "cell_type": "code",
   "execution_count": 103,
   "id": "5b356403",
   "metadata": {},
   "outputs": [],
   "source": [
    "# Pattern & string\n",
    "pattern = \"\\d{4}\"\n",
    "string = \"The year was 1999 and all the systems were about to break.\""
   ]
  },
  {
   "cell_type": "code",
   "execution_count": 104,
   "id": "ed1c8866",
   "metadata": {},
   "outputs": [],
   "source": [
    "# Search and save in result\n",
    "result = re.search(pattern, string)"
   ]
  },
  {
   "cell_type": "code",
   "execution_count": 106,
   "id": "e3281bc9",
   "metadata": {},
   "outputs": [
    {
     "name": "stdout",
     "output_type": "stream",
     "text": [
      "1999\n"
     ]
    }
   ],
   "source": [
    "# Print result (group)\n",
    "print(result.group())"
   ]
  },
  {
   "cell_type": "code",
   "execution_count": 107,
   "id": "d3cd72d3",
   "metadata": {},
   "outputs": [
    {
     "data": {
      "text/plain": [
       "True"
      ]
     },
     "execution_count": 107,
     "metadata": {},
     "output_type": "execute_result"
    }
   ],
   "source": [
    "# Check if result has a value with bool()\n",
    "bool(result)"
   ]
  },
  {
   "cell_type": "code",
   "execution_count": 108,
   "id": "041f0eb2",
   "metadata": {},
   "outputs": [
    {
     "name": "stdout",
     "output_type": "stream",
     "text": [
      "1999\n"
     ]
    }
   ],
   "source": [
    "# If found\n",
    "if result:\n",
    "    print(result.group())"
   ]
  },
  {
   "cell_type": "code",
   "execution_count": 123,
   "id": "7b3728c9",
   "metadata": {},
   "outputs": [
    {
     "name": "stdout",
     "output_type": "stream",
     "text": [
      "john@doe.com\n"
     ]
    }
   ],
   "source": [
    "# Another example\n",
    "pattern = \"\\w+@\\w+\\.\\w+\"\n",
    "string = \"The user's e-mail is john@doe.com and he lives in Dublin.\"\n",
    "\n",
    "result = re.search(pattern, string)\n",
    "print(result.group())"
   ]
  },
  {
   "cell_type": "markdown",
   "id": "29c905bc",
   "metadata": {},
   "source": [
    "### Character meanings\n",
    "\n",
    "| Characters | Description                                 | Example      |\n",
    "|------------|---------------------------------------------|--------------|\n",
    "| [ ]        | A set of characters                         | \"[a-z]\"      |\n",
    "| \\          | Special sequence or escape character        | \"\\w\"         |\n",
    "| .          | Any character (except newline character)    | \"he..o\"      |\n",
    "| ^          | Starts with                                 | \"^hello\"     |\n",
    "| \\$         | Ends with                                   | \"world\\$\"    |\n",
    "| *          | Zero or more occurrences                    | \"ing*\"       |\n",
    "| +          | One or more occurrences                     | \"ing+\"       |\n",
    "| {}         | Exactly the specified number of occurrences | \"p{2}\"       |\n",
    "| |          | Either or                                   | \"in|out\"     |\n",
    "| ( )        | Capture and group                           | \"([a-z]{4})\" |\n",
    "\n"
   ]
  },
  {
   "cell_type": "markdown",
   "id": "aeaae2d8",
   "metadata": {},
   "source": [
    "| Characters | Description                                              |\n",
    "|------------|----------------------------------------------------------|\n",
    "| \\d         | A digit. It is the equivalent of [0-9]                   |\n",
    "| \\D         | Any character except a digit                             |\n",
    "| \\w         | A word character (letters, digits, or underscore)        |\n",
    "| \\W         | Any character except a word character                    |\n",
    "| \\s         | A whitespace character (e.g., space, tab, newline, etc.) |\n",
    "| \\S         | Any character except a whitespace character.             |\n",
    "\n"
   ]
  },
  {
   "cell_type": "markdown",
   "id": "780d5d8a",
   "metadata": {},
   "source": [
    "### Methods\n",
    "\n",
    "| Method                   | Description                                                                                                                                        | Example                                 |\n",
    "|--------------------------|----------------------------------------------------------------------------------------------------------------------------------------------------|-----------------------------------------|\n",
    "| match(pattern, string)   | If zero or more characters at the beginning of string match this regular expression, return a corresponding match object.                          | \"hello world\".replace(\"world\", \"earth\") |\n",
    "| search(pattern, string)  | Scan through string looking for the first location where the regular expression pattern produces a match, and return a corresponding match object. | \"hello world\".split()                   |\n",
    "| findall(pattern, string) | Return all non-overlapping matches of pattern in string, as a list of strings.                                                                     | \"hello world\".startswith(\"h\")           |\n",
    "\n"
   ]
  },
  {
   "cell_type": "code",
   "execution_count": 141,
   "id": "11a08d78",
   "metadata": {},
   "outputs": [
    {
     "name": "stdout",
     "output_type": "stream",
     "text": [
      "2006/09-19\n"
     ]
    }
   ],
   "source": [
    "# Example log file from OSSEC (an open source Host based Intrusion Detection System)\n",
    "pattern = \"\\d{4}[-/]\\d{2}-\\d{2}\"\n",
    "string = \"2006-09-19 03:26:26 DROP UDP 172.20.73.241 239.255.255.250 2250 1900 315\"\n",
    "\n",
    "result = re.search(pattern, string)\n",
    "if result:\n",
    "    print(result.group())"
   ]
  },
  {
   "cell_type": "code",
   "execution_count": 138,
   "id": "1b4361c5",
   "metadata": {
    "scrolled": false
   },
   "outputs": [
    {
     "name": "stdout",
     "output_type": "stream",
     "text": [
      "john@doe.com\n",
      "john\n",
      "doe.com\n",
      "com\n"
     ]
    }
   ],
   "source": [
    "# Optional: Groups (email address)\n",
    "pattern = \"(\\w+)@(\\w+\\.(\\w+))\"\n",
    "string = \"The user's e-mail is john@doe.com and he lives in Dublin.\"\n",
    "\n",
    "result = re.search(pattern, string)\n",
    "\n",
    "email = result.group(0)\n",
    "username = result.group(1)\n",
    "domain = result.group(2)\n",
    "domain_type = result.group(3)\n",
    "\n",
    "print(email)\n",
    "print(username)\n",
    "print(domain)\n",
    "print(domain_type)"
   ]
  },
  {
   "cell_type": "code",
   "execution_count": 142,
   "id": "1b4c6069",
   "metadata": {},
   "outputs": [
    {
     "name": "stdout",
     "output_type": "stream",
     "text": [
      "1999\n"
     ]
    }
   ],
   "source": [
    "# Key concept\n",
    "import re\n",
    "pattern = \"\\d{4}\"\n",
    "string = \"The year was 1999 and all the systems were about to break.\"\n",
    "result = re.search(pattern, string)\n",
    "print(result.group())"
   ]
  },
  {
   "cell_type": "markdown",
   "id": "6fe630ca",
   "metadata": {},
   "source": [
    "# Scripts"
   ]
  },
  {
   "cell_type": "code",
   "execution_count": null,
   "id": "7484ee74",
   "metadata": {},
   "outputs": [],
   "source": [
    "\"\"\"\n",
    "Demo script \"greet.py\"\n",
    "Run in from the terminal with \"python greet.py John\"\n",
    "\"\"\"\n",
    "import sys\n",
    "\n",
    "\n",
    "def main():\n",
    "    print(sys.argv)\n",
    "    name = sys.argv[1]\n",
    "    print_greeting(name)\n",
    "\n",
    "\n",
    "def print_greeting(name):\n",
    "    print(f\"Hello {name}, how are you?\")\n",
    "\n",
    "\n",
    "main()"
   ]
  },
  {
   "cell_type": "markdown",
   "id": "f870a907",
   "metadata": {},
   "source": [
    "#### Exercise\n",
    "Create a file called `calc.py`. You should be able to run it with 3 arguments: two numbers and an operator. It should behave as follows:\n",
    "```bash\n",
    "$ python calc.py 4 + 5 \n",
    "9 \n",
    "$ python calc.py 8 - 3 \n",
    "5\n",
    "$ python calc.py 2 \"*\" 2 \n",
    "4\n",
    "```"
   ]
  },
  {
   "cell_type": "markdown",
   "id": "20ca09d8",
   "metadata": {},
   "source": [
    "# Unix Shell Commands"
   ]
  },
  {
   "cell_type": "code",
   "execution_count": 171,
   "id": "010a8ad3",
   "metadata": {},
   "outputs": [],
   "source": [
    "# Import the module\n",
    "import subprocess"
   ]
  },
  {
   "cell_type": "code",
   "execution_count": 177,
   "id": "6c76ab81",
   "metadata": {},
   "outputs": [
    {
     "data": {
      "text/plain": [
       "CompletedProcess(args=['ls', '-l'], returncode=0)"
      ]
     },
     "execution_count": 177,
     "metadata": {},
     "output_type": "execute_result"
    }
   ],
   "source": [
    "# Demo run with ls -l\n",
    "subprocess.run([\"ls\", \"-l\"])"
   ]
  },
  {
   "cell_type": "code",
   "execution_count": 178,
   "id": "b86655d0",
   "metadata": {
    "scrolled": true
   },
   "outputs": [],
   "source": [
    "# Capture output\n",
    "# subprocess.run([\"ls\", \"-l\"], capture_output=True)"
   ]
  },
  {
   "cell_type": "code",
   "execution_count": 179,
   "id": "f1003c3e",
   "metadata": {},
   "outputs": [],
   "source": [
    "# Capture output, save in result\n",
    "result = subprocess.run([\"ls\", \"-l\"], capture_output=True)\n",
    "# print(result.stdout)"
   ]
  },
  {
   "cell_type": "code",
   "execution_count": 180,
   "id": "702c0335",
   "metadata": {},
   "outputs": [],
   "source": [
    "# Capture std with text=True\n",
    "result = subprocess.run([\"ls\", \"-l\"], capture_output=True, text=True)\n",
    "# print(result.stdout)"
   ]
  },
  {
   "cell_type": "code",
   "execution_count": 154,
   "id": "37a070ed",
   "metadata": {},
   "outputs": [],
   "source": [
    "# On Python < 3.7: Pipe stdout\n",
    "c = subprocess.run([\"ls\", \"-l\"], stdout=subprocess.PIPE, stderr=subprocess.PIPE)\n",
    "# print(c.stdout)"
   ]
  },
  {
   "cell_type": "code",
   "execution_count": 157,
   "id": "2e0814f1",
   "metadata": {
    "collapsed": true
   },
   "outputs": [
    {
     "ename": "CalledProcessError",
     "evalue": "Command 'exit 1' returned non-zero exit status 1.",
     "output_type": "error",
     "traceback": [
      "\u001b[0;31m---------------------------------------------------------------------------\u001b[0m",
      "\u001b[0;31mCalledProcessError\u001b[0m                        Traceback (most recent call last)",
      "\u001b[0;32m<ipython-input-157-32f3d8b1f4e2>\u001b[0m in \u001b[0;36m<module>\u001b[0;34m\u001b[0m\n\u001b[1;32m      1\u001b[0m \u001b[0;31m# Demo shell & check\u001b[0m\u001b[0;34m\u001b[0m\u001b[0;34m\u001b[0m\u001b[0;34m\u001b[0m\u001b[0m\n\u001b[0;32m----> 2\u001b[0;31m \u001b[0msubprocess\u001b[0m\u001b[0;34m.\u001b[0m\u001b[0mrun\u001b[0m\u001b[0;34m(\u001b[0m\u001b[0;34m\"exit 1\"\u001b[0m\u001b[0;34m,\u001b[0m \u001b[0mshell\u001b[0m\u001b[0;34m=\u001b[0m\u001b[0;32mTrue\u001b[0m\u001b[0;34m,\u001b[0m \u001b[0mcheck\u001b[0m\u001b[0;34m=\u001b[0m\u001b[0;32mTrue\u001b[0m\u001b[0;34m)\u001b[0m\u001b[0;34m\u001b[0m\u001b[0;34m\u001b[0m\u001b[0m\n\u001b[0m",
      "\u001b[0;32m/Applications/anaconda3/envs/python39/lib/python3.9/subprocess.py\u001b[0m in \u001b[0;36mrun\u001b[0;34m(input, capture_output, timeout, check, *popenargs, **kwargs)\u001b[0m\n\u001b[1;32m    526\u001b[0m         \u001b[0mretcode\u001b[0m \u001b[0;34m=\u001b[0m \u001b[0mprocess\u001b[0m\u001b[0;34m.\u001b[0m\u001b[0mpoll\u001b[0m\u001b[0;34m(\u001b[0m\u001b[0;34m)\u001b[0m\u001b[0;34m\u001b[0m\u001b[0;34m\u001b[0m\u001b[0m\n\u001b[1;32m    527\u001b[0m         \u001b[0;32mif\u001b[0m \u001b[0mcheck\u001b[0m \u001b[0;32mand\u001b[0m \u001b[0mretcode\u001b[0m\u001b[0;34m:\u001b[0m\u001b[0;34m\u001b[0m\u001b[0;34m\u001b[0m\u001b[0m\n\u001b[0;32m--> 528\u001b[0;31m             raise CalledProcessError(retcode, process.args,\n\u001b[0m\u001b[1;32m    529\u001b[0m                                      output=stdout, stderr=stderr)\n\u001b[1;32m    530\u001b[0m     \u001b[0;32mreturn\u001b[0m \u001b[0mCompletedProcess\u001b[0m\u001b[0;34m(\u001b[0m\u001b[0mprocess\u001b[0m\u001b[0;34m.\u001b[0m\u001b[0margs\u001b[0m\u001b[0;34m,\u001b[0m \u001b[0mretcode\u001b[0m\u001b[0;34m,\u001b[0m \u001b[0mstdout\u001b[0m\u001b[0;34m,\u001b[0m \u001b[0mstderr\u001b[0m\u001b[0;34m)\u001b[0m\u001b[0;34m\u001b[0m\u001b[0;34m\u001b[0m\u001b[0m\n",
      "\u001b[0;31mCalledProcessError\u001b[0m: Command 'exit 1' returned non-zero exit status 1."
     ]
    }
   ],
   "source": [
    "# Demo shell & check\n",
    "subprocess.run(\"exit 1\", shell=True, check=True)"
   ]
  },
  {
   "cell_type": "code",
   "execution_count": 181,
   "id": "333a942c",
   "metadata": {
    "collapsed": true
   },
   "outputs": [
    {
     "ename": "KeyboardInterrupt",
     "evalue": "",
     "output_type": "error",
     "traceback": [
      "\u001b[0;31m---------------------------------------------------------------------------\u001b[0m",
      "\u001b[0;31mKeyboardInterrupt\u001b[0m                         Traceback (most recent call last)",
      "\u001b[0;32m<ipython-input-181-563d89b19ed8>\u001b[0m in \u001b[0;36m<module>\u001b[0;34m\u001b[0m\n\u001b[0;32m----> 1\u001b[0;31m \u001b[0msubprocess\u001b[0m\u001b[0;34m.\u001b[0m\u001b[0mrun\u001b[0m\u001b[0;34m(\u001b[0m\u001b[0;34m[\u001b[0m\u001b[0;34m\"vimdiff\"\u001b[0m\u001b[0;34m,\u001b[0m \u001b[0;34m\"demo.py\"\u001b[0m\u001b[0;34m,\u001b[0m \u001b[0;34m\"demo2.py\"\u001b[0m\u001b[0;34m]\u001b[0m\u001b[0;34m)\u001b[0m\u001b[0;34m\u001b[0m\u001b[0;34m\u001b[0m\u001b[0m\n\u001b[0m",
      "\u001b[0;32m/Applications/anaconda3/envs/python39/lib/python3.9/subprocess.py\u001b[0m in \u001b[0;36mrun\u001b[0;34m(input, capture_output, timeout, check, *popenargs, **kwargs)\u001b[0m\n\u001b[1;32m    505\u001b[0m     \u001b[0;32mwith\u001b[0m \u001b[0mPopen\u001b[0m\u001b[0;34m(\u001b[0m\u001b[0;34m*\u001b[0m\u001b[0mpopenargs\u001b[0m\u001b[0;34m,\u001b[0m \u001b[0;34m**\u001b[0m\u001b[0mkwargs\u001b[0m\u001b[0;34m)\u001b[0m \u001b[0;32mas\u001b[0m \u001b[0mprocess\u001b[0m\u001b[0;34m:\u001b[0m\u001b[0;34m\u001b[0m\u001b[0;34m\u001b[0m\u001b[0m\n\u001b[1;32m    506\u001b[0m         \u001b[0;32mtry\u001b[0m\u001b[0;34m:\u001b[0m\u001b[0;34m\u001b[0m\u001b[0;34m\u001b[0m\u001b[0m\n\u001b[0;32m--> 507\u001b[0;31m             \u001b[0mstdout\u001b[0m\u001b[0;34m,\u001b[0m \u001b[0mstderr\u001b[0m \u001b[0;34m=\u001b[0m \u001b[0mprocess\u001b[0m\u001b[0;34m.\u001b[0m\u001b[0mcommunicate\u001b[0m\u001b[0;34m(\u001b[0m\u001b[0minput\u001b[0m\u001b[0;34m,\u001b[0m \u001b[0mtimeout\u001b[0m\u001b[0;34m=\u001b[0m\u001b[0mtimeout\u001b[0m\u001b[0;34m)\u001b[0m\u001b[0;34m\u001b[0m\u001b[0;34m\u001b[0m\u001b[0m\n\u001b[0m\u001b[1;32m    508\u001b[0m         \u001b[0;32mexcept\u001b[0m \u001b[0mTimeoutExpired\u001b[0m \u001b[0;32mas\u001b[0m \u001b[0mexc\u001b[0m\u001b[0;34m:\u001b[0m\u001b[0;34m\u001b[0m\u001b[0;34m\u001b[0m\u001b[0m\n\u001b[1;32m    509\u001b[0m             \u001b[0mprocess\u001b[0m\u001b[0;34m.\u001b[0m\u001b[0mkill\u001b[0m\u001b[0;34m(\u001b[0m\u001b[0;34m)\u001b[0m\u001b[0;34m\u001b[0m\u001b[0;34m\u001b[0m\u001b[0m\n",
      "\u001b[0;32m/Applications/anaconda3/envs/python39/lib/python3.9/subprocess.py\u001b[0m in \u001b[0;36mcommunicate\u001b[0;34m(self, input, timeout)\u001b[0m\n\u001b[1;32m   1124\u001b[0m                 \u001b[0mstderr\u001b[0m \u001b[0;34m=\u001b[0m \u001b[0mself\u001b[0m\u001b[0;34m.\u001b[0m\u001b[0mstderr\u001b[0m\u001b[0;34m.\u001b[0m\u001b[0mread\u001b[0m\u001b[0;34m(\u001b[0m\u001b[0;34m)\u001b[0m\u001b[0;34m\u001b[0m\u001b[0;34m\u001b[0m\u001b[0m\n\u001b[1;32m   1125\u001b[0m                 \u001b[0mself\u001b[0m\u001b[0;34m.\u001b[0m\u001b[0mstderr\u001b[0m\u001b[0;34m.\u001b[0m\u001b[0mclose\u001b[0m\u001b[0;34m(\u001b[0m\u001b[0;34m)\u001b[0m\u001b[0;34m\u001b[0m\u001b[0;34m\u001b[0m\u001b[0m\n\u001b[0;32m-> 1126\u001b[0;31m             \u001b[0mself\u001b[0m\u001b[0;34m.\u001b[0m\u001b[0mwait\u001b[0m\u001b[0;34m(\u001b[0m\u001b[0;34m)\u001b[0m\u001b[0;34m\u001b[0m\u001b[0;34m\u001b[0m\u001b[0m\n\u001b[0m\u001b[1;32m   1127\u001b[0m         \u001b[0;32melse\u001b[0m\u001b[0;34m:\u001b[0m\u001b[0;34m\u001b[0m\u001b[0;34m\u001b[0m\u001b[0m\n\u001b[1;32m   1128\u001b[0m             \u001b[0;32mif\u001b[0m \u001b[0mtimeout\u001b[0m \u001b[0;32mis\u001b[0m \u001b[0;32mnot\u001b[0m \u001b[0;32mNone\u001b[0m\u001b[0;34m:\u001b[0m\u001b[0;34m\u001b[0m\u001b[0;34m\u001b[0m\u001b[0m\n",
      "\u001b[0;32m/Applications/anaconda3/envs/python39/lib/python3.9/subprocess.py\u001b[0m in \u001b[0;36mwait\u001b[0;34m(self, timeout)\u001b[0m\n\u001b[1;32m   1187\u001b[0m             \u001b[0mendtime\u001b[0m \u001b[0;34m=\u001b[0m \u001b[0m_time\u001b[0m\u001b[0;34m(\u001b[0m\u001b[0;34m)\u001b[0m \u001b[0;34m+\u001b[0m \u001b[0mtimeout\u001b[0m\u001b[0;34m\u001b[0m\u001b[0;34m\u001b[0m\u001b[0m\n\u001b[1;32m   1188\u001b[0m         \u001b[0;32mtry\u001b[0m\u001b[0;34m:\u001b[0m\u001b[0;34m\u001b[0m\u001b[0;34m\u001b[0m\u001b[0m\n\u001b[0;32m-> 1189\u001b[0;31m             \u001b[0;32mreturn\u001b[0m \u001b[0mself\u001b[0m\u001b[0;34m.\u001b[0m\u001b[0m_wait\u001b[0m\u001b[0;34m(\u001b[0m\u001b[0mtimeout\u001b[0m\u001b[0;34m=\u001b[0m\u001b[0mtimeout\u001b[0m\u001b[0;34m)\u001b[0m\u001b[0;34m\u001b[0m\u001b[0;34m\u001b[0m\u001b[0m\n\u001b[0m\u001b[1;32m   1190\u001b[0m         \u001b[0;32mexcept\u001b[0m \u001b[0mKeyboardInterrupt\u001b[0m\u001b[0;34m:\u001b[0m\u001b[0;34m\u001b[0m\u001b[0;34m\u001b[0m\u001b[0m\n\u001b[1;32m   1191\u001b[0m             \u001b[0;31m# https://bugs.python.org/issue25942\u001b[0m\u001b[0;34m\u001b[0m\u001b[0;34m\u001b[0m\u001b[0;34m\u001b[0m\u001b[0m\n",
      "\u001b[0;32m/Applications/anaconda3/envs/python39/lib/python3.9/subprocess.py\u001b[0m in \u001b[0;36m_wait\u001b[0;34m(self, timeout)\u001b[0m\n\u001b[1;32m   1917\u001b[0m                         \u001b[0;32mif\u001b[0m \u001b[0mself\u001b[0m\u001b[0;34m.\u001b[0m\u001b[0mreturncode\u001b[0m \u001b[0;32mis\u001b[0m \u001b[0;32mnot\u001b[0m \u001b[0;32mNone\u001b[0m\u001b[0;34m:\u001b[0m\u001b[0;34m\u001b[0m\u001b[0;34m\u001b[0m\u001b[0m\n\u001b[1;32m   1918\u001b[0m                             \u001b[0;32mbreak\u001b[0m  \u001b[0;31m# Another thread waited.\u001b[0m\u001b[0;34m\u001b[0m\u001b[0;34m\u001b[0m\u001b[0m\n\u001b[0;32m-> 1919\u001b[0;31m                         \u001b[0;34m(\u001b[0m\u001b[0mpid\u001b[0m\u001b[0;34m,\u001b[0m \u001b[0msts\u001b[0m\u001b[0;34m)\u001b[0m \u001b[0;34m=\u001b[0m \u001b[0mself\u001b[0m\u001b[0;34m.\u001b[0m\u001b[0m_try_wait\u001b[0m\u001b[0;34m(\u001b[0m\u001b[0;36m0\u001b[0m\u001b[0;34m)\u001b[0m\u001b[0;34m\u001b[0m\u001b[0;34m\u001b[0m\u001b[0m\n\u001b[0m\u001b[1;32m   1920\u001b[0m                         \u001b[0;31m# Check the pid and loop as waitpid has been known to\u001b[0m\u001b[0;34m\u001b[0m\u001b[0;34m\u001b[0m\u001b[0;34m\u001b[0m\u001b[0m\n\u001b[1;32m   1921\u001b[0m                         \u001b[0;31m# return 0 even without WNOHANG in odd situations.\u001b[0m\u001b[0;34m\u001b[0m\u001b[0;34m\u001b[0m\u001b[0;34m\u001b[0m\u001b[0m\n",
      "\u001b[0;32m/Applications/anaconda3/envs/python39/lib/python3.9/subprocess.py\u001b[0m in \u001b[0;36m_try_wait\u001b[0;34m(self, wait_flags)\u001b[0m\n\u001b[1;32m   1875\u001b[0m             \u001b[0;34m\"\"\"All callers to this function MUST hold self._waitpid_lock.\"\"\"\u001b[0m\u001b[0;34m\u001b[0m\u001b[0;34m\u001b[0m\u001b[0m\n\u001b[1;32m   1876\u001b[0m             \u001b[0;32mtry\u001b[0m\u001b[0;34m:\u001b[0m\u001b[0;34m\u001b[0m\u001b[0;34m\u001b[0m\u001b[0m\n\u001b[0;32m-> 1877\u001b[0;31m                 \u001b[0;34m(\u001b[0m\u001b[0mpid\u001b[0m\u001b[0;34m,\u001b[0m \u001b[0msts\u001b[0m\u001b[0;34m)\u001b[0m \u001b[0;34m=\u001b[0m \u001b[0mos\u001b[0m\u001b[0;34m.\u001b[0m\u001b[0mwaitpid\u001b[0m\u001b[0;34m(\u001b[0m\u001b[0mself\u001b[0m\u001b[0;34m.\u001b[0m\u001b[0mpid\u001b[0m\u001b[0;34m,\u001b[0m \u001b[0mwait_flags\u001b[0m\u001b[0;34m)\u001b[0m\u001b[0;34m\u001b[0m\u001b[0;34m\u001b[0m\u001b[0m\n\u001b[0m\u001b[1;32m   1878\u001b[0m             \u001b[0;32mexcept\u001b[0m \u001b[0mChildProcessError\u001b[0m\u001b[0;34m:\u001b[0m\u001b[0;34m\u001b[0m\u001b[0;34m\u001b[0m\u001b[0m\n\u001b[1;32m   1879\u001b[0m                 \u001b[0;31m# This happens if SIGCLD is set to be ignored or waiting\u001b[0m\u001b[0;34m\u001b[0m\u001b[0;34m\u001b[0m\u001b[0;34m\u001b[0m\u001b[0m\n",
      "\u001b[0;31mKeyboardInterrupt\u001b[0m: "
     ]
    }
   ],
   "source": [
    "subprocess.run([\"vimdiff\", \"demo.py\", \"demo2.py\"])"
   ]
  },
  {
   "cell_type": "markdown",
   "id": "8fe4215c",
   "metadata": {},
   "source": [
    "# Logging"
   ]
  },
  {
   "cell_type": "code",
   "execution_count": 1,
   "id": "c1f8756f",
   "metadata": {},
   "outputs": [],
   "source": [
    "\"\"\"\n",
    "Best to run this as a Python file, not from Jupyter.\n",
    "Because Jupyter manages the logger and we won't be able \n",
    "to change the level.\n",
    "\"\"\"\n",
    "import logging\n",
    "\n",
    "logging.basicConfig(\n",
    "    level=logging.DEBUG,\n",
    "    format=\"%(asctime)s %(levelname)-8s %(message)s\",\n",
    "    filename=\"demo.log\",\n",
    "    filemode=\"a\",\n",
    ")\n",
    "\n",
    "logging.info(\"Hello from the logger!\")\n",
    "logging.debug(\"This will only show while debugging.\")\n",
    "\n",
    "\n",
    "def main():\n",
    "    logging.info(\"Starting the program\")\n",
    "    retrieve_data()\n",
    "    store_data()\n",
    "    logging.info(\"Ending the program\")\n",
    "\n",
    "\n",
    "def retrieve_data():\n",
    "    logging.info(\"Retrieving data...\")\n",
    "\n",
    "\n",
    "def store_data():\n",
    "    logging.info(\"Storing data...\")\n",
    "    \n",
    "\n",
    "if __name__ == '__main__':\n",
    "    main()"
   ]
  },
  {
   "cell_type": "code",
   "execution_count": null,
   "id": "db9687a5",
   "metadata": {},
   "outputs": [],
   "source": []
  }
 ],
 "metadata": {
  "kernelspec": {
   "display_name": "Python 3",
   "language": "python",
   "name": "python3"
  },
  "language_info": {
   "codemirror_mode": {
    "name": "ipython",
    "version": 3
   },
   "file_extension": ".py",
   "mimetype": "text/x-python",
   "name": "python",
   "nbconvert_exporter": "python",
   "pygments_lexer": "ipython3",
   "version": "3.9.2"
  }
 },
 "nbformat": 4,
 "nbformat_minor": 5
}
